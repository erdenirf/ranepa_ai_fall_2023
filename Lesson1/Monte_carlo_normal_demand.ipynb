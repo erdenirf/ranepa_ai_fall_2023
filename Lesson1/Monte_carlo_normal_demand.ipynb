{
 "cells": [
  {
   "cell_type": "code",
   "execution_count": 1,
   "id": "c348c24c-5604-49a1-85d6-a4df9b7a87f2",
   "metadata": {},
   "outputs": [],
   "source": [
    "import numpy as np\n",
    "import numpy.random as rnd\n",
    "import matplotlib.pyplot as plt\n",
    "import pandas as pd"
   ]
  },
  {
   "cell_type": "code",
   "execution_count": 3,
   "id": "8c6a9e89-322d-42e2-a2fd-fe1c06d4ee40",
   "metadata": {},
   "outputs": [
    {
     "name": "stdout",
     "output_type": "stream",
     "text": [
      "[60.465902   44.23065475 48.1820224  ... 60.05304353 60.3331552\n",
      " 50.42647452]\n"
     ]
    }
   ],
   "source": [
    "# спрос по нормальному распределению\n",
    "\n",
    "# 60 +- 10\n",
    "\n",
    "# 50..70\n",
    "\n",
    "mu = 60      #матожидание (на практике среднее)\n",
    "sigma = 10   #стандартное отклонение (среднеквадратичное отклонение)\n",
    "n = 10000\n",
    "customer_demand_normal = rnd.normal(mu, sigma, n)\n",
    "print(customer_demand_normal)"
   ]
  },
  {
   "cell_type": "code",
   "execution_count": 23,
   "id": "12519ff5",
   "metadata": {},
   "outputs": [],
   "source": [
    "customer_demand_normal2 = list(customer_demand_normal)\n",
    "customer_demand_normal2.append(300)"
   ]
  },
  {
   "cell_type": "code",
   "execution_count": 26,
   "id": "85ffe6eb",
   "metadata": {},
   "outputs": [],
   "source": [
    "customer_demand_normal2 = np.array(customer_demand_normal2)"
   ]
  },
  {
   "cell_type": "code",
   "execution_count": 27,
   "id": "a1b099cd-3125-4c92-8c58-b031f3140710",
   "metadata": {},
   "outputs": [
    {
     "data": {
      "image/png": "[encoded data removed]",
      "text/plain": [
       "<Figure size 640x480 with 1 Axes>"
      ]
     },
     "metadata": {},
     "output_type": "display_data"
    }
   ],
   "source": [
    "# построим график распределения спроса\n",
    "count, bins, ignored = plt.hist(customer_demand_normal2, 30, density=True)\n",
    "plt.plot(bins, 1/(sigma * np.sqrt(2 * np.pi)) *\n",
    "         np.exp( - (bins - mu)**2 / (2 * sigma**2) ),\n",
    "         linewidth=2, color='r')\n",
    "plt.show()"
   ]
  },
  {
   "cell_type": "code",
   "execution_count": 4,
   "id": "f0a2f897",
   "metadata": {},
   "outputs": [
    {
     "data": {
      "text/plain": [
       "20"
      ]
     },
     "execution_count": 4,
     "metadata": {},
     "output_type": "execute_result"
    }
   ],
   "source": [
    "sigma * 2"
   ]
  },
  {
   "cell_type": "code",
   "execution_count": 5,
   "id": "9f016316",
   "metadata": {},
   "outputs": [
    {
     "data": {
      "text/plain": [
       "array([57.49557327, 59.53316612, 69.94619584, ..., 50.82686452,\n",
       "       56.88177844, 57.37797986])"
      ]
     },
     "execution_count": 5,
     "metadata": {},
     "output_type": "execute_result"
    }
   ],
   "source": [
    "customer_demand_normal"
   ]
  },
  {
   "cell_type": "code",
   "execution_count": 6,
   "id": "2d4a21c8",
   "metadata": {},
   "outputs": [
    {
     "data": {
      "text/plain": [
       "10000"
      ]
     },
     "execution_count": 6,
     "metadata": {},
     "output_type": "execute_result"
    }
   ],
   "source": [
    "len(customer_demand_normal)"
   ]
  },
  {
   "cell_type": "code",
   "execution_count": 28,
   "id": "7435e795",
   "metadata": {},
   "outputs": [],
   "source": [
    "df = pd.DataFrame(customer_demand_normal2)"
   ]
  },
  {
   "cell_type": "code",
   "execution_count": 30,
   "id": "fea1a7d9",
   "metadata": {},
   "outputs": [
    {
     "data": {
      "text/html": [
       "<div>\n",
       "<style scoped>\n",
       "    .dataframe tbody tr th:only-of-type {\n",
       "        vertical-align: middle;\n",
       "    }\n",
       "\n",
       "    .dataframe tbody tr th {\n",
       "        vertical-align: top;\n",
       "    }\n",
       "\n",
       "    .dataframe thead th {\n",
       "        text-align: right;\n",
       "    }\n",
       "</style>\n",
       "<table border=\"1\" class=\"dataframe\">\n",
       "  <thead>\n",
       "    <tr style=\"text-align: right;\">\n",
       "      <th></th>\n",
       "      <th>0</th>\n",
       "    </tr>\n",
       "  </thead>\n",
       "  <tbody>\n",
       "    <tr>\n",
       "      <th>count</th>\n",
       "      <td>10001.000000</td>\n",
       "    </tr>\n",
       "    <tr>\n",
       "      <th>mean</th>\n",
       "      <td>60.251039</td>\n",
       "    </tr>\n",
       "    <tr>\n",
       "      <th>std</th>\n",
       "      <td>10.242009</td>\n",
       "    </tr>\n",
       "    <tr>\n",
       "      <th>min</th>\n",
       "      <td>22.570032</td>\n",
       "    </tr>\n",
       "    <tr>\n",
       "      <th>25%</th>\n",
       "      <td>53.636204</td>\n",
       "    </tr>\n",
       "    <tr>\n",
       "      <th>50%</th>\n",
       "      <td>60.096546</td>\n",
       "    </tr>\n",
       "    <tr>\n",
       "      <th>75%</th>\n",
       "      <td>66.861101</td>\n",
       "    </tr>\n",
       "    <tr>\n",
       "      <th>max</th>\n",
       "      <td>300.000000</td>\n",
       "    </tr>\n",
       "  </tbody>\n",
       "</table>\n",
       "</div>"
      ],
      "text/plain": [
       "                  0\n",
       "count  10001.000000\n",
       "mean      60.251039\n",
       "std       10.242009\n",
       "min       22.570032\n",
       "25%       53.636204\n",
       "50%       60.096546\n",
       "75%       66.861101\n",
       "max      300.000000"
      ]
     },
     "execution_count": 30,
     "metadata": {},
     "output_type": "execute_result"
    }
   ],
   "source": [
    "df.describe()"
   ]
  },
  {
   "cell_type": "code",
   "execution_count": 33,
   "id": "5e176016",
   "metadata": {},
   "outputs": [
    {
     "data": {
      "text/plain": [
       "28.983298513186845"
      ]
     },
     "execution_count": 33,
     "metadata": {},
     "output_type": "execute_result"
    }
   ],
   "source": [
    "df[0].quantile(0.001)"
   ]
  },
  {
   "cell_type": "code",
   "execution_count": 34,
   "id": "6b42e8ed",
   "metadata": {},
   "outputs": [
    {
     "data": {
      "text/plain": [
       "93.16074956277265"
      ]
     },
     "execution_count": 34,
     "metadata": {},
     "output_type": "execute_result"
    }
   ],
   "source": [
    "df[0].quantile(0.999)"
   ]
  },
  {
   "cell_type": "code",
   "execution_count": 11,
   "id": "ae647e83",
   "metadata": {},
   "outputs": [],
   "source": [
    "bool1 = df[0] > 40.63555712850728"
   ]
  },
  {
   "cell_type": "code",
   "execution_count": 12,
   "id": "bab84d08",
   "metadata": {},
   "outputs": [],
   "source": [
    "bool2 = df[0] < 79.93306582411716"
   ]
  },
  {
   "cell_type": "code",
   "execution_count": 13,
   "id": "fcd9a736",
   "metadata": {},
   "outputs": [
    {
     "data": {
      "text/html": [
       "<div>\n",
       "<style scoped>\n",
       "    .dataframe tbody tr th:only-of-type {\n",
       "        vertical-align: middle;\n",
       "    }\n",
       "\n",
       "    .dataframe tbody tr th {\n",
       "        vertical-align: top;\n",
       "    }\n",
       "\n",
       "    .dataframe thead th {\n",
       "        text-align: right;\n",
       "    }\n",
       "</style>\n",
       "<table border=\"1\" class=\"dataframe\">\n",
       "  <thead>\n",
       "    <tr style=\"text-align: right;\">\n",
       "      <th></th>\n",
       "      <th>0</th>\n",
       "    </tr>\n",
       "  </thead>\n",
       "  <tbody>\n",
       "    <tr>\n",
       "      <th>0</th>\n",
       "      <td>57.495573</td>\n",
       "    </tr>\n",
       "    <tr>\n",
       "      <th>1</th>\n",
       "      <td>59.533166</td>\n",
       "    </tr>\n",
       "    <tr>\n",
       "      <th>2</th>\n",
       "      <td>69.946196</td>\n",
       "    </tr>\n",
       "    <tr>\n",
       "      <th>3</th>\n",
       "      <td>45.036829</td>\n",
       "    </tr>\n",
       "    <tr>\n",
       "      <th>5</th>\n",
       "      <td>46.564137</td>\n",
       "    </tr>\n",
       "    <tr>\n",
       "      <th>...</th>\n",
       "      <td>...</td>\n",
       "    </tr>\n",
       "    <tr>\n",
       "      <th>9995</th>\n",
       "      <td>67.210328</td>\n",
       "    </tr>\n",
       "    <tr>\n",
       "      <th>9996</th>\n",
       "      <td>65.418825</td>\n",
       "    </tr>\n",
       "    <tr>\n",
       "      <th>9997</th>\n",
       "      <td>50.826865</td>\n",
       "    </tr>\n",
       "    <tr>\n",
       "      <th>9998</th>\n",
       "      <td>56.881778</td>\n",
       "    </tr>\n",
       "    <tr>\n",
       "      <th>9999</th>\n",
       "      <td>57.377980</td>\n",
       "    </tr>\n",
       "  </tbody>\n",
       "</table>\n",
       "<p>9514 rows × 1 columns</p>\n",
       "</div>"
      ],
      "text/plain": [
       "              0\n",
       "0     57.495573\n",
       "1     59.533166\n",
       "2     69.946196\n",
       "3     45.036829\n",
       "5     46.564137\n",
       "...         ...\n",
       "9995  67.210328\n",
       "9996  65.418825\n",
       "9997  50.826865\n",
       "9998  56.881778\n",
       "9999  57.377980\n",
       "\n",
       "[9514 rows x 1 columns]"
      ]
     },
     "execution_count": 13,
     "metadata": {},
     "output_type": "execute_result"
    }
   ],
   "source": [
    "df[bool1 & bool2]"
   ]
  },
  {
   "cell_type": "code",
   "execution_count": 14,
   "id": "71212ca8",
   "metadata": {},
   "outputs": [
    {
     "data": {
      "text/plain": [
       "array([[<Axes: title={'center': '0'}>]], dtype=object)"
      ]
     },
     "execution_count": 14,
     "metadata": {},
     "output_type": "execute_result"
    },
    {
     "data": {
      "image/png": "[encoded data removed]",
      "text/plain": [
       "<Figure size 640x480 with 1 Axes>"
      ]
     },
     "metadata": {},
     "output_type": "display_data"
    }
   ],
   "source": [
    "df[bool1 & bool2].hist()"
   ]
  },
  {
   "cell_type": "code",
   "execution_count": 16,
   "id": "7c2a7c74",
   "metadata": {},
   "outputs": [],
   "source": [
    "#Вывод:\n",
    "\n",
    "# 95% датасета лежит в пределах\n",
    "\n",
    "# 60 +- 2sigma\n",
    "\n",
    "# это означает, что 9500 из 10000 нагенерированных данных в диапазоне 40..80, которое равняется 60 +- 20"
   ]
  },
  {
   "cell_type": "code",
   "execution_count": null,
   "id": "c4ae7a9c-102f-48cd-9ad9-d14b6bd6e076",
   "metadata": {},
   "outputs": [],
   "source": []
  }
 ],
 "metadata": {
  "kernelspec": {
   "display_name": "Python 3 (ipykernel)",
   "language": "python",
   "name": "python3"
  },
  "language_info": {
   "codemirror_mode": {
    "name": "ipython",
    "version": 3
   },
   "file_extension": ".py",
   "mimetype": "text/x-python",
   "name": "python",
   "nbconvert_exporter": "python",
   "pygments_lexer": "ipython3",
   "version": "3.10.9"
  }
 },
 "nbformat": 4,
 "nbformat_minor": 5
}

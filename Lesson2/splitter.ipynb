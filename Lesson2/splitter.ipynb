{
 "cells": [
  {
   "cell_type": "code",
   "execution_count": 1,
   "metadata": {},
   "outputs": [],
   "source": [
    "import pandas as pd\n",
    "from sklearn.model_selection import train_test_split "
   ]
  },
  {
   "cell_type": "code",
   "execution_count": 2,
   "metadata": {},
   "outputs": [],
   "source": [
    "df = pd.read_csv('USA_Housing.csv')"
   ]
  },
  {
   "cell_type": "code",
   "execution_count": 3,
   "metadata": {},
   "outputs": [],
   "source": [
    "X = df.drop('Price',axis=1).values\n",
    "y = df['Price'].values"
   ]
  },
  {
   "cell_type": "code",
   "execution_count": 4,
   "metadata": {},
   "outputs": [],
   "source": [
    "X_train, X_test, y_train, y_test = train_test_split(X, y, test_size=0.2, random_state = 42)"
   ]
  },
  {
   "cell_type": "code",
   "execution_count": 15,
   "metadata": {},
   "outputs": [
    {
     "data": {
      "text/plain": [
       "1000"
      ]
     },
     "execution_count": 15,
     "metadata": {},
     "output_type": "execute_result"
    }
   ],
   "source": [
    "len(y_test)"
   ]
  },
  {
   "cell_type": "code",
   "execution_count": 5,
   "metadata": {},
   "outputs": [],
   "source": [
    "df_train_x = pd.DataFrame(X_train, columns=df.drop('Price',axis=1).columns)"
   ]
  },
  {
   "cell_type": "code",
   "execution_count": 6,
   "metadata": {},
   "outputs": [
    {
     "data": {
      "text/html": [
       "<div>\n",
       "<style scoped>\n",
       "    .dataframe tbody tr th:only-of-type {\n",
       "        vertical-align: middle;\n",
       "    }\n",
       "\n",
       "    .dataframe tbody tr th {\n",
       "        vertical-align: top;\n",
       "    }\n",
       "\n",
       "    .dataframe thead th {\n",
       "        text-align: right;\n",
       "    }\n",
       "</style>\n",
       "<table border=\"1\" class=\"dataframe\">\n",
       "  <thead>\n",
       "    <tr style=\"text-align: right;\">\n",
       "      <th></th>\n",
       "      <th>Avg. Area Income</th>\n",
       "      <th>Avg. Area House Age</th>\n",
       "      <th>Avg. Area Number of Rooms</th>\n",
       "      <th>Avg. Area Number of Bedrooms</th>\n",
       "      <th>Area Population</th>\n",
       "      <th>Address</th>\n",
       "    </tr>\n",
       "  </thead>\n",
       "  <tbody>\n",
       "    <tr>\n",
       "      <th>0</th>\n",
       "      <td>66547.016454</td>\n",
       "      <td>5.846095</td>\n",
       "      <td>6.847298</td>\n",
       "      <td>4.13</td>\n",
       "      <td>27850.822901</td>\n",
       "      <td>2288 Gary Square Apt. 812\\nWest Jose, PR 78536...</td>\n",
       "    </tr>\n",
       "    <tr>\n",
       "      <th>1</th>\n",
       "      <td>53722.008599</td>\n",
       "      <td>6.401391</td>\n",
       "      <td>7.787764</td>\n",
       "      <td>3.3</td>\n",
       "      <td>47649.224665</td>\n",
       "      <td>USS Williams\\nFPO AE 65283</td>\n",
       "    </tr>\n",
       "    <tr>\n",
       "      <th>2</th>\n",
       "      <td>64838.492899</td>\n",
       "      <td>6.437157</td>\n",
       "      <td>8.699544</td>\n",
       "      <td>4.02</td>\n",
       "      <td>32921.010068</td>\n",
       "      <td>Unit 2193 Box 7909\\nDPO AA 47323-2101</td>\n",
       "    </tr>\n",
       "    <tr>\n",
       "      <th>3</th>\n",
       "      <td>67097.09212</td>\n",
       "      <td>6.086754</td>\n",
       "      <td>7.211963</td>\n",
       "      <td>3.05</td>\n",
       "      <td>27191.506877</td>\n",
       "      <td>052 Thomas Square Apt. 034\\nWrightmouth, OR 04272</td>\n",
       "    </tr>\n",
       "    <tr>\n",
       "      <th>4</th>\n",
       "      <td>75245.465436</td>\n",
       "      <td>8.16782</td>\n",
       "      <td>7.4201</td>\n",
       "      <td>3.42</td>\n",
       "      <td>37410.669928</td>\n",
       "      <td>879 Martha Route Suite 031\\nNew Nichole, VI 60708</td>\n",
       "    </tr>\n",
       "    <tr>\n",
       "      <th>...</th>\n",
       "      <td>...</td>\n",
       "      <td>...</td>\n",
       "      <td>...</td>\n",
       "      <td>...</td>\n",
       "      <td>...</td>\n",
       "      <td>...</td>\n",
       "    </tr>\n",
       "    <tr>\n",
       "      <th>3995</th>\n",
       "      <td>76223.561256</td>\n",
       "      <td>6.371627</td>\n",
       "      <td>5.342217</td>\n",
       "      <td>2.42</td>\n",
       "      <td>30165.337445</td>\n",
       "      <td>8456 Rodgers Burg Apt. 215\\nSouth Michelle, NM...</td>\n",
       "    </tr>\n",
       "    <tr>\n",
       "      <th>3996</th>\n",
       "      <td>56685.014442</td>\n",
       "      <td>6.958045</td>\n",
       "      <td>7.502115</td>\n",
       "      <td>3.38</td>\n",
       "      <td>43322.166854</td>\n",
       "      <td>8584 Darrell Groves\\nBennettberg, SD 72404-6826</td>\n",
       "    </tr>\n",
       "    <tr>\n",
       "      <th>3997</th>\n",
       "      <td>66195.337714</td>\n",
       "      <td>6.507971</td>\n",
       "      <td>6.611861</td>\n",
       "      <td>3.14</td>\n",
       "      <td>37288.923574</td>\n",
       "      <td>8367 Manuel Road\\nNathanfort, AS 36077-1481</td>\n",
       "    </tr>\n",
       "    <tr>\n",
       "      <th>3998</th>\n",
       "      <td>58694.515017</td>\n",
       "      <td>7.394768</td>\n",
       "      <td>9.269453</td>\n",
       "      <td>4.32</td>\n",
       "      <td>49960.977236</td>\n",
       "      <td>Unit 7385 Box 9302\\nDPO AP 21450</td>\n",
       "    </tr>\n",
       "    <tr>\n",
       "      <th>3999</th>\n",
       "      <td>61162.580254</td>\n",
       "      <td>5.896316</td>\n",
       "      <td>7.880521</td>\n",
       "      <td>6.04</td>\n",
       "      <td>36033.701431</td>\n",
       "      <td>06275 Ross Mills Suite 054\\nLisastad, DC 67330</td>\n",
       "    </tr>\n",
       "  </tbody>\n",
       "</table>\n",
       "<p>4000 rows × 6 columns</p>\n",
       "</div>"
      ],
      "text/plain": [
       "     Avg. Area Income Avg. Area House Age Avg. Area Number of Rooms  \\\n",
       "0        66547.016454            5.846095                  6.847298   \n",
       "1        53722.008599            6.401391                  7.787764   \n",
       "2        64838.492899            6.437157                  8.699544   \n",
       "3         67097.09212            6.086754                  7.211963   \n",
       "4        75245.465436             8.16782                    7.4201   \n",
       "...               ...                 ...                       ...   \n",
       "3995     76223.561256            6.371627                  5.342217   \n",
       "3996     56685.014442            6.958045                  7.502115   \n",
       "3997     66195.337714            6.507971                  6.611861   \n",
       "3998     58694.515017            7.394768                  9.269453   \n",
       "3999     61162.580254            5.896316                  7.880521   \n",
       "\n",
       "     Avg. Area Number of Bedrooms Area Population  \\\n",
       "0                            4.13    27850.822901   \n",
       "1                             3.3    47649.224665   \n",
       "2                            4.02    32921.010068   \n",
       "3                            3.05    27191.506877   \n",
       "4                            3.42    37410.669928   \n",
       "...                           ...             ...   \n",
       "3995                         2.42    30165.337445   \n",
       "3996                         3.38    43322.166854   \n",
       "3997                         3.14    37288.923574   \n",
       "3998                         4.32    49960.977236   \n",
       "3999                         6.04    36033.701431   \n",
       "\n",
       "                                                Address  \n",
       "0     2288 Gary Square Apt. 812\\nWest Jose, PR 78536...  \n",
       "1                            USS Williams\\nFPO AE 65283  \n",
       "2                 Unit 2193 Box 7909\\nDPO AA 47323-2101  \n",
       "3     052 Thomas Square Apt. 034\\nWrightmouth, OR 04272  \n",
       "4     879 Martha Route Suite 031\\nNew Nichole, VI 60708  \n",
       "...                                                 ...  \n",
       "3995  8456 Rodgers Burg Apt. 215\\nSouth Michelle, NM...  \n",
       "3996    8584 Darrell Groves\\nBennettberg, SD 72404-6826  \n",
       "3997        8367 Manuel Road\\nNathanfort, AS 36077-1481  \n",
       "3998                   Unit 7385 Box 9302\\nDPO AP 21450  \n",
       "3999     06275 Ross Mills Suite 054\\nLisastad, DC 67330  \n",
       "\n",
       "[4000 rows x 6 columns]"
      ]
     },
     "execution_count": 6,
     "metadata": {},
     "output_type": "execute_result"
    }
   ],
   "source": [
    "df_train_x"
   ]
  },
  {
   "cell_type": "code",
   "execution_count": 7,
   "metadata": {},
   "outputs": [],
   "source": [
    "df_train_y = pd.DataFrame(y_train, columns=['Price'])"
   ]
  },
  {
   "cell_type": "code",
   "execution_count": 8,
   "metadata": {},
   "outputs": [
    {
     "data": {
      "text/html": [
       "<div>\n",
       "<style scoped>\n",
       "    .dataframe tbody tr th:only-of-type {\n",
       "        vertical-align: middle;\n",
       "    }\n",
       "\n",
       "    .dataframe tbody tr th {\n",
       "        vertical-align: top;\n",
       "    }\n",
       "\n",
       "    .dataframe thead th {\n",
       "        text-align: right;\n",
       "    }\n",
       "</style>\n",
       "<table border=\"1\" class=\"dataframe\">\n",
       "  <thead>\n",
       "    <tr style=\"text-align: right;\">\n",
       "      <th></th>\n",
       "      <th>Price</th>\n",
       "    </tr>\n",
       "  </thead>\n",
       "  <tbody>\n",
       "    <tr>\n",
       "      <th>0</th>\n",
       "      <td>1.094880e+06</td>\n",
       "    </tr>\n",
       "    <tr>\n",
       "      <th>1</th>\n",
       "      <td>1.300389e+06</td>\n",
       "    </tr>\n",
       "    <tr>\n",
       "      <th>2</th>\n",
       "      <td>1.382172e+06</td>\n",
       "    </tr>\n",
       "    <tr>\n",
       "      <th>3</th>\n",
       "      <td>1.027428e+06</td>\n",
       "    </tr>\n",
       "    <tr>\n",
       "      <th>4</th>\n",
       "      <td>1.562887e+06</td>\n",
       "    </tr>\n",
       "    <tr>\n",
       "      <th>...</th>\n",
       "      <td>...</td>\n",
       "    </tr>\n",
       "    <tr>\n",
       "      <th>3995</th>\n",
       "      <td>1.023944e+06</td>\n",
       "    </tr>\n",
       "    <tr>\n",
       "      <th>3996</th>\n",
       "      <td>1.223101e+06</td>\n",
       "    </tr>\n",
       "    <tr>\n",
       "      <th>3997</th>\n",
       "      <td>1.318598e+06</td>\n",
       "    </tr>\n",
       "    <tr>\n",
       "      <th>3998</th>\n",
       "      <td>1.708631e+06</td>\n",
       "    </tr>\n",
       "    <tr>\n",
       "      <th>3999</th>\n",
       "      <td>1.060898e+06</td>\n",
       "    </tr>\n",
       "  </tbody>\n",
       "</table>\n",
       "<p>4000 rows × 1 columns</p>\n",
       "</div>"
      ],
      "text/plain": [
       "             Price\n",
       "0     1.094880e+06\n",
       "1     1.300389e+06\n",
       "2     1.382172e+06\n",
       "3     1.027428e+06\n",
       "4     1.562887e+06\n",
       "...            ...\n",
       "3995  1.023944e+06\n",
       "3996  1.223101e+06\n",
       "3997  1.318598e+06\n",
       "3998  1.708631e+06\n",
       "3999  1.060898e+06\n",
       "\n",
       "[4000 rows x 1 columns]"
      ]
     },
     "execution_count": 8,
     "metadata": {},
     "output_type": "execute_result"
    }
   ],
   "source": [
    "df_train_y"
   ]
  },
  {
   "cell_type": "code",
   "execution_count": 9,
   "metadata": {},
   "outputs": [],
   "source": [
    "df_train = pd.concat([df_train_x, df_train_y], axis=1)"
   ]
  },
  {
   "cell_type": "code",
   "execution_count": 10,
   "metadata": {},
   "outputs": [],
   "source": [
    "df_train.to_csv(\"Erdeni_Houses_train.csv\")"
   ]
  },
  {
   "cell_type": "code",
   "execution_count": 11,
   "metadata": {},
   "outputs": [],
   "source": [
    "df_test_y = pd.DataFrame(X_test, columns=df.drop('Price',axis=1).columns)"
   ]
  },
  {
   "cell_type": "code",
   "execution_count": 12,
   "metadata": {},
   "outputs": [],
   "source": [
    "df_test_y.to_csv(\"Erdeni_Houses_test.csv\")"
   ]
  },
  {
   "cell_type": "code",
   "execution_count": 18,
   "metadata": {},
   "outputs": [],
   "source": [
    "pd.DataFrame(y_test, columns=[\"Price\"]).to_csv(\"Erdeni_Houses_y_true.csv\")"
   ]
  }
 ],
 "metadata": {
  "kernelspec": {
   "display_name": "base",
   "language": "python",
   "name": "python3"
  },
  "language_info": {
   "codemirror_mode": {
    "name": "ipython",
    "version": 3
   },
   "file_extension": ".py",
   "mimetype": "text/x-python",
   "name": "python",
   "nbconvert_exporter": "python",
   "pygments_lexer": "ipython3",
   "version": "3.10.9"
  },
  "orig_nbformat": 4
 },
 "nbformat": 4,
 "nbformat_minor": 2
}

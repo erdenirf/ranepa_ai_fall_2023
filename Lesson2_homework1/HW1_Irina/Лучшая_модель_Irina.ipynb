{
  "cells": [
    {
      "cell_type": "code",
      "execution_count": 1,
      "metadata": {
        "id": "DE1mq2xTsyJP"
      },
      "outputs": [],
      "source": [
        "import numpy as np\n",
        "import pandas as pd\n",
        "import seaborn as sns\n",
        "import matplotlib.pyplot as plt\n",
        "from sklearn.preprocessing import MinMaxScaler, StandardScaler, RobustScaler, Normalizer\n",
        "from sklearn.model_selection import train_test_split, cross_val_score, GridSearchCV, KFold"
      ]
    },
    {
      "cell_type": "code",
      "execution_count": 2,
      "metadata": {
        "id": "vW6yzA1-syJR"
      },
      "outputs": [],
      "source": [
        "import matplotlib.pyplot as plt"
      ]
    },
    {
      "cell_type": "code",
      "execution_count": 5,
      "metadata": {
        "id": "EHEzfhJ-zw7j"
      },
      "outputs": [],
      "source": [
        "testt = pd.read_csv('Erdeni_Houses_test.csv')\n",
        "test = pd.DataFrame(data = testt)\n",
        "test = test.drop(columns = ['Unnamed: 0', 'Address'])"
      ]
    },
    {
      "cell_type": "code",
      "execution_count": 7,
      "metadata": {
        "colab": {
          "base_uri": "https://localhost:8080/",
          "height": 458
        },
        "id": "bo6HnQzMGBfz",
        "outputId": "1ea3c38e-c2c5-402a-8d19-d8d9f2e8f1a4"
      },
      "outputs": [
        {
          "data": {
            "text/html": [
              "<div>\n",
              "<style scoped>\n",
              "    .dataframe tbody tr th:only-of-type {\n",
              "        vertical-align: middle;\n",
              "    }\n",
              "\n",
              "    .dataframe tbody tr th {\n",
              "        vertical-align: top;\n",
              "    }\n",
              "\n",
              "    .dataframe thead th {\n",
              "        text-align: right;\n",
              "    }\n",
              "</style>\n",
              "<table border=\"1\" class=\"dataframe\">\n",
              "  <thead>\n",
              "    <tr style=\"text-align: right;\">\n",
              "      <th></th>\n",
              "      <th>Unnamed: 0</th>\n",
              "      <th>Avg. Area Income</th>\n",
              "      <th>Avg. Area House Age</th>\n",
              "      <th>Avg. Area Number of Rooms</th>\n",
              "      <th>Avg. Area Number of Bedrooms</th>\n",
              "      <th>Area Population</th>\n",
              "      <th>Address</th>\n",
              "      <th>Price</th>\n",
              "    </tr>\n",
              "  </thead>\n",
              "  <tbody>\n",
              "    <tr>\n",
              "      <th>0</th>\n",
              "      <td>0</td>\n",
              "      <td>66547.016454</td>\n",
              "      <td>5.846095</td>\n",
              "      <td>6.847298</td>\n",
              "      <td>4.13</td>\n",
              "      <td>27850.822901</td>\n",
              "      <td>2288 Gary Square Apt. 812\\nWest Jose, PR 78536...</td>\n",
              "      <td>1.094880e+06</td>\n",
              "    </tr>\n",
              "    <tr>\n",
              "      <th>1</th>\n",
              "      <td>1</td>\n",
              "      <td>53722.008599</td>\n",
              "      <td>6.401391</td>\n",
              "      <td>7.787764</td>\n",
              "      <td>3.30</td>\n",
              "      <td>47649.224665</td>\n",
              "      <td>USS Williams\\nFPO AE 65283</td>\n",
              "      <td>1.300389e+06</td>\n",
              "    </tr>\n",
              "    <tr>\n",
              "      <th>2</th>\n",
              "      <td>2</td>\n",
              "      <td>64838.492899</td>\n",
              "      <td>6.437157</td>\n",
              "      <td>8.699544</td>\n",
              "      <td>4.02</td>\n",
              "      <td>32921.010068</td>\n",
              "      <td>Unit 2193 Box 7909\\nDPO AA 47323-2101</td>\n",
              "      <td>1.382172e+06</td>\n",
              "    </tr>\n",
              "    <tr>\n",
              "      <th>3</th>\n",
              "      <td>3</td>\n",
              "      <td>67097.092120</td>\n",
              "      <td>6.086754</td>\n",
              "      <td>7.211963</td>\n",
              "      <td>3.05</td>\n",
              "      <td>27191.506877</td>\n",
              "      <td>052 Thomas Square Apt. 034\\nWrightmouth, OR 04272</td>\n",
              "      <td>1.027428e+06</td>\n",
              "    </tr>\n",
              "    <tr>\n",
              "      <th>4</th>\n",
              "      <td>4</td>\n",
              "      <td>75245.465436</td>\n",
              "      <td>8.167820</td>\n",
              "      <td>7.420100</td>\n",
              "      <td>3.42</td>\n",
              "      <td>37410.669928</td>\n",
              "      <td>879 Martha Route Suite 031\\nNew Nichole, VI 60708</td>\n",
              "      <td>1.562887e+06</td>\n",
              "    </tr>\n",
              "    <tr>\n",
              "      <th>...</th>\n",
              "      <td>...</td>\n",
              "      <td>...</td>\n",
              "      <td>...</td>\n",
              "      <td>...</td>\n",
              "      <td>...</td>\n",
              "      <td>...</td>\n",
              "      <td>...</td>\n",
              "      <td>...</td>\n",
              "    </tr>\n",
              "    <tr>\n",
              "      <th>3995</th>\n",
              "      <td>3995</td>\n",
              "      <td>76223.561256</td>\n",
              "      <td>6.371627</td>\n",
              "      <td>5.342217</td>\n",
              "      <td>2.42</td>\n",
              "      <td>30165.337445</td>\n",
              "      <td>8456 Rodgers Burg Apt. 215\\nSouth Michelle, NM...</td>\n",
              "      <td>1.023944e+06</td>\n",
              "    </tr>\n",
              "    <tr>\n",
              "      <th>3996</th>\n",
              "      <td>3996</td>\n",
              "      <td>56685.014442</td>\n",
              "      <td>6.958045</td>\n",
              "      <td>7.502115</td>\n",
              "      <td>3.38</td>\n",
              "      <td>43322.166854</td>\n",
              "      <td>8584 Darrell Groves\\nBennettberg, SD 72404-6826</td>\n",
              "      <td>1.223101e+06</td>\n",
              "    </tr>\n",
              "    <tr>\n",
              "      <th>3997</th>\n",
              "      <td>3997</td>\n",
              "      <td>66195.337714</td>\n",
              "      <td>6.507971</td>\n",
              "      <td>6.611861</td>\n",
              "      <td>3.14</td>\n",
              "      <td>37288.923574</td>\n",
              "      <td>8367 Manuel Road\\nNathanfort, AS 36077-1481</td>\n",
              "      <td>1.318598e+06</td>\n",
              "    </tr>\n",
              "    <tr>\n",
              "      <th>3998</th>\n",
              "      <td>3998</td>\n",
              "      <td>58694.515017</td>\n",
              "      <td>7.394768</td>\n",
              "      <td>9.269453</td>\n",
              "      <td>4.32</td>\n",
              "      <td>49960.977236</td>\n",
              "      <td>Unit 7385 Box 9302\\nDPO AP 21450</td>\n",
              "      <td>1.708631e+06</td>\n",
              "    </tr>\n",
              "    <tr>\n",
              "      <th>3999</th>\n",
              "      <td>3999</td>\n",
              "      <td>61162.580254</td>\n",
              "      <td>5.896316</td>\n",
              "      <td>7.880521</td>\n",
              "      <td>6.04</td>\n",
              "      <td>36033.701431</td>\n",
              "      <td>06275 Ross Mills Suite 054\\nLisastad, DC 67330</td>\n",
              "      <td>1.060898e+06</td>\n",
              "    </tr>\n",
              "  </tbody>\n",
              "</table>\n",
              "<p>4000 rows × 8 columns</p>\n",
              "</div>"
            ],
            "text/plain": [
              "      Unnamed: 0  Avg. Area Income  Avg. Area House Age  \\\n",
              "0              0      66547.016454             5.846095   \n",
              "1              1      53722.008599             6.401391   \n",
              "2              2      64838.492899             6.437157   \n",
              "3              3      67097.092120             6.086754   \n",
              "4              4      75245.465436             8.167820   \n",
              "...          ...               ...                  ...   \n",
              "3995        3995      76223.561256             6.371627   \n",
              "3996        3996      56685.014442             6.958045   \n",
              "3997        3997      66195.337714             6.507971   \n",
              "3998        3998      58694.515017             7.394768   \n",
              "3999        3999      61162.580254             5.896316   \n",
              "\n",
              "      Avg. Area Number of Rooms  Avg. Area Number of Bedrooms  \\\n",
              "0                      6.847298                          4.13   \n",
              "1                      7.787764                          3.30   \n",
              "2                      8.699544                          4.02   \n",
              "3                      7.211963                          3.05   \n",
              "4                      7.420100                          3.42   \n",
              "...                         ...                           ...   \n",
              "3995                   5.342217                          2.42   \n",
              "3996                   7.502115                          3.38   \n",
              "3997                   6.611861                          3.14   \n",
              "3998                   9.269453                          4.32   \n",
              "3999                   7.880521                          6.04   \n",
              "\n",
              "      Area Population                                            Address  \\\n",
              "0        27850.822901  2288 Gary Square Apt. 812\\nWest Jose, PR 78536...   \n",
              "1        47649.224665                         USS Williams\\nFPO AE 65283   \n",
              "2        32921.010068              Unit 2193 Box 7909\\nDPO AA 47323-2101   \n",
              "3        27191.506877  052 Thomas Square Apt. 034\\nWrightmouth, OR 04272   \n",
              "4        37410.669928  879 Martha Route Suite 031\\nNew Nichole, VI 60708   \n",
              "...               ...                                                ...   \n",
              "3995     30165.337445  8456 Rodgers Burg Apt. 215\\nSouth Michelle, NM...   \n",
              "3996     43322.166854    8584 Darrell Groves\\nBennettberg, SD 72404-6826   \n",
              "3997     37288.923574        8367 Manuel Road\\nNathanfort, AS 36077-1481   \n",
              "3998     49960.977236                   Unit 7385 Box 9302\\nDPO AP 21450   \n",
              "3999     36033.701431     06275 Ross Mills Suite 054\\nLisastad, DC 67330   \n",
              "\n",
              "             Price  \n",
              "0     1.094880e+06  \n",
              "1     1.300389e+06  \n",
              "2     1.382172e+06  \n",
              "3     1.027428e+06  \n",
              "4     1.562887e+06  \n",
              "...            ...  \n",
              "3995  1.023944e+06  \n",
              "3996  1.223101e+06  \n",
              "3997  1.318598e+06  \n",
              "3998  1.708631e+06  \n",
              "3999  1.060898e+06  \n",
              "\n",
              "[4000 rows x 8 columns]"
            ]
          },
          "execution_count": 7,
          "metadata": {},
          "output_type": "execute_result"
        }
      ],
      "source": [
        "houses = pd.read_csv('Erdeni_Houses_train.csv')\n",
        "data = pd.DataFrame(data = houses)\n",
        "data"
      ]
    },
    {
      "cell_type": "code",
      "execution_count": 8,
      "metadata": {
        "colab": {
          "base_uri": "https://localhost:8080/",
          "height": 882
        },
        "id": "EqxAG9wGLxPv",
        "outputId": "e0b5dc4b-27c1-42c3-f9d7-e7f3c9a422ea"
      },
      "outputs": [
        {
          "name": "stderr",
          "output_type": "stream",
          "text": [
            "/tmp/ipykernel_7470/2896792615.py:2: FutureWarning: The default value of numeric_only in DataFrame.corr is deprecated. In a future version, it will default to False. Select only valid columns or specify the value of numeric_only to silence this warning.\n",
            "  correlation_matrix = data.corr()\n"
          ]
        },
        {
          "data": {
            "image/png": "[encoded data removed]",
            "text/plain": [
              "<Figure size 700x700 with 2 Axes>"
            ]
          },
          "metadata": {},
          "output_type": "display_data"
        }
      ],
      "source": [
        "\n",
        "# Построение корреляционной матрицы\n",
        "correlation_matrix = data.corr()\n",
        "\n",
        "# Визуализация корреляционной матрицы\n",
        "plt.figure(figsize=(7, 7))\n",
        "sns.heatmap(correlation_matrix, annot=True, cmap='coolwarm')\n",
        "plt.title('Correlation Matrix')\n",
        "plt.show()"
      ]
    },
    {
      "cell_type": "code",
      "execution_count": 9,
      "metadata": {
        "id": "BsKE6q8fsyJT"
      },
      "outputs": [],
      "source": [
        "df_without_str = data[['Avg. Area Income',\t'Avg. Area House Age',\t'Avg. Area Number of Rooms',\t'Avg. Area Number of Bedrooms',\t'Area Population'\t, 'Price']]"
      ]
    },
    {
      "cell_type": "code",
      "execution_count": 10,
      "metadata": {
        "colab": {
          "base_uri": "https://localhost:8080/"
        },
        "id": "tBlNmklQa1sl",
        "outputId": "b2ad5547-7c95-43be-c3e3-ef24cf35d21c"
      },
      "outputs": [
        {
          "name": "stdout",
          "output_type": "stream",
          "text": [
            "Avg. Area Income                0.641931\n",
            "Avg. Area House Age             0.449148\n",
            "Area Population                 0.406757\n",
            "Avg. Area Number of Rooms       0.330724\n",
            "Avg. Area Number of Bedrooms    0.176661\n",
            "Unnamed: 0                     -0.010807\n",
            "Name: Price, dtype: float64\n"
          ]
        }
      ],
      "source": [
        "# Get the top 6 most correlated features for the \"GRADE\" column\n",
        "top_corr_features = correlation_matrix['Price'].sort_values(ascending=False)[1:7]\n",
        "\n",
        "# Print the top 6 most correlated features\n",
        "print(top_corr_features)"
      ]
    },
    {
      "cell_type": "code",
      "execution_count": 11,
      "metadata": {
        "id": "Hj96a4bbsyJU"
      },
      "outputs": [],
      "source": [
        "scaler = MinMaxScaler()\n",
        "data_scaled = scaler.fit_transform(df_without_str.values)"
      ]
    },
    {
      "cell_type": "code",
      "execution_count": 12,
      "metadata": {
        "id": "qKvAcQfmsyJV"
      },
      "outputs": [],
      "source": [
        "df_data_scaled = pd.DataFrame(data_scaled, columns=df_without_str.columns)"
      ]
    },
    {
      "cell_type": "code",
      "execution_count": 13,
      "metadata": {
        "colab": {
          "base_uri": "https://localhost:8080/",
          "height": 424
        },
        "id": "BHWJ3SbTHmJz",
        "outputId": "8f57f458-ccfc-4635-9fd2-c4cfd5fad373"
      },
      "outputs": [
        {
          "data": {
            "text/html": [
              "<div>\n",
              "<style scoped>\n",
              "    .dataframe tbody tr th:only-of-type {\n",
              "        vertical-align: middle;\n",
              "    }\n",
              "\n",
              "    .dataframe tbody tr th {\n",
              "        vertical-align: top;\n",
              "    }\n",
              "\n",
              "    .dataframe thead th {\n",
              "        text-align: right;\n",
              "    }\n",
              "</style>\n",
              "<table border=\"1\" class=\"dataframe\">\n",
              "  <thead>\n",
              "    <tr style=\"text-align: right;\">\n",
              "      <th></th>\n",
              "      <th>Avg. Area Income</th>\n",
              "      <th>Avg. Area House Age</th>\n",
              "      <th>Avg. Area Number of Rooms</th>\n",
              "      <th>Avg. Area Number of Bedrooms</th>\n",
              "      <th>Area Population</th>\n",
              "    </tr>\n",
              "  </thead>\n",
              "  <tbody>\n",
              "    <tr>\n",
              "      <th>0</th>\n",
              "      <td>66547.016454</td>\n",
              "      <td>5.846095</td>\n",
              "      <td>6.847298</td>\n",
              "      <td>4.13</td>\n",
              "      <td>27850.822901</td>\n",
              "    </tr>\n",
              "    <tr>\n",
              "      <th>1</th>\n",
              "      <td>53722.008599</td>\n",
              "      <td>6.401391</td>\n",
              "      <td>7.787764</td>\n",
              "      <td>3.30</td>\n",
              "      <td>47649.224665</td>\n",
              "    </tr>\n",
              "    <tr>\n",
              "      <th>2</th>\n",
              "      <td>64838.492899</td>\n",
              "      <td>6.437157</td>\n",
              "      <td>8.699544</td>\n",
              "      <td>4.02</td>\n",
              "      <td>32921.010068</td>\n",
              "    </tr>\n",
              "    <tr>\n",
              "      <th>3</th>\n",
              "      <td>67097.092120</td>\n",
              "      <td>6.086754</td>\n",
              "      <td>7.211963</td>\n",
              "      <td>3.05</td>\n",
              "      <td>27191.506877</td>\n",
              "    </tr>\n",
              "    <tr>\n",
              "      <th>4</th>\n",
              "      <td>75245.465436</td>\n",
              "      <td>8.167820</td>\n",
              "      <td>7.420100</td>\n",
              "      <td>3.42</td>\n",
              "      <td>37410.669928</td>\n",
              "    </tr>\n",
              "    <tr>\n",
              "      <th>...</th>\n",
              "      <td>...</td>\n",
              "      <td>...</td>\n",
              "      <td>...</td>\n",
              "      <td>...</td>\n",
              "      <td>...</td>\n",
              "    </tr>\n",
              "    <tr>\n",
              "      <th>3995</th>\n",
              "      <td>76223.561256</td>\n",
              "      <td>6.371627</td>\n",
              "      <td>5.342217</td>\n",
              "      <td>2.42</td>\n",
              "      <td>30165.337445</td>\n",
              "    </tr>\n",
              "    <tr>\n",
              "      <th>3996</th>\n",
              "      <td>56685.014442</td>\n",
              "      <td>6.958045</td>\n",
              "      <td>7.502115</td>\n",
              "      <td>3.38</td>\n",
              "      <td>43322.166854</td>\n",
              "    </tr>\n",
              "    <tr>\n",
              "      <th>3997</th>\n",
              "      <td>66195.337714</td>\n",
              "      <td>6.507971</td>\n",
              "      <td>6.611861</td>\n",
              "      <td>3.14</td>\n",
              "      <td>37288.923574</td>\n",
              "    </tr>\n",
              "    <tr>\n",
              "      <th>3998</th>\n",
              "      <td>58694.515017</td>\n",
              "      <td>7.394768</td>\n",
              "      <td>9.269453</td>\n",
              "      <td>4.32</td>\n",
              "      <td>49960.977236</td>\n",
              "    </tr>\n",
              "    <tr>\n",
              "      <th>3999</th>\n",
              "      <td>61162.580254</td>\n",
              "      <td>5.896316</td>\n",
              "      <td>7.880521</td>\n",
              "      <td>6.04</td>\n",
              "      <td>36033.701431</td>\n",
              "    </tr>\n",
              "  </tbody>\n",
              "</table>\n",
              "<p>4000 rows × 5 columns</p>\n",
              "</div>"
            ],
            "text/plain": [
              "      Avg. Area Income  Avg. Area House Age  Avg. Area Number of Rooms  \\\n",
              "0         66547.016454             5.846095                   6.847298   \n",
              "1         53722.008599             6.401391                   7.787764   \n",
              "2         64838.492899             6.437157                   8.699544   \n",
              "3         67097.092120             6.086754                   7.211963   \n",
              "4         75245.465436             8.167820                   7.420100   \n",
              "...                ...                  ...                        ...   \n",
              "3995      76223.561256             6.371627                   5.342217   \n",
              "3996      56685.014442             6.958045                   7.502115   \n",
              "3997      66195.337714             6.507971                   6.611861   \n",
              "3998      58694.515017             7.394768                   9.269453   \n",
              "3999      61162.580254             5.896316                   7.880521   \n",
              "\n",
              "      Avg. Area Number of Bedrooms  Area Population  \n",
              "0                             4.13     27850.822901  \n",
              "1                             3.30     47649.224665  \n",
              "2                             4.02     32921.010068  \n",
              "3                             3.05     27191.506877  \n",
              "4                             3.42     37410.669928  \n",
              "...                            ...              ...  \n",
              "3995                          2.42     30165.337445  \n",
              "3996                          3.38     43322.166854  \n",
              "3997                          3.14     37288.923574  \n",
              "3998                          4.32     49960.977236  \n",
              "3999                          6.04     36033.701431  \n",
              "\n",
              "[4000 rows x 5 columns]"
            ]
          },
          "execution_count": 13,
          "metadata": {},
          "output_type": "execute_result"
        }
      ],
      "source": [
        "data_X = data[['Avg. Area Income',\t'Avg. Area House Age',\t'Avg. Area Number of Rooms',\t'Avg. Area Number of Bedrooms',\t'Area Population']]\n",
        "data_X"
      ]
    },
    {
      "cell_type": "code",
      "execution_count": 14,
      "metadata": {
        "id": "dIKiW3qRnvQN"
      },
      "outputs": [],
      "source": [
        "data_Y = data[['Price']]"
      ]
    },
    {
      "cell_type": "code",
      "execution_count": 15,
      "metadata": {
        "id": "TiyDocdnsyJW"
      },
      "outputs": [],
      "source": [
        "X_train, X_test, y_train, y_test = train_test_split(data_X, data_Y, random_state=42, test_size=0.1)"
      ]
    },
    {
      "cell_type": "markdown",
      "metadata": {
        "id": "zsDnyjGFOayK"
      },
      "source": [
        "# LinearRegression - лучший результат: 79716 (MAE), 98754 (RMSE)\n"
      ]
    },
    {
      "cell_type": "code",
      "execution_count": 16,
      "metadata": {
        "id": "E5DaigY5syJW"
      },
      "outputs": [],
      "source": [
        "from sklearn.linear_model import LinearRegression"
      ]
    },
    {
      "cell_type": "code",
      "execution_count": 17,
      "metadata": {
        "id": "j8DmDOIjsyJX"
      },
      "outputs": [],
      "source": [
        "linmodel = LinearRegression().fit(X_train, y_train)"
      ]
    },
    {
      "cell_type": "code",
      "execution_count": 18,
      "metadata": {
        "id": "edG6EtTKsyJX"
      },
      "outputs": [],
      "source": [
        "y_pred = linmodel.predict(X_test)"
      ]
    },
    {
      "cell_type": "code",
      "execution_count": 19,
      "metadata": {
        "id": "2L6yi-v6syJX"
      },
      "outputs": [],
      "source": [
        "from sklearn.metrics import mean_absolute_error as MAE\n",
        "from sklearn.metrics import mean_squared_error"
      ]
    },
    {
      "cell_type": "code",
      "execution_count": 20,
      "metadata": {
        "colab": {
          "base_uri": "https://localhost:8080/"
        },
        "id": "L05STLg2syJX",
        "outputId": "5df52c91-6ffb-44ba-b7df-e40871b4653a"
      },
      "outputs": [
        {
          "data": {
            "text/plain": [
              "79716.08702370383"
            ]
          },
          "execution_count": 20,
          "metadata": {},
          "output_type": "execute_result"
        }
      ],
      "source": [
        "MAE(y_test, y_pred)"
      ]
    },
    {
      "cell_type": "code",
      "execution_count": 21,
      "metadata": {
        "colab": {
          "base_uri": "https://localhost:8080/"
        },
        "id": "xMsdVgOSsyJX",
        "outputId": "c2982da6-4814-4663-c482-8d7ba09a3cf9"
      },
      "outputs": [
        {
          "data": {
            "text/plain": [
              "98754.49611773108"
            ]
          },
          "execution_count": 21,
          "metadata": {},
          "output_type": "execute_result"
        }
      ],
      "source": [
        "mean_squared_error(y_test, y_pred, squared=False)"
      ]
    },
    {
      "cell_type": "markdown",
      "metadata": {},
      "source": [
        "# Валидация (Эрдэни)"
      ]
    },
    {
      "cell_type": "code",
      "execution_count": 22,
      "metadata": {
        "id": "q9c-FdV10RCI"
      },
      "outputs": [],
      "source": [
        "predictions = linmodel.predict(test)"
      ]
    },
    {
      "cell_type": "code",
      "execution_count": 24,
      "metadata": {},
      "outputs": [
        {
          "data": {
            "text/plain": [
              "1000"
            ]
          },
          "execution_count": 24,
          "metadata": {},
          "output_type": "execute_result"
        }
      ],
      "source": [
        "len(predictions)"
      ]
    },
    {
      "cell_type": "code",
      "execution_count": 25,
      "metadata": {},
      "outputs": [
        {
          "data": {
            "text/html": [
              "<div>\n",
              "<style scoped>\n",
              "    .dataframe tbody tr th:only-of-type {\n",
              "        vertical-align: middle;\n",
              "    }\n",
              "\n",
              "    .dataframe tbody tr th {\n",
              "        vertical-align: top;\n",
              "    }\n",
              "\n",
              "    .dataframe thead th {\n",
              "        text-align: right;\n",
              "    }\n",
              "</style>\n",
              "<table border=\"1\" class=\"dataframe\">\n",
              "  <thead>\n",
              "    <tr style=\"text-align: right;\">\n",
              "      <th></th>\n",
              "      <th>Unnamed: 0</th>\n",
              "      <th>Price</th>\n",
              "    </tr>\n",
              "  </thead>\n",
              "  <tbody>\n",
              "    <tr>\n",
              "      <th>0</th>\n",
              "      <td>0</td>\n",
              "      <td>1.339096e+06</td>\n",
              "    </tr>\n",
              "    <tr>\n",
              "      <th>1</th>\n",
              "      <td>1</td>\n",
              "      <td>1.251794e+06</td>\n",
              "    </tr>\n",
              "    <tr>\n",
              "      <th>2</th>\n",
              "      <td>2</td>\n",
              "      <td>1.340095e+06</td>\n",
              "    </tr>\n",
              "    <tr>\n",
              "      <th>3</th>\n",
              "      <td>3</td>\n",
              "      <td>1.431508e+06</td>\n",
              "    </tr>\n",
              "    <tr>\n",
              "      <th>4</th>\n",
              "      <td>4</td>\n",
              "      <td>1.042374e+06</td>\n",
              "    </tr>\n",
              "    <tr>\n",
              "      <th>...</th>\n",
              "      <td>...</td>\n",
              "      <td>...</td>\n",
              "    </tr>\n",
              "    <tr>\n",
              "      <th>995</th>\n",
              "      <td>995</td>\n",
              "      <td>1.107031e+06</td>\n",
              "    </tr>\n",
              "    <tr>\n",
              "      <th>996</th>\n",
              "      <td>996</td>\n",
              "      <td>1.405505e+06</td>\n",
              "    </tr>\n",
              "    <tr>\n",
              "      <th>997</th>\n",
              "      <td>997</td>\n",
              "      <td>1.924156e+06</td>\n",
              "    </tr>\n",
              "    <tr>\n",
              "      <th>998</th>\n",
              "      <td>998</td>\n",
              "      <td>1.571254e+06</td>\n",
              "    </tr>\n",
              "    <tr>\n",
              "      <th>999</th>\n",
              "      <td>999</td>\n",
              "      <td>8.831475e+05</td>\n",
              "    </tr>\n",
              "  </tbody>\n",
              "</table>\n",
              "<p>1000 rows × 2 columns</p>\n",
              "</div>"
            ],
            "text/plain": [
              "     Unnamed: 0         Price\n",
              "0             0  1.339096e+06\n",
              "1             1  1.251794e+06\n",
              "2             2  1.340095e+06\n",
              "3             3  1.431508e+06\n",
              "4             4  1.042374e+06\n",
              "..          ...           ...\n",
              "995         995  1.107031e+06\n",
              "996         996  1.405505e+06\n",
              "997         997  1.924156e+06\n",
              "998         998  1.571254e+06\n",
              "999         999  8.831475e+05\n",
              "\n",
              "[1000 rows x 2 columns]"
            ]
          },
          "execution_count": 25,
          "metadata": {},
          "output_type": "execute_result"
        }
      ],
      "source": [
        "df_true = pd.read_csv('Erdeni_Houses_y_true.csv')\n",
        "df_true"
      ]
    },
    {
      "cell_type": "code",
      "execution_count": 26,
      "metadata": {},
      "outputs": [
        {
          "data": {
            "text/plain": [
              "array([1339096.07724513, 1251794.17883686, 1340094.96620542,\n",
              "       1431507.62342797, 1042373.52409608, 1555320.50000112,\n",
              "       1250882.29175707, 1039380.72247961,  832475.18901532,\n",
              "       1420648.28086982,  613788.32198953, 1702406.03893521,\n",
              "        913587.0974474 , 1675557.27123079, 1279160.98758547,\n",
              "        949684.41018076, 1372994.2901085 , 1148563.90358149,\n",
              "        846939.42878425, 1002192.58207068, 1072253.83365512,\n",
              "        973197.77534757, 1538985.18909838, 1135079.34529202,\n",
              "       1618721.13842984, 1158742.82993929, 1268421.10418911,\n",
              "        985749.78735653,  709348.22373391, 1869313.10698773,\n",
              "       1476277.52737422, 1638265.39452366, 1431406.51296822,\n",
              "       1253609.76404087, 1499356.11997188, 1798232.8027843 ,\n",
              "       1506651.15657352,  680982.7688222 , 1745516.17062634,\n",
              "       1288069.22644892, 1524106.96472147,  940229.23433028,\n",
              "       1577017.76000155,  858685.56592496, 1161995.72817709,\n",
              "       1285312.24421709, 1446597.12205741, 1434323.82515667,\n",
              "       1537897.11811872, 1296223.70649253, 1434835.95314185,\n",
              "       1475349.5520184 , 1432318.46963913, 1074824.81648868,\n",
              "       1588549.50073193, 1879416.22245231, 1052185.1759534 ,\n",
              "       1213382.22263647, 1222689.52337959, 1549303.49851656,\n",
              "        867082.8427608 ,  646198.22452306, 1520371.00751546,\n",
              "        948366.96789745,  743999.8191602 , 1640185.79829682,\n",
              "       1304284.2260061 , 1002690.89930323, 1678347.52753798,\n",
              "       1433493.80221998,  922478.91453439, 1687998.93296047,\n",
              "       1456486.29296315,  984311.77453969,  587007.84424   ,\n",
              "       1467959.52879068, 1096846.0864933 , 1108406.78591683,\n",
              "       1441882.52170551,  668183.50985292, 1660295.79595833,\n",
              "       1377113.02613595,  827268.22740993,  493350.03116759,\n",
              "       1492612.18936154,  614700.73714851,  662630.34394019,\n",
              "       1130415.40951686, 1335830.79241959, 1326837.45553767,\n",
              "       1299327.43310926, 1311765.14146925,  734827.50801229,\n",
              "       1105105.05331964, 1239459.81481655,  789632.69320799,\n",
              "       1063069.91642509,  951781.30780801, 1487849.87617124,\n",
              "       1492011.49586213,  541953.90568024, 1160146.17127009,\n",
              "       1276494.7645635 , 1939603.13090402, 2469065.5941747 ,\n",
              "        841122.88238069, 1186441.75644398,  885611.57826247,\n",
              "       1902814.52679633, 1580691.61687316, 1609581.80429773,\n",
              "       1179440.83225322, 1785374.29206076, 1056984.18175283,\n",
              "        973096.35817758, 1521527.04219705,  729315.37491954,\n",
              "       1347234.0930271 , 1253370.14892134, 1444572.97149721,\n",
              "       1650342.13064281, 1563083.33601656, 1551390.37872387,\n",
              "       1442945.14497208, 1788515.81761293, 1272180.19653867,\n",
              "        631712.72378149,  899186.15693885, 1316793.56923411,\n",
              "       1574279.81397754, 1410814.98469241, 1197929.7431865 ,\n",
              "       1608726.68054645, 1333865.43772014, 1262187.04154699,\n",
              "       1543966.42644823, 1673538.16868396, 1409943.30299484,\n",
              "        813415.12806775, 1195986.29883487, 1948654.9355365 ,\n",
              "       1034180.94926111, 1843979.304324  , 1108912.51462935,\n",
              "       1976170.08943393,  907530.17531362, 1012768.75622901,\n",
              "       1206931.65045262, 1397564.15628244, 1495384.00366879,\n",
              "        990893.16007157,  975005.77366035, 1166333.88650336,\n",
              "       1410010.99400056, 1383766.08194538,  798869.53283316,\n",
              "       1603627.28021897,  922054.13194125, 2030910.61534552,\n",
              "       1230149.13678644, 1325531.15451324, 1273629.12431665,\n",
              "        962028.70076464, 1989672.52399081, 1416965.97868824,\n",
              "        752950.60680069,  957814.60314368, 1706110.85999305,\n",
              "        860399.34519322, 2005037.30667922, 1895361.11538345,\n",
              "        764756.09346188, 1876497.2688776 , 1273554.27783518,\n",
              "       1597776.77050618, 1715435.99111606, 1626659.95965284,\n",
              "        561703.76972949,  712228.42430272,  496359.97079138,\n",
              "        863448.39244247, 1058517.80992559,  916344.2938351 ,\n",
              "       1169944.24775875,  905435.84288734,  390948.44999415,\n",
              "       1242111.42833698, 1080624.49716572, 1578829.01221409,\n",
              "       1321008.59348566, 1290324.64861995, 1376146.81111167,\n",
              "       1288490.26844093, 1152145.9120119 , 1423025.10146329,\n",
              "       2026303.09804233, 1363669.06891532, 1450122.7150156 ,\n",
              "       1434803.06130818,  675919.68155708, 1235593.27657753,\n",
              "       1485145.66054487, 1273518.73676148, 1038330.03895894,\n",
              "       1048135.75417615, 1283590.45887276, 1841495.50788487,\n",
              "        732244.15806956,  873509.18952667, 1375057.08346865,\n",
              "       1071537.37638207, 1230363.2340835 , 1383651.82707811,\n",
              "       1023162.95290663,  752357.28239647, 1822438.41990484,\n",
              "       1023595.11287068,  534305.13233493, 1353635.41039632,\n",
              "       1090996.14301478, 1258957.61999391, 1091479.56013223,\n",
              "        727366.94744855, 1137224.57543043, 1481171.23447874,\n",
              "        613370.85109375, 1522143.64138566, 1439431.45288969,\n",
              "       1796245.80790556, 1705918.17950997, 1246509.14023112,\n",
              "       1204214.03049683,  967868.51456034, 1034366.77773182,\n",
              "       1592210.17592313, 1603201.04778663, 1549031.0930417 ,\n",
              "       1077813.59299465,  615568.11337846, 1621700.46333417,\n",
              "       1859883.66124048, 1310764.11188294, 1413105.49480349,\n",
              "       1696339.54412458, 1956438.65143525,  592397.72613895,\n",
              "       1210610.16256962, 1249914.07850972,  984349.61415488,\n",
              "        378466.42018394, 1397680.2412138 , 1658571.86402129,\n",
              "       1356691.38720207, 1270869.78317192, 2009937.70262843,\n",
              "        762144.92612381, 1882118.61097128,  934408.71428136,\n",
              "       1789607.52613989, 1713161.69916374, 1153135.22029401,\n",
              "        635419.3652163 , 1677005.14043603,  676738.71554521,\n",
              "       2186194.79257342,  718650.64381919, 1869886.3052624 ,\n",
              "       1122083.25116265, 1241182.83496703, 1352135.96726418,\n",
              "       1697501.60460523, 1137523.11087169, 1020536.19082951,\n",
              "       1042814.09782009, 1212939.95351759,  823821.78638905,\n",
              "       1326481.67468515, 1046030.11422825,  412057.44010889,\n",
              "       1243918.8107245 ,  957806.0026795 , 1388209.21929933,\n",
              "       1046442.63447414, 1212461.52637193, 1765352.36590711,\n",
              "       1550036.518714  , 1196643.38452822,  769113.83316812,\n",
              "        799124.84915754, 1292592.39209672, 1540480.61335358,\n",
              "       1296467.99364115, 1534295.19501271, 1014093.30996462,\n",
              "       2180065.59773864, 1417158.53739558, 1181995.43050478,\n",
              "       1024601.56275392,  628870.34564063, 1723706.75852286,\n",
              "       1246246.82775976, 1399662.58446726, 1128906.3392211 ,\n",
              "       1030759.69983737, 1553976.23390492, 1361007.56184711,\n",
              "       1493623.41586911, 1270297.54493105, 1592768.24182693,\n",
              "        885661.59083665, 1074456.40249041, 1339636.18702554,\n",
              "       1692335.96361879, 1474466.87998423, 1504664.2808397 ,\n",
              "       1136448.40876046, 1209571.07241358, 1759180.04363531,\n",
              "       1384798.01055846,  627650.40257098, 1460364.29988453,\n",
              "       1246485.18352108, 1328658.91107238, 1142127.88427019,\n",
              "       1313304.58773627,  941950.57945647,  784503.35791889,\n",
              "       1358526.74126212, 1379671.07478299,  677277.59658851,\n",
              "       1092843.30040679, 1071596.1123723 , 1009831.13477698,\n",
              "        579585.69802044, 1252419.19639916,  850977.01231039,\n",
              "       1222760.85804673, 1037780.4795439 , 1020098.04138186,\n",
              "       1397956.19564623, 1445804.83165148, 1788786.45583488,\n",
              "       1526025.65907922, 1330929.47215359, 1296881.97131078,\n",
              "       1199760.29171634, 1102062.09757424, 1525690.99505673,\n",
              "       1253359.95400547, 1417403.31186057, 1280588.34189717,\n",
              "       1312466.97356777, 1748864.71452689, 1648246.7742056 ,\n",
              "        959102.08098707, 1345004.11975651, 1355545.58790074,\n",
              "       1523136.48472095, 1321037.41361477, 1557794.02127226,\n",
              "       1342245.96870617,  201898.0865725 , 1028683.04487489,\n",
              "       1940225.90750485, 1144477.87895631,  798659.21709899,\n",
              "       1125692.50729529, 1370274.38731202, 1305934.32480302,\n",
              "        962591.6565767 , 1697281.49383007, 2096977.79018592,\n",
              "        886124.72564037, 1389366.7180879 , 1294967.41073788,\n",
              "       1217021.51874075, 1200060.66203741,  822431.73026518,\n",
              "       1359978.15993889, 1130293.59670348,  832559.79755093,\n",
              "        325195.94283242, 1216888.02027705, 1357250.57125696,\n",
              "       1390497.56617768, 1316180.49359149, 1430641.63236584,\n",
              "       1024907.94019351, 1106336.83830469, 1262012.92634828,\n",
              "        211017.97049476, 1805502.34002917, 1185734.9581773 ,\n",
              "       1360920.53038608,  999814.88981408, 1054732.60030967,\n",
              "        576387.17522213,  842235.80335291,  973688.75549942,\n",
              "       1636906.28837785,  414571.22293662, 1214689.18370447,\n",
              "        769576.86365974, 1131533.55540946, 1352096.0506803 ,\n",
              "       1247384.08494862,  836235.03053239,  852565.62686062,\n",
              "       1343605.80018205, 1705889.88669841, 1188416.80571588,\n",
              "        520217.89299136, 1496539.31289263, 1196204.88626246,\n",
              "       1352547.6933606 , 1151128.91546005, 1422195.87945057,\n",
              "       1060193.78588461, 1354874.83720244,  676377.66141596,\n",
              "       1116487.35709413, 1454749.80659404,  952439.66215709,\n",
              "       1398353.5906641 , 1571664.903073  , 1324382.17558282,\n",
              "       1599478.98566448,  652752.97270994, 1482617.72862202,\n",
              "       1262494.28682882, 1127174.71254582, 1448081.25117198,\n",
              "        987746.9239531 ,  959734.81329798, 1328572.19050508,\n",
              "       1055484.37348079, 1113856.54339857, 1491153.03012843,\n",
              "        894292.0474101 , 1368134.99768214, 1031981.28292294,\n",
              "       1421216.50444086, 1246791.02871144, 1272719.63189395,\n",
              "       1427026.94502101, 1502447.91672879, 1720670.87684279,\n",
              "       1079000.31626744,  716771.00574888, 1294685.15854701,\n",
              "       1220700.6961371 , 1516075.01197065, 1648201.72790493,\n",
              "        789043.8511966 , 1641749.65120549,  960083.99685102,\n",
              "        738760.74743133, 1603046.17935713, 1529281.84011934,\n",
              "       1185310.26734419, 1753820.6224521 , 1314348.69921002,\n",
              "       1316129.30905727, 1575966.55253915,  971174.98677922,\n",
              "       1188761.32022728, 1292643.52025236,  802846.12229537,\n",
              "        800628.74702702,  735660.45580342, 1530294.57733993,\n",
              "       1238708.75973818, 1180989.32402635, 1810782.41345475,\n",
              "       1684537.96115638, 1738788.38189407, 1111710.90042208,\n",
              "       1005843.91699313,  946556.26369486,  901881.74268624,\n",
              "        685775.59802899, 1138036.59504191, 1066768.00005863,\n",
              "       1682105.84747145, 1271518.96426062,  795507.84344154,\n",
              "       1744932.21099093, 1376240.61529908, 1175781.41757006,\n",
              "       1365496.88509188, 1051123.83309999, 1232156.01224821,\n",
              "       1652845.98062876, 1372878.53439379, 1006544.52659888,\n",
              "        862865.8153196 , 1129613.01002033,  753652.27184518,\n",
              "       1031737.38481276, 1388596.243304  , 1393897.39021981,\n",
              "       1286477.3958779 , 1393746.76046743, 1530013.44887133,\n",
              "       1359052.84576468,  980177.30513713, 1231452.18888375,\n",
              "       1039915.34120994, 1088548.82655388,  976540.09850096,\n",
              "        764799.88301368,  712285.82557513,  944186.15906842,\n",
              "       1255576.27295436, 1022781.17074291, 1423296.11800043,\n",
              "       1227167.40760185, 1840236.00580269, 1025461.13442763,\n",
              "       1028636.42287051, 1285019.13650901, 1220133.35833031,\n",
              "        573434.66423432,  862407.81701223,  948054.00867874,\n",
              "       1612717.55309934, 1417957.98318174, 1128252.81941175,\n",
              "       1129798.37272535, 1629345.78653286, 1508856.42431475,\n",
              "       1770616.92993542, 2016910.73970733,  977135.8856578 ,\n",
              "       1151189.64220954, 1170169.25920771, 1245400.95531081,\n",
              "       1411266.4112797 ,  800146.22606093, 1296121.43191605,\n",
              "       1024787.94155735, 1599963.8071501 , 2235294.71826975,\n",
              "       1095391.79860126, 1235144.09637726, 1537310.61642317,\n",
              "       1462875.98382238, 1447492.96439529,  641484.23854938,\n",
              "       1467075.16855793, 1184799.27149694,  973068.55703495,\n",
              "       1327806.72883192, 1890789.17677062,  998855.57991274,\n",
              "       1597330.41148501,  923830.33486809, 1073347.54520981,\n",
              "       1238396.41206253, 1517868.59494687,  962551.03714019,\n",
              "       1371521.61958853, 1343484.72673607, 1517597.52709047,\n",
              "       1341870.35378645, 1412776.57712118, 1443470.03708205,\n",
              "        945831.18629926, 1041237.81738656, 1439892.63249514,\n",
              "       1455556.46564255, 1761960.5686366 , 1384432.1532991 ,\n",
              "       1130844.02936265, 1146532.45474056, 1120439.36534711,\n",
              "       1580557.01024894, 1332042.91167135,  944979.00943169,\n",
              "       1454035.00823153, 1192677.55002104, 1359762.6936754 ,\n",
              "        430088.25071462, 1218125.21227038, 1395855.6562817 ,\n",
              "       1307136.33458098, 1914509.5209888 , 1988563.99326237,\n",
              "        704884.15436537, 1566253.09646638, 1205706.71472364,\n",
              "        758262.61211065, 1317160.40262294, 1391159.43368127,\n",
              "        738431.83107628, 1247660.98975209, 1033450.13928111,\n",
              "       1018457.98705229, 1610217.17700324,  911071.83355307,\n",
              "       1114779.24664095, 1016187.10365218, 1232014.52710861,\n",
              "       1020041.74743924, 1486401.32050969, 1815920.44980542,\n",
              "        957283.65635498, 1721261.81159612, 1465223.50941289,\n",
              "        999826.60928882, 1156329.27404976,  763874.06446831,\n",
              "       1114729.72452353, 1397341.85599371, 1646565.05362133,\n",
              "       1168588.03132077, 1180091.4978197 ,  764955.49820708,\n",
              "        528485.2467306 , 1463367.82082537,  984672.29981594,\n",
              "       1785449.72016789, 1050239.90384046, 2100698.07115711,\n",
              "       1469237.20519252, 1156853.36451225, 1522099.83078893,\n",
              "       1376969.92880029, 1667560.87930371, 1137801.93271183,\n",
              "       1524689.0633018 ,  864483.75849638, 1373589.80350174,\n",
              "       1000842.17761448, 1616631.33374997, 1709667.18884547,\n",
              "       1106149.68565739,  555755.65679475, 1092701.39224367,\n",
              "        908013.00207038, 1323959.79910681,  822685.37458167,\n",
              "       1200653.34548114,  911656.10529778,  992566.62326469,\n",
              "       1252416.69126183,  888866.39453956, 1621035.90271747,\n",
              "       1247557.695194  , 1076032.55352461, 1377939.77450812,\n",
              "       1778411.66483075, 1005946.76732443, 1454681.93676711,\n",
              "       1381085.72928298,  867714.38384905, 1134273.42452143,\n",
              "        711499.24458015, 1662939.09739728,  910512.63536174,\n",
              "       1113936.63783162,  549976.14555958, 1174289.08056837,\n",
              "       1329007.20344815, 1364306.768681  , 1521085.47247059,\n",
              "        993725.21718816,  482689.70337567, 1133084.32382384,\n",
              "       1625508.01310624, 1003837.66700849, 1006687.38713887,\n",
              "        874969.69686638, 1047226.96681767, 1583897.53776365,\n",
              "       1445030.9844502 , 1680017.24042077, 1222045.09088746,\n",
              "        685355.41680643, 1699952.81444788,  875799.24734427,\n",
              "       1120349.77312863, 1663653.70975754, 1028760.46523525,\n",
              "       1440317.76310708, 1229702.94836407, 1714445.17463658,\n",
              "       1178600.64778512, 1086716.79570865, 1555184.58056833,\n",
              "       1724733.02481748, 1554301.93808174, 1760734.69036401,\n",
              "       1536234.70870113, 1210400.12695473, 1390200.22429845,\n",
              "       1454943.07366124, 1688279.30811025,  828127.02764658,\n",
              "       1343537.17846673,  334485.19310434, 1255736.40858762,\n",
              "       1181663.48357115,  891981.09759594,  679922.25214979,\n",
              "       1032043.21176397, 1238486.17021221, 1204372.29521966,\n",
              "       1480888.80423216, 1368670.29921319, 1078534.5530804 ,\n",
              "        857762.31699349, 1809154.28936317, 1647216.59366445,\n",
              "       2096954.04067566, 1643291.72247874, 1046943.49834427,\n",
              "       1940195.37357299, 1112548.47898969,  412269.20339956,\n",
              "        771002.07633741, 1747911.49585289,  503065.50562421,\n",
              "       1375467.27099677,  839629.51217447,  832536.88536735,\n",
              "       1481146.95049889, 1400496.65545863,  783350.67322302,\n",
              "       1723729.65516442,  877566.82201426, 1424283.37318394,\n",
              "       1139360.43400834, 1408074.53029754, 1428693.92989351,\n",
              "       1403802.50189063, 1082455.01751124, 1128403.36605923,\n",
              "       1262232.32130769,  994897.72776447, 1440736.58325828,\n",
              "       1113570.85188848, 1431386.81446511,  960904.99535186,\n",
              "       1362436.15375394, 2059301.34341981, 1163741.65830081,\n",
              "       1369976.50130146, 1293746.87586616, 1412806.28576495,\n",
              "       1220987.00207161, 1722463.56254454, 1198656.87240769,\n",
              "       1196996.68108546,  266298.88111836,  720080.23205289,\n",
              "       1111580.09957467, 1118595.11893913, 1235226.47783271,\n",
              "       1115080.65434612, 1362239.05354028, 1089601.88163052,\n",
              "       1168627.6508345 , 1236093.91439573, 1044017.43164552,\n",
              "       1347578.53033792, 1567368.28495117, 1263018.12698897,\n",
              "       1499153.08083988, 1507331.28820722, 1065150.78675382,\n",
              "       1303091.90986294, 1339142.80508292, 1214320.57436406,\n",
              "       1880127.06248238, 1191625.43996274,  997827.25377521,\n",
              "       1249092.92792036, 1433260.22774188, 1543801.6545593 ,\n",
              "       1663473.12082828, 1040781.79535934,  542596.98952502,\n",
              "        555504.14780984, 1054249.20655948, 1348804.22934007,\n",
              "       1218566.26236153,  527749.40386478, 1148416.90958571,\n",
              "       1237902.82007375, 1827500.89170752, 1721005.41950458,\n",
              "       1223915.25261776, 1495012.96483408, 1412501.24550754,\n",
              "       1387701.11105296, 1499988.87952261, 1262552.6859178 ,\n",
              "       1638541.9393635 , 1240319.69221106,  639471.73613359,\n",
              "       1168919.40079419,  980141.21910767, 2050988.49667927,\n",
              "       1378399.1090639 ,  752168.06886998, 1064703.30523594,\n",
              "        901752.68045154, 1912825.28521777, 1577849.52380223,\n",
              "       1477765.14780952, 1383842.1850596 , 1508198.67175522,\n",
              "        302307.4010605 , 1629049.62351924, 2024902.52128311,\n",
              "        440585.0293908 , 1517693.1062015 , 1201110.29436287,\n",
              "       1710924.36652354, 1003941.92889691,  815569.5956125 ,\n",
              "        861013.94607756,  742016.05517229,  831471.5304107 ,\n",
              "        943309.44860395, 1626941.78786638, 1281777.58116751,\n",
              "       1078577.26704261,  985117.62891102, 1742566.00604802,\n",
              "       1006580.47965983, 1422916.81081584,  449728.10099925,\n",
              "       1199618.94266609, 1504441.01015029, 1203850.10427602,\n",
              "       1219154.40315956, 1245053.43252749, 1153435.09235302,\n",
              "       1578136.16530262, 1361521.98293763, 1275403.46417926,\n",
              "       1311902.5342297 ,  821859.06572785, 1638094.53784797,\n",
              "       1492521.86651817, 1279279.7998179 , 1301935.92001303,\n",
              "       1033155.32945701,  963531.91523098, 1030591.42921161,\n",
              "       2013015.74606139,  626020.16946787, 1063964.28787395,\n",
              "       1425632.5419742 , 1700109.60753853, 1013252.20904607,\n",
              "       1084011.70446899,  920540.65394995, 1031385.45489742,\n",
              "       1252691.79288135, 1070720.05848774, 1501303.96414075,\n",
              "       1503327.0004746 ,  873241.98857425, 1592664.70039377,\n",
              "       1410264.40477702, 1838092.10249886,  925163.74602794,\n",
              "       1370830.38859788,  801194.61982113, 1552536.76397455,\n",
              "        796666.12243218, 1637261.85402068, 1309397.04942904,\n",
              "       1708102.10239872, 1230391.46829734, 1124719.49016535,\n",
              "       1418595.72715016, 1251688.61570287, 2049146.62989614,\n",
              "        816813.53235126, 1517316.57365709, 1601904.35654034,\n",
              "       1590804.04437506, 1005089.89397533, 1287784.30403336,\n",
              "       1451078.09313413, 1144319.07593362, 1247002.16426284,\n",
              "       1059406.13034803, 1214334.97315158,  969323.48582002,\n",
              "       1573288.81760129, 1445527.13666544, 1614667.52792399,\n",
              "       1311389.57582794, 1074296.70364502, 1487571.55133453,\n",
              "       1205962.99495335,  814573.14713516, 1048800.65127554,\n",
              "        714166.39780611, 1598593.7326674 , 1061222.53686884,\n",
              "       1572099.68985623,  798639.65417792, 1470427.37547844,\n",
              "       1613414.23305073, 2332110.74012441, 1384478.30454825,\n",
              "       1076334.10254553, 1309768.19610935, 1491145.24047706,\n",
              "        657169.30416153, 1735340.25568655, 1259163.06524366,\n",
              "       1535844.89615701,  749383.07255541, 1455737.13490413,\n",
              "        671343.94179278, 1431915.97700817, 1000043.90334677,\n",
              "       1293461.79788639, 1165240.17801062,  943469.80802451,\n",
              "        479500.55681083, 1587122.36870817, 1385783.51709252,\n",
              "       1360908.31962001, 1113782.46786715, 1170573.76986364,\n",
              "       1496466.35711052,  892718.09100739, 1441421.91299361,\n",
              "       1133814.07796292,  716316.48814446, 1721739.3841385 ,\n",
              "        917351.13559377, 1688093.25745804, 1327961.09821932,\n",
              "        615555.49361554,  560598.53843096, 1765809.4320663 ,\n",
              "       1660770.00171221,  755678.33010739,  975385.55540176,\n",
              "       1417275.66723223, 1066040.78865733,  710269.2139681 ,\n",
              "        880214.21187264, 1094347.96840307,  841392.49302811,\n",
              "       1173695.29185103, 1465120.47000627, 1261681.96081763,\n",
              "        707345.06243277, 1236308.2799445 ,  751324.13874907,\n",
              "       1168887.45933278, 1168355.31978963, 1022709.69550666,\n",
              "       1228138.1291209 , 1412097.17677432,  906011.38532356,\n",
              "       1505727.4308014 ,  972079.58755369, 1285202.33657612,\n",
              "       1408347.44473948, 1467271.55578944, 1637259.99866779,\n",
              "       1366727.66269611,  934111.63550053, 1302814.48932942,\n",
              "        745586.57350882, 1105024.41626698, 1208875.08358102,\n",
              "       1040762.8318839 ,  986285.38185614,  980274.06991386,\n",
              "       1690091.01869486,  454234.33443279, 1799455.40609275,\n",
              "       1350283.99651667,  619407.48626518, 1168760.42768571,\n",
              "       1203247.89013392, 1017105.3708379 ,  793894.97317935,\n",
              "       1914746.58225995, 1482107.36996381, 1794014.29785499,\n",
              "       1361828.84804824, 1224186.695926  , 1107031.24634948,\n",
              "       1405505.2437014 , 1924155.58152799, 1571253.53147505,\n",
              "        883147.47104321])"
            ]
          },
          "execution_count": 26,
          "metadata": {},
          "output_type": "execute_result"
        }
      ],
      "source": [
        "y_true = df_true['Price'].values\n",
        "y_true"
      ]
    },
    {
      "cell_type": "code",
      "execution_count": 27,
      "metadata": {},
      "outputs": [
        {
          "data": {
            "text/plain": [
              "80870.97270055496"
            ]
          },
          "execution_count": 27,
          "metadata": {},
          "output_type": "execute_result"
        }
      ],
      "source": [
        "MAE(y_true, predictions)"
      ]
    },
    {
      "cell_type": "code",
      "execution_count": 28,
      "metadata": {},
      "outputs": [
        {
          "data": {
            "text/plain": [
              "100418.79373434171"
            ]
          },
          "execution_count": 28,
          "metadata": {},
          "output_type": "execute_result"
        }
      ],
      "source": [
        "mean_squared_error(y_true, predictions, squared=False)"
      ]
    }
  ],
  "metadata": {
    "colab": {
      "provenance": []
    },
    "kernelspec": {
      "display_name": "Python 3",
      "name": "python3"
    },
    "language_info": {
      "codemirror_mode": {
        "name": "ipython",
        "version": 3
      },
      "file_extension": ".py",
      "mimetype": "text/x-python",
      "name": "python",
      "nbconvert_exporter": "python",
      "pygments_lexer": "ipython3",
      "version": "3.10.9"
    }
  },
  "nbformat": 4,
  "nbformat_minor": 0
}

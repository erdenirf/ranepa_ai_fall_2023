{
  "cells": [
    {
      "cell_type": "markdown",
      "metadata": {
        "id": "aPippf4M8G-n"
      },
      "source": [
        "# Обработка данных (Encoding, etc.)"
      ]
    },
    {
      "cell_type": "code",
      "execution_count": 1,
      "metadata": {
        "id": "iJgT40u6l5OL"
      },
      "outputs": [],
      "source": [
        "import pandas as pd\n",
        "from sklearn.model_selection import train_test_split\n"
      ]
    },
    {
      "cell_type": "code",
      "execution_count": 2,
      "metadata": {
        "id": "wJJdzYHDl5OM"
      },
      "outputs": [],
      "source": [
        "df = pd.read_csv('titanic_train.csv')\n",
        "test = pd.read_csv('titanic_test.csv')"
      ]
    },
    {
      "cell_type": "code",
      "execution_count": 3,
      "metadata": {
        "colab": {
          "base_uri": "https://localhost:8080/",
          "height": 424
        },
        "id": "mw0LvsATl5ON",
        "outputId": "24f22e44-6c8e-422b-e324-5658995b1e9b"
      },
      "outputs": [
        {
          "data": {
            "text/html": [
              "<div>\n",
              "<style scoped>\n",
              "    .dataframe tbody tr th:only-of-type {\n",
              "        vertical-align: middle;\n",
              "    }\n",
              "\n",
              "    .dataframe tbody tr th {\n",
              "        vertical-align: top;\n",
              "    }\n",
              "\n",
              "    .dataframe thead th {\n",
              "        text-align: right;\n",
              "    }\n",
              "</style>\n",
              "<table border=\"1\" class=\"dataframe\">\n",
              "  <thead>\n",
              "    <tr style=\"text-align: right;\">\n",
              "      <th></th>\n",
              "      <th>Unnamed: 0</th>\n",
              "      <th>PassengerId</th>\n",
              "      <th>Pclass</th>\n",
              "      <th>Name</th>\n",
              "      <th>Sex</th>\n",
              "      <th>Age</th>\n",
              "      <th>SibSp</th>\n",
              "      <th>Parch</th>\n",
              "      <th>Ticket</th>\n",
              "      <th>Fare</th>\n",
              "      <th>Cabin</th>\n",
              "      <th>Embarked</th>\n",
              "      <th>Survived</th>\n",
              "    </tr>\n",
              "  </thead>\n",
              "  <tbody>\n",
              "    <tr>\n",
              "      <th>0</th>\n",
              "      <td>0</td>\n",
              "      <td>332</td>\n",
              "      <td>1</td>\n",
              "      <td>Partner, Mr. Austen</td>\n",
              "      <td>male</td>\n",
              "      <td>45.5</td>\n",
              "      <td>0</td>\n",
              "      <td>0</td>\n",
              "      <td>113043</td>\n",
              "      <td>28.5000</td>\n",
              "      <td>C124</td>\n",
              "      <td>S</td>\n",
              "      <td>0</td>\n",
              "    </tr>\n",
              "    <tr>\n",
              "      <th>1</th>\n",
              "      <td>1</td>\n",
              "      <td>734</td>\n",
              "      <td>2</td>\n",
              "      <td>Berriman, Mr. William John</td>\n",
              "      <td>male</td>\n",
              "      <td>23.0</td>\n",
              "      <td>0</td>\n",
              "      <td>0</td>\n",
              "      <td>28425</td>\n",
              "      <td>13.0000</td>\n",
              "      <td>NaN</td>\n",
              "      <td>S</td>\n",
              "      <td>0</td>\n",
              "    </tr>\n",
              "    <tr>\n",
              "      <th>2</th>\n",
              "      <td>2</td>\n",
              "      <td>383</td>\n",
              "      <td>3</td>\n",
              "      <td>Tikkanen, Mr. Juho</td>\n",
              "      <td>male</td>\n",
              "      <td>32.0</td>\n",
              "      <td>0</td>\n",
              "      <td>0</td>\n",
              "      <td>STON/O 2. 3101293</td>\n",
              "      <td>7.9250</td>\n",
              "      <td>NaN</td>\n",
              "      <td>S</td>\n",
              "      <td>0</td>\n",
              "    </tr>\n",
              "    <tr>\n",
              "      <th>3</th>\n",
              "      <td>3</td>\n",
              "      <td>705</td>\n",
              "      <td>3</td>\n",
              "      <td>Hansen, Mr. Henrik Juul</td>\n",
              "      <td>male</td>\n",
              "      <td>26.0</td>\n",
              "      <td>1</td>\n",
              "      <td>0</td>\n",
              "      <td>350025</td>\n",
              "      <td>7.8542</td>\n",
              "      <td>NaN</td>\n",
              "      <td>S</td>\n",
              "      <td>0</td>\n",
              "    </tr>\n",
              "    <tr>\n",
              "      <th>4</th>\n",
              "      <td>4</td>\n",
              "      <td>814</td>\n",
              "      <td>3</td>\n",
              "      <td>Andersson, Miss. Ebba Iris Alfrida</td>\n",
              "      <td>female</td>\n",
              "      <td>6.0</td>\n",
              "      <td>4</td>\n",
              "      <td>2</td>\n",
              "      <td>347082</td>\n",
              "      <td>31.2750</td>\n",
              "      <td>NaN</td>\n",
              "      <td>S</td>\n",
              "      <td>0</td>\n",
              "    </tr>\n",
              "    <tr>\n",
              "      <th>...</th>\n",
              "      <td>...</td>\n",
              "      <td>...</td>\n",
              "      <td>...</td>\n",
              "      <td>...</td>\n",
              "      <td>...</td>\n",
              "      <td>...</td>\n",
              "      <td>...</td>\n",
              "      <td>...</td>\n",
              "      <td>...</td>\n",
              "      <td>...</td>\n",
              "      <td>...</td>\n",
              "      <td>...</td>\n",
              "      <td>...</td>\n",
              "    </tr>\n",
              "    <tr>\n",
              "      <th>707</th>\n",
              "      <td>707</td>\n",
              "      <td>107</td>\n",
              "      <td>3</td>\n",
              "      <td>Salkjelsvik, Miss. Anna Kristine</td>\n",
              "      <td>female</td>\n",
              "      <td>21.0</td>\n",
              "      <td>0</td>\n",
              "      <td>0</td>\n",
              "      <td>343120</td>\n",
              "      <td>7.6500</td>\n",
              "      <td>NaN</td>\n",
              "      <td>S</td>\n",
              "      <td>1</td>\n",
              "    </tr>\n",
              "    <tr>\n",
              "      <th>708</th>\n",
              "      <td>708</td>\n",
              "      <td>271</td>\n",
              "      <td>1</td>\n",
              "      <td>Cairns, Mr. Alexander</td>\n",
              "      <td>male</td>\n",
              "      <td>NaN</td>\n",
              "      <td>0</td>\n",
              "      <td>0</td>\n",
              "      <td>113798</td>\n",
              "      <td>31.0000</td>\n",
              "      <td>NaN</td>\n",
              "      <td>S</td>\n",
              "      <td>0</td>\n",
              "    </tr>\n",
              "    <tr>\n",
              "      <th>709</th>\n",
              "      <td>709</td>\n",
              "      <td>861</td>\n",
              "      <td>3</td>\n",
              "      <td>Hansen, Mr. Claus Peter</td>\n",
              "      <td>male</td>\n",
              "      <td>41.0</td>\n",
              "      <td>2</td>\n",
              "      <td>0</td>\n",
              "      <td>350026</td>\n",
              "      <td>14.1083</td>\n",
              "      <td>NaN</td>\n",
              "      <td>S</td>\n",
              "      <td>0</td>\n",
              "    </tr>\n",
              "    <tr>\n",
              "      <th>710</th>\n",
              "      <td>710</td>\n",
              "      <td>436</td>\n",
              "      <td>1</td>\n",
              "      <td>Carter, Miss. Lucile Polk</td>\n",
              "      <td>female</td>\n",
              "      <td>14.0</td>\n",
              "      <td>1</td>\n",
              "      <td>2</td>\n",
              "      <td>113760</td>\n",
              "      <td>120.0000</td>\n",
              "      <td>B96 B98</td>\n",
              "      <td>S</td>\n",
              "      <td>1</td>\n",
              "    </tr>\n",
              "    <tr>\n",
              "      <th>711</th>\n",
              "      <td>711</td>\n",
              "      <td>103</td>\n",
              "      <td>1</td>\n",
              "      <td>White, Mr. Richard Frasar</td>\n",
              "      <td>male</td>\n",
              "      <td>21.0</td>\n",
              "      <td>0</td>\n",
              "      <td>1</td>\n",
              "      <td>35281</td>\n",
              "      <td>77.2875</td>\n",
              "      <td>D26</td>\n",
              "      <td>S</td>\n",
              "      <td>0</td>\n",
              "    </tr>\n",
              "  </tbody>\n",
              "</table>\n",
              "<p>712 rows × 13 columns</p>\n",
              "</div>"
            ],
            "text/plain": [
              "     Unnamed: 0  PassengerId  Pclass                                Name  \\\n",
              "0             0          332       1                 Partner, Mr. Austen   \n",
              "1             1          734       2          Berriman, Mr. William John   \n",
              "2             2          383       3                  Tikkanen, Mr. Juho   \n",
              "3             3          705       3             Hansen, Mr. Henrik Juul   \n",
              "4             4          814       3  Andersson, Miss. Ebba Iris Alfrida   \n",
              "..          ...          ...     ...                                 ...   \n",
              "707         707          107       3    Salkjelsvik, Miss. Anna Kristine   \n",
              "708         708          271       1               Cairns, Mr. Alexander   \n",
              "709         709          861       3             Hansen, Mr. Claus Peter   \n",
              "710         710          436       1           Carter, Miss. Lucile Polk   \n",
              "711         711          103       1           White, Mr. Richard Frasar   \n",
              "\n",
              "        Sex   Age  SibSp  Parch             Ticket      Fare    Cabin  \\\n",
              "0      male  45.5      0      0             113043   28.5000     C124   \n",
              "1      male  23.0      0      0              28425   13.0000      NaN   \n",
              "2      male  32.0      0      0  STON/O 2. 3101293    7.9250      NaN   \n",
              "3      male  26.0      1      0             350025    7.8542      NaN   \n",
              "4    female   6.0      4      2             347082   31.2750      NaN   \n",
              "..      ...   ...    ...    ...                ...       ...      ...   \n",
              "707  female  21.0      0      0             343120    7.6500      NaN   \n",
              "708    male   NaN      0      0             113798   31.0000      NaN   \n",
              "709    male  41.0      2      0             350026   14.1083      NaN   \n",
              "710  female  14.0      1      2             113760  120.0000  B96 B98   \n",
              "711    male  21.0      0      1              35281   77.2875      D26   \n",
              "\n",
              "    Embarked  Survived  \n",
              "0          S         0  \n",
              "1          S         0  \n",
              "2          S         0  \n",
              "3          S         0  \n",
              "4          S         0  \n",
              "..       ...       ...  \n",
              "707        S         1  \n",
              "708        S         0  \n",
              "709        S         0  \n",
              "710        S         1  \n",
              "711        S         0  \n",
              "\n",
              "[712 rows x 13 columns]"
            ]
          },
          "execution_count": 3,
          "metadata": {},
          "output_type": "execute_result"
        }
      ],
      "source": [
        "df"
      ]
    },
    {
      "cell_type": "code",
      "execution_count": 4,
      "metadata": {
        "colab": {
          "base_uri": "https://localhost:8080/"
        },
        "id": "7BXhjp31l5ON",
        "outputId": "ee339b4d-fb0e-45e3-a7f9-a2d411f5e500"
      },
      "outputs": [
        {
          "name": "stdout",
          "output_type": "stream",
          "text": [
            "<class 'pandas.core.frame.DataFrame'>\n",
            "RangeIndex: 712 entries, 0 to 711\n",
            "Data columns (total 13 columns):\n",
            " #   Column       Non-Null Count  Dtype  \n",
            "---  ------       --------------  -----  \n",
            " 0   Unnamed: 0   712 non-null    int64  \n",
            " 1   PassengerId  712 non-null    int64  \n",
            " 2   Pclass       712 non-null    int64  \n",
            " 3   Name         712 non-null    object \n",
            " 4   Sex          712 non-null    object \n",
            " 5   Age          572 non-null    float64\n",
            " 6   SibSp        712 non-null    int64  \n",
            " 7   Parch        712 non-null    int64  \n",
            " 8   Ticket       712 non-null    object \n",
            " 9   Fare         712 non-null    float64\n",
            " 10  Cabin        159 non-null    object \n",
            " 11  Embarked     710 non-null    object \n",
            " 12  Survived     712 non-null    int64  \n",
            "dtypes: float64(2), int64(6), object(5)\n",
            "memory usage: 72.4+ KB\n"
          ]
        }
      ],
      "source": [
        "df.info()"
      ]
    },
    {
      "cell_type": "code",
      "execution_count": 5,
      "metadata": {
        "id": "Lzd7WiBLl5OO"
      },
      "outputs": [],
      "source": [
        "df2 = df.drop(columns=['Cabin', 'Unnamed: 0', 'Name'])\n",
        "test2 = test.drop(columns=['Cabin', 'Unnamed: 0', 'Name'])"
      ]
    },
    {
      "cell_type": "code",
      "execution_count": 6,
      "metadata": {
        "colab": {
          "base_uri": "https://localhost:8080/"
        },
        "id": "ecAV2kCjl5OO",
        "outputId": "6809bc0e-8607-4b26-e497-d9edd1502136"
      },
      "outputs": [
        {
          "name": "stdout",
          "output_type": "stream",
          "text": [
            "<class 'pandas.core.frame.DataFrame'>\n",
            "RangeIndex: 712 entries, 0 to 711\n",
            "Data columns (total 10 columns):\n",
            " #   Column       Non-Null Count  Dtype  \n",
            "---  ------       --------------  -----  \n",
            " 0   PassengerId  712 non-null    int64  \n",
            " 1   Pclass       712 non-null    int64  \n",
            " 2   Sex          712 non-null    object \n",
            " 3   Age          572 non-null    float64\n",
            " 4   SibSp        712 non-null    int64  \n",
            " 5   Parch        712 non-null    int64  \n",
            " 6   Ticket       712 non-null    object \n",
            " 7   Fare         712 non-null    float64\n",
            " 8   Embarked     710 non-null    object \n",
            " 9   Survived     712 non-null    int64  \n",
            "dtypes: float64(2), int64(5), object(3)\n",
            "memory usage: 55.8+ KB\n",
            "<class 'pandas.core.frame.DataFrame'>\n",
            "RangeIndex: 179 entries, 0 to 178\n",
            "Data columns (total 12 columns):\n",
            " #   Column       Non-Null Count  Dtype  \n",
            "---  ------       --------------  -----  \n",
            " 0   Unnamed: 0   179 non-null    int64  \n",
            " 1   PassengerId  179 non-null    int64  \n",
            " 2   Pclass       179 non-null    int64  \n",
            " 3   Name         179 non-null    object \n",
            " 4   Sex          179 non-null    object \n",
            " 5   Age          142 non-null    float64\n",
            " 6   SibSp        179 non-null    int64  \n",
            " 7   Parch        179 non-null    int64  \n",
            " 8   Ticket       179 non-null    object \n",
            " 9   Fare         179 non-null    float64\n",
            " 10  Cabin        45 non-null     object \n",
            " 11  Embarked     179 non-null    object \n",
            "dtypes: float64(2), int64(5), object(5)\n",
            "memory usage: 16.9+ KB\n"
          ]
        }
      ],
      "source": [
        "df2.info()\n",
        "test.info()"
      ]
    },
    {
      "cell_type": "code",
      "execution_count": 7,
      "metadata": {
        "colab": {
          "base_uri": "https://localhost:8080/"
        },
        "id": "wqIOPRzQl5OP",
        "outputId": "fa766842-d0f8-4c4b-d7e9-2bc4ffd460d0"
      },
      "outputs": [
        {
          "data": {
            "text/plain": [
              "count    572.000000\n",
              "mean      29.498846\n",
              "std       14.500059\n",
              "min        0.420000\n",
              "25%       21.000000\n",
              "50%       28.000000\n",
              "75%       38.000000\n",
              "max       80.000000\n",
              "Name: Age, dtype: float64"
            ]
          },
          "execution_count": 7,
          "metadata": {},
          "output_type": "execute_result"
        }
      ],
      "source": [
        "df2['Age'].describe()"
      ]
    },
    {
      "cell_type": "code",
      "execution_count": 8,
      "metadata": {
        "colab": {
          "base_uri": "https://localhost:8080/"
        },
        "id": "jmDRbvcriI0y",
        "outputId": "87400235-dfef-4611-eb89-b09ef2a9e334"
      },
      "outputs": [
        {
          "data": {
            "text/plain": [
              "count    142.000000\n",
              "mean      30.505845\n",
              "std       14.656239\n",
              "min        0.830000\n",
              "25%       20.000000\n",
              "50%       29.000000\n",
              "75%       38.750000\n",
              "max       71.000000\n",
              "Name: Age, dtype: float64"
            ]
          },
          "execution_count": 8,
          "metadata": {},
          "output_type": "execute_result"
        }
      ],
      "source": [
        "test2['Age'].describe()"
      ]
    },
    {
      "cell_type": "code",
      "execution_count": 9,
      "metadata": {
        "colab": {
          "base_uri": "https://localhost:8080/",
          "height": 447
        },
        "id": "sY0DdzOYl5OP",
        "outputId": "22b5c2be-b2d1-4861-a8ff-d0fb920fb9d6"
      },
      "outputs": [
        {
          "data": {
            "text/plain": [
              "<Axes: >"
            ]
          },
          "execution_count": 9,
          "metadata": {},
          "output_type": "execute_result"
        },
        {
          "data": {
            "image/png": "[encoded data removed]",
            "text/plain": [
              "<Figure size 640x480 with 1 Axes>"
            ]
          },
          "metadata": {},
          "output_type": "display_data"
        }
      ],
      "source": [
        "df2['Age'].hist()\n",
        "test2['Age'].hist()"
      ]
    },
    {
      "cell_type": "code",
      "execution_count": 10,
      "metadata": {
        "id": "5yXmCVDnl5OP"
      },
      "outputs": [],
      "source": [
        "df3 = df2.copy()\n",
        "df3['Age'] = df3['Age'].interpolate()\n",
        "df3 = df3.dropna()\n",
        "test3 = test2.copy()\n",
        "test3['Age'] = test3['Age'].interpolate()\n",
        "test3 = test3.dropna()"
      ]
    },
    {
      "cell_type": "code",
      "execution_count": 11,
      "metadata": {
        "colab": {
          "base_uri": "https://localhost:8080/"
        },
        "id": "78FoyShbl5OQ",
        "outputId": "ed73516b-f375-4fb2-a965-0eb638163cad"
      },
      "outputs": [
        {
          "name": "stdout",
          "output_type": "stream",
          "text": [
            "<class 'pandas.core.frame.DataFrame'>\n",
            "Int64Index: 710 entries, 0 to 711\n",
            "Data columns (total 10 columns):\n",
            " #   Column       Non-Null Count  Dtype  \n",
            "---  ------       --------------  -----  \n",
            " 0   PassengerId  710 non-null    int64  \n",
            " 1   Pclass       710 non-null    int64  \n",
            " 2   Sex          710 non-null    object \n",
            " 3   Age          710 non-null    float64\n",
            " 4   SibSp        710 non-null    int64  \n",
            " 5   Parch        710 non-null    int64  \n",
            " 6   Ticket       710 non-null    object \n",
            " 7   Fare         710 non-null    float64\n",
            " 8   Embarked     710 non-null    object \n",
            " 9   Survived     710 non-null    int64  \n",
            "dtypes: float64(2), int64(5), object(3)\n",
            "memory usage: 61.0+ KB\n",
            "<class 'pandas.core.frame.DataFrame'>\n",
            "Int64Index: 178 entries, 1 to 178\n",
            "Data columns (total 9 columns):\n",
            " #   Column       Non-Null Count  Dtype  \n",
            "---  ------       --------------  -----  \n",
            " 0   PassengerId  178 non-null    int64  \n",
            " 1   Pclass       178 non-null    int64  \n",
            " 2   Sex          178 non-null    object \n",
            " 3   Age          178 non-null    float64\n",
            " 4   SibSp        178 non-null    int64  \n",
            " 5   Parch        178 non-null    int64  \n",
            " 6   Ticket       178 non-null    object \n",
            " 7   Fare         178 non-null    float64\n",
            " 8   Embarked     178 non-null    object \n",
            "dtypes: float64(2), int64(4), object(3)\n",
            "memory usage: 13.9+ KB\n"
          ]
        }
      ],
      "source": [
        "df3.info()\n",
        "test3.info()"
      ]
    },
    {
      "cell_type": "code",
      "execution_count": 12,
      "metadata": {
        "colab": {
          "base_uri": "https://localhost:8080/"
        },
        "id": "4YE-5Yeel5OQ",
        "outputId": "c2d30e6c-15e2-4498-9e24-109262707125"
      },
      "outputs": [
        {
          "data": {
            "text/plain": [
              "count    710.000000\n",
              "mean      29.282697\n",
              "std       13.730286\n",
              "min        0.420000\n",
              "25%       21.000000\n",
              "50%       28.000000\n",
              "75%       37.000000\n",
              "max       80.000000\n",
              "Name: Age, dtype: float64"
            ]
          },
          "execution_count": 12,
          "metadata": {},
          "output_type": "execute_result"
        }
      ],
      "source": [
        "df3['Age'].describe()"
      ]
    },
    {
      "cell_type": "code",
      "execution_count": 13,
      "metadata": {
        "colab": {
          "base_uri": "https://localhost:8080/"
        },
        "id": "IR1jyC8aiB2R",
        "outputId": "d729c711-5dcc-4bb1-9b4c-c7ea5bdd837d"
      },
      "outputs": [
        {
          "data": {
            "text/plain": [
              "count    178.000000\n",
              "mean      30.514494\n",
              "std       14.069309\n",
              "min        0.830000\n",
              "25%       21.000000\n",
              "50%       29.000000\n",
              "75%       38.000000\n",
              "max       71.000000\n",
              "Name: Age, dtype: float64"
            ]
          },
          "execution_count": 13,
          "metadata": {},
          "output_type": "execute_result"
        }
      ],
      "source": [
        "test3['Age'].describe()"
      ]
    },
    {
      "cell_type": "code",
      "execution_count": 14,
      "metadata": {
        "colab": {
          "base_uri": "https://localhost:8080/",
          "height": 447
        },
        "id": "q4l4SKSIl5OR",
        "outputId": "1367d417-55c8-48b9-8e8b-a3afeb8356e4"
      },
      "outputs": [
        {
          "data": {
            "text/plain": [
              "<Axes: >"
            ]
          },
          "execution_count": 14,
          "metadata": {},
          "output_type": "execute_result"
        },
        {
          "data": {
            "image/png": "[encoded data removed]",
            "text/plain": [
              "<Figure size 640x480 with 1 Axes>"
            ]
          },
          "metadata": {},
          "output_type": "display_data"
        }
      ],
      "source": [
        "df3['Age'].hist()\n",
        "test3['Age'].hist()"
      ]
    },
    {
      "cell_type": "code",
      "execution_count": 15,
      "metadata": {
        "colab": {
          "base_uri": "https://localhost:8080/"
        },
        "id": "50BEJ-wpstNX",
        "outputId": "2d59cce9-324e-4e27-b211-d7e7c21310c7"
      },
      "outputs": [
        {
          "data": {
            "text/plain": [
              "male      467\n",
              "female    243\n",
              "Name: Sex, dtype: int64"
            ]
          },
          "execution_count": 15,
          "metadata": {},
          "output_type": "execute_result"
        }
      ],
      "source": [
        "df3['Sex'].value_counts()"
      ]
    },
    {
      "cell_type": "code",
      "execution_count": 16,
      "metadata": {
        "colab": {
          "base_uri": "https://localhost:8080/"
        },
        "id": "Epd8VlRTiWml",
        "outputId": "06dec65d-7fab-41fe-a061-61300c3fd352"
      },
      "outputs": [
        {
          "data": {
            "text/plain": [
              "male      109\n",
              "female     69\n",
              "Name: Sex, dtype: int64"
            ]
          },
          "execution_count": 16,
          "metadata": {},
          "output_type": "execute_result"
        }
      ],
      "source": [
        "test3['Sex'].value_counts()"
      ]
    },
    {
      "cell_type": "code",
      "execution_count": 17,
      "metadata": {
        "id": "n94_FqUktIO0"
      },
      "outputs": [],
      "source": [
        "df3 = pd.get_dummies(df3, columns = ['Sex', 'Embarked'])\n",
        "test3 = pd.get_dummies(test3, columns = ['Sex', 'Embarked'])"
      ]
    },
    {
      "cell_type": "code",
      "execution_count": 18,
      "metadata": {
        "id": "jQ6jGc-1tPlS"
      },
      "outputs": [],
      "source": [
        "from sklearn.preprocessing import LabelEncoder\n",
        "label = LabelEncoder()\n",
        "\n",
        "df3['Ticket'] = label.fit_transform(df3['Ticket'])\n",
        "test3['Ticket'] = label.fit_transform(test3['Ticket'])"
      ]
    },
    {
      "cell_type": "code",
      "execution_count": 19,
      "metadata": {
        "colab": {
          "base_uri": "https://localhost:8080/",
          "height": 424
        },
        "id": "nxDfpbtFiv8t",
        "outputId": "86bc6a20-dca5-4b0f-9958-713859e28354"
      },
      "outputs": [
        {
          "data": {
            "text/html": [
              "<div>\n",
              "<style scoped>\n",
              "    .dataframe tbody tr th:only-of-type {\n",
              "        vertical-align: middle;\n",
              "    }\n",
              "\n",
              "    .dataframe tbody tr th {\n",
              "        vertical-align: top;\n",
              "    }\n",
              "\n",
              "    .dataframe thead th {\n",
              "        text-align: right;\n",
              "    }\n",
              "</style>\n",
              "<table border=\"1\" class=\"dataframe\">\n",
              "  <thead>\n",
              "    <tr style=\"text-align: right;\">\n",
              "      <th></th>\n",
              "      <th>PassengerId</th>\n",
              "      <th>Pclass</th>\n",
              "      <th>Age</th>\n",
              "      <th>SibSp</th>\n",
              "      <th>Parch</th>\n",
              "      <th>Ticket</th>\n",
              "      <th>Fare</th>\n",
              "      <th>Sex_female</th>\n",
              "      <th>Sex_male</th>\n",
              "      <th>Embarked_C</th>\n",
              "      <th>Embarked_Q</th>\n",
              "      <th>Embarked_S</th>\n",
              "    </tr>\n",
              "  </thead>\n",
              "  <tbody>\n",
              "    <tr>\n",
              "      <th>1</th>\n",
              "      <td>440</td>\n",
              "      <td>2</td>\n",
              "      <td>31.0</td>\n",
              "      <td>0</td>\n",
              "      <td>0</td>\n",
              "      <td>130</td>\n",
              "      <td>10.5000</td>\n",
              "      <td>0</td>\n",
              "      <td>1</td>\n",
              "      <td>0</td>\n",
              "      <td>0</td>\n",
              "      <td>1</td>\n",
              "    </tr>\n",
              "    <tr>\n",
              "      <th>2</th>\n",
              "      <td>841</td>\n",
              "      <td>3</td>\n",
              "      <td>20.0</td>\n",
              "      <td>0</td>\n",
              "      <td>0</td>\n",
              "      <td>164</td>\n",
              "      <td>7.9250</td>\n",
              "      <td>0</td>\n",
              "      <td>1</td>\n",
              "      <td>0</td>\n",
              "      <td>0</td>\n",
              "      <td>1</td>\n",
              "    </tr>\n",
              "    <tr>\n",
              "      <th>3</th>\n",
              "      <td>721</td>\n",
              "      <td>2</td>\n",
              "      <td>6.0</td>\n",
              "      <td>0</td>\n",
              "      <td>1</td>\n",
              "      <td>41</td>\n",
              "      <td>33.0000</td>\n",
              "      <td>1</td>\n",
              "      <td>0</td>\n",
              "      <td>0</td>\n",
              "      <td>0</td>\n",
              "      <td>1</td>\n",
              "    </tr>\n",
              "    <tr>\n",
              "      <th>4</th>\n",
              "      <td>40</td>\n",
              "      <td>3</td>\n",
              "      <td>14.0</td>\n",
              "      <td>1</td>\n",
              "      <td>0</td>\n",
              "      <td>48</td>\n",
              "      <td>11.2417</td>\n",
              "      <td>1</td>\n",
              "      <td>0</td>\n",
              "      <td>1</td>\n",
              "      <td>0</td>\n",
              "      <td>0</td>\n",
              "    </tr>\n",
              "    <tr>\n",
              "      <th>5</th>\n",
              "      <td>291</td>\n",
              "      <td>1</td>\n",
              "      <td>26.0</td>\n",
              "      <td>0</td>\n",
              "      <td>0</td>\n",
              "      <td>28</td>\n",
              "      <td>78.8500</td>\n",
              "      <td>1</td>\n",
              "      <td>0</td>\n",
              "      <td>0</td>\n",
              "      <td>0</td>\n",
              "      <td>1</td>\n",
              "    </tr>\n",
              "    <tr>\n",
              "      <th>...</th>\n",
              "      <td>...</td>\n",
              "      <td>...</td>\n",
              "      <td>...</td>\n",
              "      <td>...</td>\n",
              "      <td>...</td>\n",
              "      <td>...</td>\n",
              "      <td>...</td>\n",
              "      <td>...</td>\n",
              "      <td>...</td>\n",
              "      <td>...</td>\n",
              "      <td>...</td>\n",
              "      <td>...</td>\n",
              "    </tr>\n",
              "    <tr>\n",
              "      <th>174</th>\n",
              "      <td>434</td>\n",
              "      <td>3</td>\n",
              "      <td>17.0</td>\n",
              "      <td>0</td>\n",
              "      <td>0</td>\n",
              "      <td>166</td>\n",
              "      <td>7.1250</td>\n",
              "      <td>0</td>\n",
              "      <td>1</td>\n",
              "      <td>0</td>\n",
              "      <td>0</td>\n",
              "      <td>1</td>\n",
              "    </tr>\n",
              "    <tr>\n",
              "      <th>175</th>\n",
              "      <td>774</td>\n",
              "      <td>3</td>\n",
              "      <td>27.5</td>\n",
              "      <td>0</td>\n",
              "      <td>0</td>\n",
              "      <td>52</td>\n",
              "      <td>7.2250</td>\n",
              "      <td>0</td>\n",
              "      <td>1</td>\n",
              "      <td>1</td>\n",
              "      <td>0</td>\n",
              "      <td>0</td>\n",
              "    </tr>\n",
              "    <tr>\n",
              "      <th>176</th>\n",
              "      <td>26</td>\n",
              "      <td>3</td>\n",
              "      <td>38.0</td>\n",
              "      <td>1</td>\n",
              "      <td>5</td>\n",
              "      <td>78</td>\n",
              "      <td>31.3875</td>\n",
              "      <td>1</td>\n",
              "      <td>0</td>\n",
              "      <td>0</td>\n",
              "      <td>0</td>\n",
              "      <td>1</td>\n",
              "    </tr>\n",
              "    <tr>\n",
              "      <th>177</th>\n",
              "      <td>85</td>\n",
              "      <td>2</td>\n",
              "      <td>17.0</td>\n",
              "      <td>0</td>\n",
              "      <td>0</td>\n",
              "      <td>159</td>\n",
              "      <td>10.5000</td>\n",
              "      <td>1</td>\n",
              "      <td>0</td>\n",
              "      <td>0</td>\n",
              "      <td>0</td>\n",
              "      <td>1</td>\n",
              "    </tr>\n",
              "    <tr>\n",
              "      <th>178</th>\n",
              "      <td>11</td>\n",
              "      <td>3</td>\n",
              "      <td>4.0</td>\n",
              "      <td>1</td>\n",
              "      <td>1</td>\n",
              "      <td>153</td>\n",
              "      <td>16.7000</td>\n",
              "      <td>1</td>\n",
              "      <td>0</td>\n",
              "      <td>0</td>\n",
              "      <td>0</td>\n",
              "      <td>1</td>\n",
              "    </tr>\n",
              "  </tbody>\n",
              "</table>\n",
              "<p>178 rows × 12 columns</p>\n",
              "</div>"
            ],
            "text/plain": [
              "     PassengerId  Pclass   Age  SibSp  Parch  Ticket     Fare  Sex_female  \\\n",
              "1            440       2  31.0      0      0     130  10.5000           0   \n",
              "2            841       3  20.0      0      0     164   7.9250           0   \n",
              "3            721       2   6.0      0      1      41  33.0000           1   \n",
              "4             40       3  14.0      1      0      48  11.2417           1   \n",
              "5            291       1  26.0      0      0      28  78.8500           1   \n",
              "..           ...     ...   ...    ...    ...     ...      ...         ...   \n",
              "174          434       3  17.0      0      0     166   7.1250           0   \n",
              "175          774       3  27.5      0      0      52   7.2250           0   \n",
              "176           26       3  38.0      1      5      78  31.3875           1   \n",
              "177           85       2  17.0      0      0     159  10.5000           1   \n",
              "178           11       3   4.0      1      1     153  16.7000           1   \n",
              "\n",
              "     Sex_male  Embarked_C  Embarked_Q  Embarked_S  \n",
              "1           1           0           0           1  \n",
              "2           1           0           0           1  \n",
              "3           0           0           0           1  \n",
              "4           0           1           0           0  \n",
              "5           0           0           0           1  \n",
              "..        ...         ...         ...         ...  \n",
              "174         1           0           0           1  \n",
              "175         1           1           0           0  \n",
              "176         0           0           0           1  \n",
              "177         0           0           0           1  \n",
              "178         0           0           0           1  \n",
              "\n",
              "[178 rows x 12 columns]"
            ]
          },
          "execution_count": 19,
          "metadata": {},
          "output_type": "execute_result"
        }
      ],
      "source": [
        "test3"
      ]
    },
    {
      "cell_type": "code",
      "execution_count": 20,
      "metadata": {
        "id": "xpWROB6logoU"
      },
      "outputs": [],
      "source": [
        "data_X = df3[['PassengerId', 'Pclass', 'Age', 'SibSp', 'Parch', 'Ticket', 'Fare', 'Sex_female', 'Sex_male', 'Embarked_C', 'Embarked_Q', 'Embarked_S']]"
      ]
    },
    {
      "cell_type": "code",
      "execution_count": 21,
      "metadata": {
        "id": "EUECJjodpWk4"
      },
      "outputs": [],
      "source": [
        "data_Y = df3[['Survived']]"
      ]
    },
    {
      "cell_type": "code",
      "execution_count": 22,
      "metadata": {
        "id": "DpvIWArwoCNf"
      },
      "outputs": [],
      "source": [
        "from sklearn.model_selection import train_test_split\n",
        "X_train, X_test, y_train, y_test = train_test_split(data_X, data_Y, random_state=42, test_size=0.1)"
      ]
    },
    {
      "cell_type": "code",
      "execution_count": 23,
      "metadata": {
        "id": "gJgjrkcql5OR"
      },
      "outputs": [],
      "source": [
        "from sklearn.metrics import confusion_matrix\n",
        "from sklearn.metrics import ConfusionMatrixDisplay\n",
        "from sklearn.metrics import classification_report\n",
        "from sklearn.metrics import recall_score, precision_score, f1_score, accuracy_score"
      ]
    },
    {
      "cell_type": "code",
      "execution_count": 24,
      "metadata": {
        "colab": {
          "base_uri": "https://localhost:8080/"
        },
        "id": "6ljJqB41tvjq",
        "outputId": "3af8804b-bc34-4a3d-9b0d-fbe643a2b7b5"
      },
      "outputs": [
        {
          "name": "stdout",
          "output_type": "stream",
          "text": [
            "<class 'pandas.core.frame.DataFrame'>\n",
            "Int64Index: 710 entries, 0 to 711\n",
            "Data columns (total 12 columns):\n",
            " #   Column       Non-Null Count  Dtype  \n",
            "---  ------       --------------  -----  \n",
            " 0   PassengerId  710 non-null    int64  \n",
            " 1   Pclass       710 non-null    int64  \n",
            " 2   Age          710 non-null    float64\n",
            " 3   SibSp        710 non-null    int64  \n",
            " 4   Parch        710 non-null    int64  \n",
            " 5   Ticket       710 non-null    int64  \n",
            " 6   Fare         710 non-null    float64\n",
            " 7   Sex_female   710 non-null    uint8  \n",
            " 8   Sex_male     710 non-null    uint8  \n",
            " 9   Embarked_C   710 non-null    uint8  \n",
            " 10  Embarked_Q   710 non-null    uint8  \n",
            " 11  Embarked_S   710 non-null    uint8  \n",
            "dtypes: float64(2), int64(5), uint8(5)\n",
            "memory usage: 47.8 KB\n"
          ]
        }
      ],
      "source": [
        "data_X.info()"
      ]
    },
    {
      "cell_type": "code",
      "execution_count": 25,
      "metadata": {
        "colab": {
          "base_uri": "https://localhost:8080/",
          "height": 424
        },
        "id": "vvS8eB6Uxpm4",
        "outputId": "0cc01ccb-e674-4a61-9d00-401e21d930c0"
      },
      "outputs": [
        {
          "data": {
            "text/html": [
              "<div>\n",
              "<style scoped>\n",
              "    .dataframe tbody tr th:only-of-type {\n",
              "        vertical-align: middle;\n",
              "    }\n",
              "\n",
              "    .dataframe tbody tr th {\n",
              "        vertical-align: top;\n",
              "    }\n",
              "\n",
              "    .dataframe thead th {\n",
              "        text-align: right;\n",
              "    }\n",
              "</style>\n",
              "<table border=\"1\" class=\"dataframe\">\n",
              "  <thead>\n",
              "    <tr style=\"text-align: right;\">\n",
              "      <th></th>\n",
              "      <th>Survived</th>\n",
              "    </tr>\n",
              "  </thead>\n",
              "  <tbody>\n",
              "    <tr>\n",
              "      <th>0</th>\n",
              "      <td>1</td>\n",
              "    </tr>\n",
              "    <tr>\n",
              "      <th>1</th>\n",
              "      <td>0</td>\n",
              "    </tr>\n",
              "    <tr>\n",
              "      <th>2</th>\n",
              "      <td>0</td>\n",
              "    </tr>\n",
              "    <tr>\n",
              "      <th>3</th>\n",
              "      <td>1</td>\n",
              "    </tr>\n",
              "    <tr>\n",
              "      <th>4</th>\n",
              "      <td>1</td>\n",
              "    </tr>\n",
              "    <tr>\n",
              "      <th>...</th>\n",
              "      <td>...</td>\n",
              "    </tr>\n",
              "    <tr>\n",
              "      <th>66</th>\n",
              "      <td>0</td>\n",
              "    </tr>\n",
              "    <tr>\n",
              "      <th>67</th>\n",
              "      <td>0</td>\n",
              "    </tr>\n",
              "    <tr>\n",
              "      <th>68</th>\n",
              "      <td>0</td>\n",
              "    </tr>\n",
              "    <tr>\n",
              "      <th>69</th>\n",
              "      <td>1</td>\n",
              "    </tr>\n",
              "    <tr>\n",
              "      <th>70</th>\n",
              "      <td>0</td>\n",
              "    </tr>\n",
              "  </tbody>\n",
              "</table>\n",
              "<p>71 rows × 1 columns</p>\n",
              "</div>"
            ],
            "text/plain": [
              "    Survived\n",
              "0          1\n",
              "1          0\n",
              "2          0\n",
              "3          1\n",
              "4          1\n",
              "..       ...\n",
              "66         0\n",
              "67         0\n",
              "68         0\n",
              "69         1\n",
              "70         0\n",
              "\n",
              "[71 rows x 1 columns]"
            ]
          },
          "execution_count": 25,
          "metadata": {},
          "output_type": "execute_result"
        }
      ],
      "source": [
        "y_test = y_test.reset_index(drop = True)\n",
        "y_test"
      ]
    },
    {
      "cell_type": "markdown",
      "metadata": {
        "id": "eVVxMKO-6_bT"
      },
      "source": [
        "# GridSearchCV for RandomForestClassifier - лучшая модель"
      ]
    },
    {
      "cell_type": "code",
      "execution_count": 27,
      "metadata": {
        "id": "HJhDcCUv4uxr"
      },
      "outputs": [],
      "source": [
        "from sklearn.model_selection import GridSearchCV\n",
        "from sklearn.ensemble import RandomForestClassifier\n",
        "\n",
        "clf = RandomForestClassifier()\n",
        "\n",
        "parameters = {'n_estimators': [200, 500],\n",
        "    'max_features': ['auto', 'sqrt', 'log2'],\n",
        "    'max_depth' : [4,5,6,7,8],\n",
        "    'criterion' :['gini', 'entropy']\n",
        "                 }\n",
        "grid = GridSearchCV(clf, parameters, cv=5, n_jobs=-1)"
      ]
    },
    {
      "cell_type": "code",
      "execution_count": 29,
      "metadata": {
        "colab": {
          "base_uri": "https://localhost:8080/",
          "height": 118
        },
        "id": "joU6CRbh5lex",
        "outputId": "2a5e428f-0684-4aa7-a321-476d01c3c72f"
      },
      "outputs": [],
      "source": [
        "#grid.fit(X_train, y_train.values.ravel())"
      ]
    },
    {
      "cell_type": "code",
      "execution_count": null,
      "metadata": {
        "colab": {
          "base_uri": "https://localhost:8080/"
        },
        "id": "e--r8yng6bcA",
        "outputId": "c502ca76-f796-4de5-fb62-18155e267fac"
      },
      "outputs": [
        {
          "data": {
            "text/plain": [
              "{'criterion': 'gini',\n",
              " 'max_depth': 8,\n",
              " 'max_features': 'sqrt',\n",
              " 'n_estimators': 200}"
            ]
          },
          "execution_count": 170,
          "metadata": {},
          "output_type": "execute_result"
        }
      ],
      "source": [
        "grid.best_params_"
      ]
    },
    {
      "cell_type": "code",
      "execution_count": 30,
      "metadata": {
        "colab": {
          "base_uri": "https://localhost:8080/"
        },
        "id": "_W_Q7yMq2kj0",
        "outputId": "ad8b91b4-08ad-400c-a023-1767cb722ed6"
      },
      "outputs": [
        {
          "name": "stderr",
          "output_type": "stream",
          "text": [
            "/tmp/ipykernel_10545/2310118431.py:3: DataConversionWarning: A column-vector y was passed when a 1d array was expected. Please change the shape of y to (n_samples,), for example using ravel().\n",
            "  clf.fit(X_train, y_train)\n"
          ]
        }
      ],
      "source": [
        "from sklearn.ensemble import RandomForestClassifier\n",
        "clf = RandomForestClassifier(max_depth=8, criterion = 'gini', max_features = 'sqrt', n_estimators = 200)\n",
        "clf.fit(X_train, y_train)\n",
        "y_pred1 = clf.predict(X_test)\n",
        "y_pred1 = pd.DataFrame(y_pred1)"
      ]
    },
    {
      "cell_type": "code",
      "execution_count": 31,
      "metadata": {
        "colab": {
          "base_uri": "https://localhost:8080/"
        },
        "id": "1z9aohib3R6l",
        "outputId": "d93b9331-35d8-4550-b3a9-ee1f6e5f84f2"
      },
      "outputs": [
        {
          "name": "stdout",
          "output_type": "stream",
          "text": [
            "Accuracy score:  0.8591549295774648\n",
            "Precision score:  0.8214285714285714\n",
            "Recall score:  0.8214285714285714\n"
          ]
        }
      ],
      "source": [
        "from sklearn.metrics import accuracy_score\n",
        "from sklearn.metrics import precision_score\n",
        "from sklearn.metrics import recall_score\n",
        "\n",
        "score4 = accuracy_score(y_test, y_pred1)\n",
        "score5 = precision_score(y_test, y_pred1)\n",
        "score6 = recall_score(y_test, y_pred1)\n",
        "\n",
        "print('Accuracy score: ', score4)\n",
        "print('Precision score: ', score5)\n",
        "print('Recall score: ', score6)"
      ]
    },
    {
      "cell_type": "markdown",
      "metadata": {},
      "source": [
        "# Валидация (Эрдэни)"
      ]
    },
    {
      "cell_type": "code",
      "execution_count": 32,
      "metadata": {
        "id": "h1YzQnz79lJv"
      },
      "outputs": [],
      "source": [
        "y_pred_test = clf.predict(test3)\n",
        "y_pred_test = pd.DataFrame(y_pred_test)"
      ]
    },
    {
      "cell_type": "code",
      "execution_count": 39,
      "metadata": {},
      "outputs": [
        {
          "data": {
            "text/plain": [
              "178"
            ]
          },
          "execution_count": 39,
          "metadata": {},
          "output_type": "execute_result"
        }
      ],
      "source": [
        "len(y_pred_test)"
      ]
    },
    {
      "cell_type": "code",
      "execution_count": 41,
      "metadata": {},
      "outputs": [
        {
          "data": {
            "text/plain": [
              "array([0, 0, 1, 1, 1, 1, 0, 1, 1, 0, 0, 0, 0, 0, 1, 1, 1, 0, 0, 0, 1, 1,\n",
              "       0, 0, 0, 0, 1, 0, 0, 0, 1, 0, 0, 1, 0, 1, 1, 1, 0, 0, 0, 0, 0, 0,\n",
              "       0, 0, 0, 0, 0, 1, 1, 0, 1, 0, 1, 0, 1, 1, 1, 0, 1, 1, 0, 0, 0, 0,\n",
              "       0, 0, 1, 0, 1, 1, 1, 0, 0, 0, 1, 0, 0, 0, 1, 1, 0, 0, 0, 1, 1, 0,\n",
              "       0, 1, 0, 0, 0, 0, 0, 1, 1, 1, 0, 0, 0, 1, 0, 0, 0, 1, 0, 1, 1, 1,\n",
              "       0, 1, 1, 0, 0, 0, 0, 1, 0, 0, 1, 1, 1, 0, 1, 1, 0, 0, 0, 1, 1, 0,\n",
              "       1, 1, 1, 1, 0, 0, 0, 0, 0, 0, 0, 0, 1, 0, 0, 1, 0, 0, 0, 0, 1, 0,\n",
              "       0, 1, 1, 1, 0, 0, 1, 0, 1, 0, 0, 0, 1, 0, 0, 1, 1, 1, 0, 0, 0, 1,\n",
              "       1, 1])"
            ]
          },
          "execution_count": 41,
          "metadata": {},
          "output_type": "execute_result"
        }
      ],
      "source": [
        "df_true = pd.read_csv(\"titanic_y_true178.csv\")\n",
        "y_true = df_true['Survived'].values\n",
        "y_true"
      ]
    },
    {
      "cell_type": "code",
      "execution_count": 42,
      "metadata": {},
      "outputs": [
        {
          "data": {
            "text/plain": [
              "0.7921348314606742"
            ]
          },
          "execution_count": 42,
          "metadata": {},
          "output_type": "execute_result"
        }
      ],
      "source": [
        "accuracy_score(y_true, y_pred_test)"
      ]
    },
    {
      "cell_type": "code",
      "execution_count": 33,
      "metadata": {
        "colab": {
          "base_uri": "https://localhost:8080/",
          "height": 17
        },
        "id": "hbz59PzykFAI",
        "outputId": "70f45b09-fb67-4f9f-801d-8f5fa5b24b21"
      },
      "outputs": [],
      "source": [
        "#from google.colab import files\n",
        "#y_pred_test.to_excel(\"Test_predictions.xlsx\")\n",
        "#files.download(\"Test_predictions.xlsx\")"
      ]
    }
  ],
  "metadata": {
    "colab": {
      "provenance": []
    },
    "kernelspec": {
      "display_name": "base",
      "language": "python",
      "name": "python3"
    },
    "language_info": {
      "codemirror_mode": {
        "name": "ipython",
        "version": 3
      },
      "file_extension": ".py",
      "mimetype": "text/x-python",
      "name": "python",
      "nbconvert_exporter": "python",
      "pygments_lexer": "ipython3",
      "version": "3.10.9"
    },
    "orig_nbformat": 4
  },
  "nbformat": 4,
  "nbformat_minor": 0
}

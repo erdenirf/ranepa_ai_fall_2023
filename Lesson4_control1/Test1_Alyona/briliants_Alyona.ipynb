{
  "cells": [
    {
      "cell_type": "code",
      "execution_count": 1,
      "metadata": {
        "id": "OrrNleXFyTGp"
      },
      "outputs": [],
      "source": [
        "import pandas as pd\n",
        "from sklearn.model_selection import train_test_split\n",
        "\n",
        "from sklearn.metrics import mean_absolute_error, r2_score\n",
        "from sklearn.metrics import mean_squared_error\n",
        "from sklearn.linear_model import LinearRegression\n",
        "from sklearn.neighbors import KNeighborsRegressor\n",
        "from sklearn.ensemble import RandomForestRegressor\n",
        "from sklearn.ensemble import AdaBoostRegressor\n",
        "from sklearn.ensemble import GradientBoostingRegressor\n",
        "from sklearn.model_selection import GridSearchCV\n",
        "from sklearn.ensemble import RandomForestClassifier"
      ]
    },
    {
      "cell_type": "code",
      "execution_count": 2,
      "metadata": {
        "id": "dplFC7s1yTGs"
      },
      "outputs": [],
      "source": [
        "df = pd.read_csv(\"briliants_train.csv\", index_col=0)"
      ]
    },
    {
      "cell_type": "code",
      "execution_count": 3,
      "metadata": {
        "colab": {
          "base_uri": "https://localhost:8080/",
          "height": 423
        },
        "id": "JnjV9u3VyTGs",
        "outputId": "1b9e66a5-c1f6-452d-b19b-2667b5227940"
      },
      "outputs": [
        {
          "data": {
            "text/html": [
              "<div>\n",
              "<style scoped>\n",
              "    .dataframe tbody tr th:only-of-type {\n",
              "        vertical-align: middle;\n",
              "    }\n",
              "\n",
              "    .dataframe tbody tr th {\n",
              "        vertical-align: top;\n",
              "    }\n",
              "\n",
              "    .dataframe thead th {\n",
              "        text-align: right;\n",
              "    }\n",
              "</style>\n",
              "<table border=\"1\" class=\"dataframe\">\n",
              "  <thead>\n",
              "    <tr style=\"text-align: right;\">\n",
              "      <th></th>\n",
              "      <th>carat</th>\n",
              "      <th>cut</th>\n",
              "      <th>color</th>\n",
              "      <th>clarity</th>\n",
              "      <th>depth</th>\n",
              "      <th>table</th>\n",
              "      <th>x</th>\n",
              "      <th>y</th>\n",
              "      <th>z</th>\n",
              "      <th>price</th>\n",
              "    </tr>\n",
              "  </thead>\n",
              "  <tbody>\n",
              "    <tr>\n",
              "      <th>0</th>\n",
              "      <td>0.25</td>\n",
              "      <td>Good</td>\n",
              "      <td>E</td>\n",
              "      <td>VVS2</td>\n",
              "      <td>64.9</td>\n",
              "      <td>58.0</td>\n",
              "      <td>3.95</td>\n",
              "      <td>3.97</td>\n",
              "      <td>2.57</td>\n",
              "      <td>476</td>\n",
              "    </tr>\n",
              "    <tr>\n",
              "      <th>1</th>\n",
              "      <td>0.84</td>\n",
              "      <td>Ideal</td>\n",
              "      <td>J</td>\n",
              "      <td>SI1</td>\n",
              "      <td>61.8</td>\n",
              "      <td>56.0</td>\n",
              "      <td>6.04</td>\n",
              "      <td>6.07</td>\n",
              "      <td>3.74</td>\n",
              "      <td>2493</td>\n",
              "    </tr>\n",
              "    <tr>\n",
              "      <th>2</th>\n",
              "      <td>1.05</td>\n",
              "      <td>Premium</td>\n",
              "      <td>J</td>\n",
              "      <td>VS2</td>\n",
              "      <td>61.1</td>\n",
              "      <td>58.0</td>\n",
              "      <td>6.56</td>\n",
              "      <td>6.51</td>\n",
              "      <td>3.99</td>\n",
              "      <td>4145</td>\n",
              "    </tr>\n",
              "    <tr>\n",
              "      <th>3</th>\n",
              "      <td>1.02</td>\n",
              "      <td>Ideal</td>\n",
              "      <td>F</td>\n",
              "      <td>SI2</td>\n",
              "      <td>60.7</td>\n",
              "      <td>56.0</td>\n",
              "      <td>6.53</td>\n",
              "      <td>6.50</td>\n",
              "      <td>3.95</td>\n",
              "      <td>4541</td>\n",
              "    </tr>\n",
              "    <tr>\n",
              "      <th>4</th>\n",
              "      <td>0.61</td>\n",
              "      <td>Ideal</td>\n",
              "      <td>F</td>\n",
              "      <td>VS1</td>\n",
              "      <td>61.8</td>\n",
              "      <td>57.0</td>\n",
              "      <td>5.43</td>\n",
              "      <td>5.47</td>\n",
              "      <td>3.37</td>\n",
              "      <td>2283</td>\n",
              "    </tr>\n",
              "    <tr>\n",
              "      <th>...</th>\n",
              "      <td>...</td>\n",
              "      <td>...</td>\n",
              "      <td>...</td>\n",
              "      <td>...</td>\n",
              "      <td>...</td>\n",
              "      <td>...</td>\n",
              "      <td>...</td>\n",
              "      <td>...</td>\n",
              "      <td>...</td>\n",
              "      <td>...</td>\n",
              "    </tr>\n",
              "    <tr>\n",
              "      <th>40450</th>\n",
              "      <td>1.05</td>\n",
              "      <td>Very Good</td>\n",
              "      <td>I</td>\n",
              "      <td>VS2</td>\n",
              "      <td>62.4</td>\n",
              "      <td>59.0</td>\n",
              "      <td>6.48</td>\n",
              "      <td>6.51</td>\n",
              "      <td>4.05</td>\n",
              "      <td>4975</td>\n",
              "    </tr>\n",
              "    <tr>\n",
              "      <th>40451</th>\n",
              "      <td>0.47</td>\n",
              "      <td>Ideal</td>\n",
              "      <td>D</td>\n",
              "      <td>VS1</td>\n",
              "      <td>61.0</td>\n",
              "      <td>55.0</td>\n",
              "      <td>5.03</td>\n",
              "      <td>5.01</td>\n",
              "      <td>3.06</td>\n",
              "      <td>1617</td>\n",
              "    </tr>\n",
              "    <tr>\n",
              "      <th>40452</th>\n",
              "      <td>0.33</td>\n",
              "      <td>Very Good</td>\n",
              "      <td>F</td>\n",
              "      <td>IF</td>\n",
              "      <td>60.3</td>\n",
              "      <td>58.0</td>\n",
              "      <td>4.49</td>\n",
              "      <td>4.46</td>\n",
              "      <td>2.70</td>\n",
              "      <td>1014</td>\n",
              "    </tr>\n",
              "    <tr>\n",
              "      <th>40453</th>\n",
              "      <td>0.90</td>\n",
              "      <td>Premium</td>\n",
              "      <td>J</td>\n",
              "      <td>SI1</td>\n",
              "      <td>62.8</td>\n",
              "      <td>59.0</td>\n",
              "      <td>6.13</td>\n",
              "      <td>6.03</td>\n",
              "      <td>3.82</td>\n",
              "      <td>2871</td>\n",
              "    </tr>\n",
              "    <tr>\n",
              "      <th>40454</th>\n",
              "      <td>1.14</td>\n",
              "      <td>Premium</td>\n",
              "      <td>F</td>\n",
              "      <td>SI1</td>\n",
              "      <td>60.4</td>\n",
              "      <td>58.0</td>\n",
              "      <td>6.82</td>\n",
              "      <td>6.79</td>\n",
              "      <td>4.11</td>\n",
              "      <td>6320</td>\n",
              "    </tr>\n",
              "  </tbody>\n",
              "</table>\n",
              "<p>40455 rows × 10 columns</p>\n",
              "</div>"
            ],
            "text/plain": [
              "       carat        cut color clarity  depth  table     x     y     z  price\n",
              "0       0.25       Good     E    VVS2   64.9   58.0  3.95  3.97  2.57    476\n",
              "1       0.84      Ideal     J     SI1   61.8   56.0  6.04  6.07  3.74   2493\n",
              "2       1.05    Premium     J     VS2   61.1   58.0  6.56  6.51  3.99   4145\n",
              "3       1.02      Ideal     F     SI2   60.7   56.0  6.53  6.50  3.95   4541\n",
              "4       0.61      Ideal     F     VS1   61.8   57.0  5.43  5.47  3.37   2283\n",
              "...      ...        ...   ...     ...    ...    ...   ...   ...   ...    ...\n",
              "40450   1.05  Very Good     I     VS2   62.4   59.0  6.48  6.51  4.05   4975\n",
              "40451   0.47      Ideal     D     VS1   61.0   55.0  5.03  5.01  3.06   1617\n",
              "40452   0.33  Very Good     F      IF   60.3   58.0  4.49  4.46  2.70   1014\n",
              "40453   0.90    Premium     J     SI1   62.8   59.0  6.13  6.03  3.82   2871\n",
              "40454   1.14    Premium     F     SI1   60.4   58.0  6.82  6.79  4.11   6320\n",
              "\n",
              "[40455 rows x 10 columns]"
            ]
          },
          "execution_count": 3,
          "metadata": {},
          "output_type": "execute_result"
        }
      ],
      "source": [
        "df"
      ]
    },
    {
      "cell_type": "markdown",
      "metadata": {
        "id": "ULo0AYOP0D1H"
      },
      "source": [
        "# Обработка данных\n"
      ]
    },
    {
      "cell_type": "code",
      "execution_count": 4,
      "metadata": {
        "colab": {
          "base_uri": "https://localhost:8080/"
        },
        "id": "xoiFOrhx0dX8",
        "outputId": "373ff812-564d-4634-a5aa-c03c8bc0b14a"
      },
      "outputs": [
        {
          "name": "stdout",
          "output_type": "stream",
          "text": [
            "<class 'pandas.core.frame.DataFrame'>\n",
            "Int64Index: 40455 entries, 0 to 40454\n",
            "Data columns (total 10 columns):\n",
            " #   Column   Non-Null Count  Dtype  \n",
            "---  ------   --------------  -----  \n",
            " 0   carat    40455 non-null  float64\n",
            " 1   cut      40455 non-null  object \n",
            " 2   color    40455 non-null  object \n",
            " 3   clarity  40455 non-null  object \n",
            " 4   depth    40455 non-null  float64\n",
            " 5   table    40455 non-null  float64\n",
            " 6   x        40455 non-null  float64\n",
            " 7   y        40455 non-null  float64\n",
            " 8   z        40455 non-null  float64\n",
            " 9   price    40455 non-null  int64  \n",
            "dtypes: float64(6), int64(1), object(3)\n",
            "memory usage: 3.4+ MB\n"
          ]
        }
      ],
      "source": [
        "df.info()"
      ]
    },
    {
      "cell_type": "code",
      "execution_count": 5,
      "metadata": {
        "colab": {
          "base_uri": "https://localhost:8080/"
        },
        "id": "K0FCilpc0wdR",
        "outputId": "cf5b1ea6-2b0b-4e68-8724-63637041297e"
      },
      "outputs": [
        {
          "data": {
            "text/plain": [
              "array(['E', 'J', 'F', 'G', 'D', 'H', 'I'], dtype=object)"
            ]
          },
          "execution_count": 5,
          "metadata": {},
          "output_type": "execute_result"
        }
      ],
      "source": [
        "df['color'].unique()"
      ]
    },
    {
      "cell_type": "code",
      "execution_count": 6,
      "metadata": {
        "colab": {
          "base_uri": "https://localhost:8080/"
        },
        "id": "-bVJ1KTs1-75",
        "outputId": "7965de8c-b292-45a8-9299-da3850cb6605"
      },
      "outputs": [
        {
          "data": {
            "text/plain": [
              "array(['Good', 'Ideal', 'Premium', 'Fair', 'Very Good'], dtype=object)"
            ]
          },
          "execution_count": 6,
          "metadata": {},
          "output_type": "execute_result"
        }
      ],
      "source": [
        "df['cut'].unique()"
      ]
    },
    {
      "cell_type": "code",
      "execution_count": 7,
      "metadata": {
        "colab": {
          "base_uri": "https://localhost:8080/"
        },
        "id": "4BCu0c352JMn",
        "outputId": "c7949916-cecd-47d2-9238-2a5aa4373d7c"
      },
      "outputs": [
        {
          "data": {
            "text/plain": [
              "array(['VVS2', 'SI1', 'VS2', 'SI2', 'VS1', 'IF', 'VVS1', 'I1'],\n",
              "      dtype=object)"
            ]
          },
          "execution_count": 7,
          "metadata": {},
          "output_type": "execute_result"
        }
      ],
      "source": [
        "df['clarity'].unique()"
      ]
    },
    {
      "cell_type": "code",
      "execution_count": 8,
      "metadata": {
        "id": "W5kGWSda0FiW"
      },
      "outputs": [],
      "source": [
        "# Создаем словарь для замены значений\n",
        "color_mapping = {'D': 1, 'E': 2, 'F': 3, 'G': 4, 'H': 5, 'I': 6, 'J': 7}\n",
        "cut_mapping = {'Ideal': 1, 'Premium': 2, 'Very Good': 3, 'Good': 4, 'Fair': 5}\n",
        "clarity_mapping = {'IF': 1, 'VVS1': 2, 'VVS2': 3, 'VS1': 4, 'VS2': 5, 'SI1': 6, 'SI2': 7, 'I1': 8}\n",
        "\n",
        "# Заменяем значения в столбце \"color\" с помощью метода map\n",
        "df['color'] = df['color'].map(color_mapping)\n",
        "df['cut'] = df['cut'].map(cut_mapping)\n",
        "df['clarity'] = df['clarity'].map(clarity_mapping)\n",
        "\n",
        "#LableEncoder"
      ]
    },
    {
      "cell_type": "code",
      "execution_count": null,
      "metadata": {
        "id": "MiVDeIrA7uCM"
      },
      "outputs": [],
      "source": [
        "#le = LabelEncoder()\n",
        "\n",
        "#df['color']=le.fit_transform(df['color'])\n",
        "#df['cut']=le.fit_transform(df['cut'])\n",
        "#df['clarity']=le.fit_transform(df['clarity'])"
      ]
    },
    {
      "cell_type": "code",
      "execution_count": 9,
      "metadata": {
        "colab": {
          "base_uri": "https://localhost:8080/",
          "height": 423
        },
        "id": "skkB2QSY0s8u",
        "outputId": "14f169f1-7166-49c9-e6cf-f79ca030243f"
      },
      "outputs": [
        {
          "data": {
            "text/html": [
              "<div>\n",
              "<style scoped>\n",
              "    .dataframe tbody tr th:only-of-type {\n",
              "        vertical-align: middle;\n",
              "    }\n",
              "\n",
              "    .dataframe tbody tr th {\n",
              "        vertical-align: top;\n",
              "    }\n",
              "\n",
              "    .dataframe thead th {\n",
              "        text-align: right;\n",
              "    }\n",
              "</style>\n",
              "<table border=\"1\" class=\"dataframe\">\n",
              "  <thead>\n",
              "    <tr style=\"text-align: right;\">\n",
              "      <th></th>\n",
              "      <th>carat</th>\n",
              "      <th>cut</th>\n",
              "      <th>color</th>\n",
              "      <th>clarity</th>\n",
              "      <th>depth</th>\n",
              "      <th>table</th>\n",
              "      <th>x</th>\n",
              "      <th>y</th>\n",
              "      <th>z</th>\n",
              "      <th>price</th>\n",
              "    </tr>\n",
              "  </thead>\n",
              "  <tbody>\n",
              "    <tr>\n",
              "      <th>0</th>\n",
              "      <td>0.25</td>\n",
              "      <td>4</td>\n",
              "      <td>2</td>\n",
              "      <td>3</td>\n",
              "      <td>64.9</td>\n",
              "      <td>58.0</td>\n",
              "      <td>3.95</td>\n",
              "      <td>3.97</td>\n",
              "      <td>2.57</td>\n",
              "      <td>476</td>\n",
              "    </tr>\n",
              "    <tr>\n",
              "      <th>1</th>\n",
              "      <td>0.84</td>\n",
              "      <td>1</td>\n",
              "      <td>7</td>\n",
              "      <td>6</td>\n",
              "      <td>61.8</td>\n",
              "      <td>56.0</td>\n",
              "      <td>6.04</td>\n",
              "      <td>6.07</td>\n",
              "      <td>3.74</td>\n",
              "      <td>2493</td>\n",
              "    </tr>\n",
              "    <tr>\n",
              "      <th>2</th>\n",
              "      <td>1.05</td>\n",
              "      <td>2</td>\n",
              "      <td>7</td>\n",
              "      <td>5</td>\n",
              "      <td>61.1</td>\n",
              "      <td>58.0</td>\n",
              "      <td>6.56</td>\n",
              "      <td>6.51</td>\n",
              "      <td>3.99</td>\n",
              "      <td>4145</td>\n",
              "    </tr>\n",
              "    <tr>\n",
              "      <th>3</th>\n",
              "      <td>1.02</td>\n",
              "      <td>1</td>\n",
              "      <td>3</td>\n",
              "      <td>7</td>\n",
              "      <td>60.7</td>\n",
              "      <td>56.0</td>\n",
              "      <td>6.53</td>\n",
              "      <td>6.50</td>\n",
              "      <td>3.95</td>\n",
              "      <td>4541</td>\n",
              "    </tr>\n",
              "    <tr>\n",
              "      <th>4</th>\n",
              "      <td>0.61</td>\n",
              "      <td>1</td>\n",
              "      <td>3</td>\n",
              "      <td>4</td>\n",
              "      <td>61.8</td>\n",
              "      <td>57.0</td>\n",
              "      <td>5.43</td>\n",
              "      <td>5.47</td>\n",
              "      <td>3.37</td>\n",
              "      <td>2283</td>\n",
              "    </tr>\n",
              "    <tr>\n",
              "      <th>...</th>\n",
              "      <td>...</td>\n",
              "      <td>...</td>\n",
              "      <td>...</td>\n",
              "      <td>...</td>\n",
              "      <td>...</td>\n",
              "      <td>...</td>\n",
              "      <td>...</td>\n",
              "      <td>...</td>\n",
              "      <td>...</td>\n",
              "      <td>...</td>\n",
              "    </tr>\n",
              "    <tr>\n",
              "      <th>40450</th>\n",
              "      <td>1.05</td>\n",
              "      <td>3</td>\n",
              "      <td>6</td>\n",
              "      <td>5</td>\n",
              "      <td>62.4</td>\n",
              "      <td>59.0</td>\n",
              "      <td>6.48</td>\n",
              "      <td>6.51</td>\n",
              "      <td>4.05</td>\n",
              "      <td>4975</td>\n",
              "    </tr>\n",
              "    <tr>\n",
              "      <th>40451</th>\n",
              "      <td>0.47</td>\n",
              "      <td>1</td>\n",
              "      <td>1</td>\n",
              "      <td>4</td>\n",
              "      <td>61.0</td>\n",
              "      <td>55.0</td>\n",
              "      <td>5.03</td>\n",
              "      <td>5.01</td>\n",
              "      <td>3.06</td>\n",
              "      <td>1617</td>\n",
              "    </tr>\n",
              "    <tr>\n",
              "      <th>40452</th>\n",
              "      <td>0.33</td>\n",
              "      <td>3</td>\n",
              "      <td>3</td>\n",
              "      <td>1</td>\n",
              "      <td>60.3</td>\n",
              "      <td>58.0</td>\n",
              "      <td>4.49</td>\n",
              "      <td>4.46</td>\n",
              "      <td>2.70</td>\n",
              "      <td>1014</td>\n",
              "    </tr>\n",
              "    <tr>\n",
              "      <th>40453</th>\n",
              "      <td>0.90</td>\n",
              "      <td>2</td>\n",
              "      <td>7</td>\n",
              "      <td>6</td>\n",
              "      <td>62.8</td>\n",
              "      <td>59.0</td>\n",
              "      <td>6.13</td>\n",
              "      <td>6.03</td>\n",
              "      <td>3.82</td>\n",
              "      <td>2871</td>\n",
              "    </tr>\n",
              "    <tr>\n",
              "      <th>40454</th>\n",
              "      <td>1.14</td>\n",
              "      <td>2</td>\n",
              "      <td>3</td>\n",
              "      <td>6</td>\n",
              "      <td>60.4</td>\n",
              "      <td>58.0</td>\n",
              "      <td>6.82</td>\n",
              "      <td>6.79</td>\n",
              "      <td>4.11</td>\n",
              "      <td>6320</td>\n",
              "    </tr>\n",
              "  </tbody>\n",
              "</table>\n",
              "<p>40455 rows × 10 columns</p>\n",
              "</div>"
            ],
            "text/plain": [
              "       carat  cut  color  clarity  depth  table     x     y     z  price\n",
              "0       0.25    4      2        3   64.9   58.0  3.95  3.97  2.57    476\n",
              "1       0.84    1      7        6   61.8   56.0  6.04  6.07  3.74   2493\n",
              "2       1.05    2      7        5   61.1   58.0  6.56  6.51  3.99   4145\n",
              "3       1.02    1      3        7   60.7   56.0  6.53  6.50  3.95   4541\n",
              "4       0.61    1      3        4   61.8   57.0  5.43  5.47  3.37   2283\n",
              "...      ...  ...    ...      ...    ...    ...   ...   ...   ...    ...\n",
              "40450   1.05    3      6        5   62.4   59.0  6.48  6.51  4.05   4975\n",
              "40451   0.47    1      1        4   61.0   55.0  5.03  5.01  3.06   1617\n",
              "40452   0.33    3      3        1   60.3   58.0  4.49  4.46  2.70   1014\n",
              "40453   0.90    2      7        6   62.8   59.0  6.13  6.03  3.82   2871\n",
              "40454   1.14    2      3        6   60.4   58.0  6.82  6.79  4.11   6320\n",
              "\n",
              "[40455 rows x 10 columns]"
            ]
          },
          "execution_count": 9,
          "metadata": {},
          "output_type": "execute_result"
        }
      ],
      "source": [
        "df"
      ]
    },
    {
      "cell_type": "markdown",
      "metadata": {
        "id": "8igHPhIr4ol2"
      },
      "source": [
        "# Research"
      ]
    },
    {
      "cell_type": "code",
      "execution_count": 10,
      "metadata": {
        "id": "-pWi9VfN40hy"
      },
      "outputs": [],
      "source": [
        "#Делим датасет на X и y и делим каждый на train и test\n",
        "\n",
        "X = df[['carat', 'cut', 'color', 'clarity', 'depth']]\n",
        "y = df['price']\n",
        "\n",
        "\n",
        "X_train, X_test, y_train, y_test = train_test_split(X, y, test_size=0.2, random_state = 42)"
      ]
    },
    {
      "cell_type": "code",
      "execution_count": 11,
      "metadata": {
        "colab": {
          "base_uri": "https://localhost:8080/"
        },
        "id": "as-RLy675GVO",
        "outputId": "66ffc7d8-d8df-447a-e8e0-9d129937b710"
      },
      "outputs": [
        {
          "name": "stdout",
          "output_type": "stream",
          "text": [
            "RMSE:  1254.1431178154432\n"
          ]
        }
      ],
      "source": [
        "#LinearRegression\n",
        "\n",
        "linmodel = LinearRegression().fit(X_train, y_train)\n",
        "y_pred = linmodel.predict(X_test)\n",
        "\n",
        "print(\"RMSE: \", mean_squared_error(y_test, y_pred, squared=False))"
      ]
    },
    {
      "cell_type": "code",
      "execution_count": 12,
      "metadata": {
        "colab": {
          "base_uri": "https://localhost:8080/"
        },
        "id": "cmtSo8dJ5XkZ",
        "outputId": "a5ef7658-7693-464a-d129-f53c1479dc67"
      },
      "outputs": [
        {
          "name": "stdout",
          "output_type": "stream",
          "text": [
            "RMSE:  1193.075120488816\n"
          ]
        }
      ],
      "source": [
        "#KNeighborsRegressor\n",
        "\n",
        "knn = KNeighborsRegressor(n_neighbors=5).fit(X_train, y_train)\n",
        "y_pred2 = knn.predict(X_test)\n",
        "\n",
        "print(\"RMSE: \", mean_squared_error(y_test, y_pred2, squared=False))"
      ]
    },
    {
      "cell_type": "code",
      "execution_count": 13,
      "metadata": {
        "colab": {
          "base_uri": "https://localhost:8080/"
        },
        "id": "jnZiOYbZ5cGi",
        "outputId": "7bf52ce9-0052-4df0-8805-b2a2c4c4e3c4"
      },
      "outputs": [
        {
          "name": "stdout",
          "output_type": "stream",
          "text": [
            "RMSE:  558.0271664262921\n"
          ]
        }
      ],
      "source": [
        "#RandomForestRegressor\n",
        "\n",
        "randomforest = RandomForestRegressor(n_estimators=1000)\n",
        "randomforest.fit(X_train, y_train)\n",
        "y_pred3 = randomforest.predict(X_test)\n",
        "\n",
        "print(\"RMSE: \", mean_squared_error(y_test, y_pred3, squared=False))"
      ]
    },
    {
      "cell_type": "code",
      "execution_count": 14,
      "metadata": {
        "colab": {
          "base_uri": "https://localhost:8080/"
        },
        "id": "VwoRhy9Y5c2y",
        "outputId": "6bdac359-5c85-4612-b517-f847030ac720"
      },
      "outputs": [
        {
          "name": "stdout",
          "output_type": "stream",
          "text": [
            "RMSE:  1235.945843375882\n"
          ]
        }
      ],
      "source": [
        "#AdaBoostRegressor\n",
        "\n",
        "adaboost = AdaBoostRegressor(random_state=0, n_estimators=100)\n",
        "adaboost.fit(X_train, y_train)\n",
        "\n",
        "y_pred4 = adaboost.predict(X_test)\n",
        "\n",
        "print(\"RMSE: \", mean_squared_error(y_test, y_pred4, squared=False))"
      ]
    },
    {
      "cell_type": "code",
      "execution_count": 15,
      "metadata": {
        "colab": {
          "base_uri": "https://localhost:8080/"
        },
        "id": "lFmYHoUX5dcX",
        "outputId": "cafeea9a-a078-4121-dc74-36163fea1538"
      },
      "outputs": [
        {
          "name": "stdout",
          "output_type": "stream",
          "text": [
            "RMSE:  622.9297663919658\n"
          ]
        }
      ],
      "source": [
        "#GradientBoostingRegressor\n",
        "\n",
        "gradboost = GradientBoostingRegressor(random_state=0)\n",
        "gradboost.fit(X_train, y_train)\n",
        "\n",
        "y_pred5 = gradboost.predict(X_test)\n",
        "\n",
        "print(\"RMSE: \", mean_squared_error(y_test, y_pred5, squared=False))"
      ]
    },
    {
      "cell_type": "markdown",
      "metadata": {
        "id": "19mlKBgvAseS"
      },
      "source": [
        "#Итого"
      ]
    },
    {
      "cell_type": "code",
      "execution_count": 16,
      "metadata": {
        "colab": {
          "base_uri": "https://localhost:8080/",
          "height": 390
        },
        "id": "wQJV5zzg_8Eo",
        "outputId": "f53beccf-bf2d-492d-d9af-8406115c7f21"
      },
      "outputs": [
        {
          "name": "stdout",
          "output_type": "stream",
          "text": [
            "RMSE:  558.0271664262921\n"
          ]
        }
      ],
      "source": [
        "#RandomForestRegressor\n",
        "\n",
        "# randomforest = RandomForestRegressor(n_estimators=1000)\n",
        "# randomforest.fit(X_train, y_train)\n",
        "# y_pred3 = randomforest.predict(X_test)\n",
        "\n",
        "print(\"RMSE: \", mean_squared_error(y_test, y_pred3, squared=False))"
      ]
    },
    {
      "cell_type": "markdown",
      "metadata": {},
      "source": [
        "# Валидация (Эрдэни)"
      ]
    },
    {
      "cell_type": "code",
      "execution_count": 17,
      "metadata": {
        "id": "4wiCqfp0Au8f"
      },
      "outputs": [],
      "source": [
        "df2 = pd.read_csv(\"briliants_test.csv\", index_col=0)"
      ]
    },
    {
      "cell_type": "code",
      "execution_count": 18,
      "metadata": {},
      "outputs": [],
      "source": [
        "# Заменяем значения в столбце \"color\" с помощью метода map\n",
        "df2['color'] = df2['color'].map(color_mapping)\n",
        "df2['cut'] = df2['cut'].map(cut_mapping)\n",
        "df2['clarity'] = df2['clarity'].map(clarity_mapping)"
      ]
    },
    {
      "cell_type": "code",
      "execution_count": 20,
      "metadata": {},
      "outputs": [
        {
          "name": "stderr",
          "output_type": "stream",
          "text": [
            "/home/erdeni/anaconda3/lib/python3.10/site-packages/sklearn/base.py:420: UserWarning: X does not have valid feature names, but RandomForestRegressor was fitted with feature names\n",
            "  warnings.warn(\n"
          ]
        }
      ],
      "source": [
        "y_pred_test = randomforest.predict(df2[['carat', 'cut', 'color', 'clarity', 'depth']].values)"
      ]
    },
    {
      "cell_type": "code",
      "execution_count": 21,
      "metadata": {},
      "outputs": [
        {
          "data": {
            "text/plain": [
              "13485"
            ]
          },
          "execution_count": 21,
          "metadata": {},
          "output_type": "execute_result"
        }
      ],
      "source": [
        "len(y_pred_test)"
      ]
    },
    {
      "cell_type": "code",
      "execution_count": 22,
      "metadata": {},
      "outputs": [
        {
          "data": {
            "text/plain": [
              "array([ 559, 2201, 1238, ..., 9215, 4416, 3564])"
            ]
          },
          "execution_count": 22,
          "metadata": {},
          "output_type": "execute_result"
        }
      ],
      "source": [
        "df_true = pd.read_csv(\"briliants_y_true.csv\")\n",
        "y_true = df_true['price'].values\n",
        "y_true"
      ]
    },
    {
      "cell_type": "code",
      "execution_count": 23,
      "metadata": {},
      "outputs": [
        {
          "name": "stdout",
          "output_type": "stream",
          "text": [
            "RMSE:  570.8881618070014\n"
          ]
        }
      ],
      "source": [
        "print(\"RMSE: \", mean_squared_error(y_true, y_pred_test, squared=False))"
      ]
    },
    {
      "cell_type": "code",
      "execution_count": 24,
      "metadata": {},
      "outputs": [
        {
          "data": {
            "text/plain": [
              "291.4098259858102"
            ]
          },
          "execution_count": 24,
          "metadata": {},
          "output_type": "execute_result"
        }
      ],
      "source": [
        "mean_absolute_error(y_true, y_pred_test)"
      ]
    }
  ],
  "metadata": {
    "colab": {
      "provenance": []
    },
    "kernelspec": {
      "display_name": "base",
      "language": "python",
      "name": "python3"
    },
    "language_info": {
      "codemirror_mode": {
        "name": "ipython",
        "version": 3
      },
      "file_extension": ".py",
      "mimetype": "text/x-python",
      "name": "python",
      "nbconvert_exporter": "python",
      "pygments_lexer": "ipython3",
      "version": "3.10.9"
    },
    "orig_nbformat": 4
  },
  "nbformat": 4,
  "nbformat_minor": 0
}

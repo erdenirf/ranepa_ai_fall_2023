{
  "cells": [
    {
      "cell_type": "markdown",
      "metadata": {
        "id": "-1jXLBPxqrxO"
      },
      "source": [
        "# Предобработка + Encoding"
      ]
    },
    {
      "cell_type": "code",
      "execution_count": 1,
      "metadata": {
        "id": "F9C_9pPWZqSk"
      },
      "outputs": [],
      "source": [
        "import pandas as pd\n",
        "from sklearn.model_selection import train_test_split\n",
        "from sklearn.metrics import mean_absolute_error as MAE\n",
        "from sklearn.metrics import mean_squared_error"
      ]
    },
    {
      "cell_type": "code",
      "execution_count": 2,
      "metadata": {
        "id": "bsmQTF1RZqSn"
      },
      "outputs": [],
      "source": [
        "df = pd.read_csv(\"briliants_train.csv\", index_col=0)\n",
        "test = pd.read_csv(\"briliants_test.csv\", index_col=0)"
      ]
    },
    {
      "cell_type": "code",
      "execution_count": 3,
      "metadata": {
        "colab": {
          "base_uri": "https://localhost:8080/"
        },
        "id": "FU_zEGYhZqSo",
        "outputId": "377bee6a-680c-4503-d5c0-b5625134d7a6"
      },
      "outputs": [
        {
          "name": "stdout",
          "output_type": "stream",
          "text": [
            "<class 'pandas.core.frame.DataFrame'>\n",
            "Int64Index: 40455 entries, 0 to 40454\n",
            "Data columns (total 10 columns):\n",
            " #   Column   Non-Null Count  Dtype  \n",
            "---  ------   --------------  -----  \n",
            " 0   carat    40455 non-null  float64\n",
            " 1   cut      40455 non-null  object \n",
            " 2   color    40455 non-null  object \n",
            " 3   clarity  40455 non-null  object \n",
            " 4   depth    40455 non-null  float64\n",
            " 5   table    40455 non-null  float64\n",
            " 6   x        40455 non-null  float64\n",
            " 7   y        40455 non-null  float64\n",
            " 8   z        40455 non-null  float64\n",
            " 9   price    40455 non-null  int64  \n",
            "dtypes: float64(6), int64(1), object(3)\n",
            "memory usage: 3.4+ MB\n"
          ]
        }
      ],
      "source": [
        "df = df.dropna()\n",
        "df.info()"
      ]
    },
    {
      "cell_type": "code",
      "execution_count": 4,
      "metadata": {
        "colab": {
          "base_uri": "https://localhost:8080/"
        },
        "id": "9zTUWCHjbQaR",
        "outputId": "c7628d7c-5c45-4f10-9fe5-6096408cbaa0"
      },
      "outputs": [
        {
          "name": "stdout",
          "output_type": "stream",
          "text": [
            "<class 'pandas.core.frame.DataFrame'>\n",
            "Int64Index: 13485 entries, 0 to 13484\n",
            "Data columns (total 9 columns):\n",
            " #   Column   Non-Null Count  Dtype  \n",
            "---  ------   --------------  -----  \n",
            " 0   carat    13485 non-null  float64\n",
            " 1   cut      13485 non-null  object \n",
            " 2   color    13485 non-null  object \n",
            " 3   clarity  13485 non-null  object \n",
            " 4   depth    13485 non-null  float64\n",
            " 5   table    13485 non-null  float64\n",
            " 6   x        13485 non-null  float64\n",
            " 7   y        13485 non-null  float64\n",
            " 8   z        13485 non-null  float64\n",
            "dtypes: float64(6), object(3)\n",
            "memory usage: 1.0+ MB\n"
          ]
        }
      ],
      "source": [
        "test.info()"
      ]
    },
    {
      "cell_type": "code",
      "execution_count": 5,
      "metadata": {
        "colab": {
          "base_uri": "https://localhost:8080/"
        },
        "id": "bQzQqtQvaqUL",
        "outputId": "95f1e2d2-d6a8-4a63-cc4d-c000df766687"
      },
      "outputs": [
        {
          "name": "stdout",
          "output_type": "stream",
          "text": [
            "['Good' 'Ideal' 'Premium' 'Fair' 'Very Good']\n",
            "['E' 'J' 'F' 'G' 'D' 'H' 'I']\n",
            "['VVS2' 'SI1' 'VS2' 'SI2' 'VS1' 'IF' 'VVS1' 'I1']\n"
          ]
        }
      ],
      "source": [
        "print(df['cut'].unique())\n",
        "print(df['color'].unique())\n",
        "print(df['clarity'].unique())"
      ]
    },
    {
      "cell_type": "code",
      "execution_count": 6,
      "metadata": {
        "id": "bdSqMWGobO7y"
      },
      "outputs": [],
      "source": [
        "df = pd.get_dummies(df, columns = ['cut', 'color', 'clarity'])\n",
        "test = pd.get_dummies(test, columns = ['cut', 'color', 'clarity'])"
      ]
    },
    {
      "cell_type": "code",
      "execution_count": 7,
      "metadata": {
        "colab": {
          "base_uri": "https://localhost:8080/"
        },
        "id": "YsB5qntpcZ4D",
        "outputId": "e13086e0-5ce2-499e-9b71-a0711115a726"
      },
      "outputs": [
        {
          "name": "stdout",
          "output_type": "stream",
          "text": [
            "<class 'pandas.core.frame.DataFrame'>\n",
            "Int64Index: 40455 entries, 0 to 40454\n",
            "Data columns (total 27 columns):\n",
            " #   Column         Non-Null Count  Dtype  \n",
            "---  ------         --------------  -----  \n",
            " 0   carat          40455 non-null  float64\n",
            " 1   depth          40455 non-null  float64\n",
            " 2   table          40455 non-null  float64\n",
            " 3   x              40455 non-null  float64\n",
            " 4   y              40455 non-null  float64\n",
            " 5   z              40455 non-null  float64\n",
            " 6   price          40455 non-null  int64  \n",
            " 7   cut_Fair       40455 non-null  uint8  \n",
            " 8   cut_Good       40455 non-null  uint8  \n",
            " 9   cut_Ideal      40455 non-null  uint8  \n",
            " 10  cut_Premium    40455 non-null  uint8  \n",
            " 11  cut_Very Good  40455 non-null  uint8  \n",
            " 12  color_D        40455 non-null  uint8  \n",
            " 13  color_E        40455 non-null  uint8  \n",
            " 14  color_F        40455 non-null  uint8  \n",
            " 15  color_G        40455 non-null  uint8  \n",
            " 16  color_H        40455 non-null  uint8  \n",
            " 17  color_I        40455 non-null  uint8  \n",
            " 18  color_J        40455 non-null  uint8  \n",
            " 19  clarity_I1     40455 non-null  uint8  \n",
            " 20  clarity_IF     40455 non-null  uint8  \n",
            " 21  clarity_SI1    40455 non-null  uint8  \n",
            " 22  clarity_SI2    40455 non-null  uint8  \n",
            " 23  clarity_VS1    40455 non-null  uint8  \n",
            " 24  clarity_VS2    40455 non-null  uint8  \n",
            " 25  clarity_VVS1   40455 non-null  uint8  \n",
            " 26  clarity_VVS2   40455 non-null  uint8  \n",
            "dtypes: float64(6), int64(1), uint8(20)\n",
            "memory usage: 3.2 MB\n"
          ]
        }
      ],
      "source": [
        "df.info()"
      ]
    },
    {
      "cell_type": "code",
      "execution_count": 8,
      "metadata": {
        "id": "yYwrtVDocOK-"
      },
      "outputs": [],
      "source": [
        "data_X = df[['carat', 'depth', 'table', 'x',\t'y',\t'z',\t'cut_Fair',\t'cut_Good',\t'cut_Ideal', 'cut_Premium', 'cut_Very Good', 'color_D', 'color_E', 'color_F', 'color_G', 'color_H', 'color_I', 'color_J', 'clarity_I1',\t'clarity_IF',\t'clarity_SI1',\t'clarity_SI2',\t'clarity_VS1',\t'clarity_VS2',\t'clarity_VVS1',\t'clarity_VVS2']]"
      ]
    },
    {
      "cell_type": "code",
      "execution_count": 9,
      "metadata": {
        "id": "ZLA9ks4keZlu"
      },
      "outputs": [],
      "source": [
        "data_Y = df[['price']]"
      ]
    },
    {
      "cell_type": "code",
      "execution_count": 10,
      "metadata": {
        "id": "Z0Ofz6WVeuVy"
      },
      "outputs": [],
      "source": [
        "X_train, X_test, y_train, y_test = train_test_split(data_X, data_Y, random_state=42, test_size=0.1)"
      ]
    },
    {
      "cell_type": "markdown",
      "metadata": {
        "id": "4EwC0Dqvf-Dn"
      },
      "source": [
        "# RandomForestRegressor"
      ]
    },
    {
      "cell_type": "code",
      "execution_count": 11,
      "metadata": {
        "id": "pavesaR0fHoh"
      },
      "outputs": [],
      "source": [
        "from sklearn.ensemble import RandomForestRegressor"
      ]
    },
    {
      "cell_type": "code",
      "execution_count": 12,
      "metadata": {
        "id": "XKQrYM3GfQG9"
      },
      "outputs": [],
      "source": [
        "tree = RandomForestRegressor().fit(X_train, y_train.values.ravel())"
      ]
    },
    {
      "cell_type": "code",
      "execution_count": 13,
      "metadata": {
        "id": "hArB9ZGJfa4b"
      },
      "outputs": [],
      "source": [
        "y_pred = tree.predict(X_test)"
      ]
    },
    {
      "cell_type": "code",
      "execution_count": 14,
      "metadata": {
        "id": "xuM9u6qwfgOs"
      },
      "outputs": [],
      "source": [
        "score1 = mean_squared_error(y_test, y_pred, squared=False)"
      ]
    },
    {
      "cell_type": "code",
      "execution_count": 15,
      "metadata": {
        "colab": {
          "base_uri": "https://localhost:8080/"
        },
        "id": "knNVz53PsvHU",
        "outputId": "987de296-e2f2-4e6a-ebf0-603778fb5bf1"
      },
      "outputs": [
        {
          "name": "stdout",
          "output_type": "stream",
          "text": [
            "RMSE:  552.683619396358\n"
          ]
        }
      ],
      "source": [
        "print('RMSE: ', score1)"
      ]
    },
    {
      "cell_type": "code",
      "execution_count": 16,
      "metadata": {
        "id": "pV-DuQCVrrLf"
      },
      "outputs": [],
      "source": [
        "y_pred_test = tree.predict(test)\n",
        "#y_pred_test = pd.DataFrame(y_pred_test)"
      ]
    },
    {
      "cell_type": "code",
      "execution_count": 17,
      "metadata": {},
      "outputs": [
        {
          "data": {
            "text/plain": [
              "13485"
            ]
          },
          "execution_count": 17,
          "metadata": {},
          "output_type": "execute_result"
        }
      ],
      "source": [
        "len(y_pred_test)"
      ]
    },
    {
      "cell_type": "markdown",
      "metadata": {},
      "source": [
        "# Валидация (Эрдэни)"
      ]
    },
    {
      "cell_type": "code",
      "execution_count": null,
      "metadata": {
        "colab": {
          "base_uri": "https://localhost:8080/",
          "height": 17
        },
        "id": "gx7IEucRr7o4",
        "outputId": "ecfb7248-371b-43a2-d666-3a5b4d17cffc"
      },
      "outputs": [
        {
          "data": {
            "application/javascript": "\n    async function download(id, filename, size) {\n      if (!google.colab.kernel.accessAllowed) {\n        return;\n      }\n      const div = document.createElement('div');\n      const label = document.createElement('label');\n      label.textContent = `Downloading \"${filename}\": `;\n      div.appendChild(label);\n      const progress = document.createElement('progress');\n      progress.max = size;\n      div.appendChild(progress);\n      document.body.appendChild(div);\n\n      const buffers = [];\n      let downloaded = 0;\n\n      const channel = await google.colab.kernel.comms.open(id);\n      // Send a message to notify the kernel that we're ready.\n      channel.send({})\n\n      for await (const message of channel.messages) {\n        // Send a message to notify the kernel that we're ready.\n        channel.send({})\n        if (message.buffers) {\n          for (const buffer of message.buffers) {\n            buffers.push(buffer);\n            downloaded += buffer.byteLength;\n            progress.value = downloaded;\n          }\n        }\n      }\n      const blob = new Blob(buffers, {type: 'application/binary'});\n      const a = document.createElement('a');\n      a.href = window.URL.createObjectURL(blob);\n      a.download = filename;\n      div.appendChild(a);\n      a.click();\n      div.remove();\n    }\n  ",
            "text/plain": [
              "<IPython.core.display.Javascript object>"
            ]
          },
          "metadata": {},
          "output_type": "display_data"
        },
        {
          "data": {
            "application/javascript": "download(\"download_6735004c-0110-4fbe-871b-aecead58644e\", \"Test_predictions_bril.xlsx\", 222970)",
            "text/plain": [
              "<IPython.core.display.Javascript object>"
            ]
          },
          "metadata": {},
          "output_type": "display_data"
        }
      ],
      "source": [
        "from google.colab import files\n",
        "y_pred_test.to_excel(\"Test_predictions_bril.xlsx\")\n",
        "files.download(\"Test_predictions_bril.xlsx\")"
      ]
    },
    {
      "cell_type": "code",
      "execution_count": 18,
      "metadata": {},
      "outputs": [
        {
          "data": {
            "text/plain": [
              "array([ 559, 2201, 1238, ..., 9215, 4416, 3564])"
            ]
          },
          "execution_count": 18,
          "metadata": {},
          "output_type": "execute_result"
        }
      ],
      "source": [
        "df_true = pd.read_csv(\"briliants_y_true.csv\")\n",
        "y_true = df_true['price'].values\n",
        "y_true"
      ]
    },
    {
      "cell_type": "code",
      "execution_count": 19,
      "metadata": {},
      "outputs": [
        {
          "data": {
            "text/plain": [
              "552.468984086726"
            ]
          },
          "execution_count": 19,
          "metadata": {},
          "output_type": "execute_result"
        }
      ],
      "source": [
        "mean_squared_error(y_true, y_pred_test, squared=False)"
      ]
    },
    {
      "cell_type": "code",
      "execution_count": 20,
      "metadata": {},
      "outputs": [
        {
          "data": {
            "text/plain": [
              "274.482035488285"
            ]
          },
          "execution_count": 20,
          "metadata": {},
          "output_type": "execute_result"
        }
      ],
      "source": [
        "MAE(y_true, y_pred_test)"
      ]
    }
  ],
  "metadata": {
    "colab": {
      "provenance": []
    },
    "kernelspec": {
      "display_name": "base",
      "language": "python",
      "name": "python3"
    },
    "language_info": {
      "codemirror_mode": {
        "name": "ipython",
        "version": 3
      },
      "file_extension": ".py",
      "mimetype": "text/x-python",
      "name": "python",
      "nbconvert_exporter": "python",
      "pygments_lexer": "ipython3",
      "version": "3.10.9"
    },
    "orig_nbformat": 4
  },
  "nbformat": 4,
  "nbformat_minor": 0
}

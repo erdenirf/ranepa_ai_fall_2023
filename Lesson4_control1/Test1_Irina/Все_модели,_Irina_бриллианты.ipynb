{
  "cells": [
    {
      "cell_type": "markdown",
      "source": [
        "# Предобработка + Encoding"
      ],
      "metadata": {
        "id": "-1jXLBPxqrxO"
      }
    },
    {
      "cell_type": "code",
      "execution_count": null,
      "metadata": {
        "id": "F9C_9pPWZqSk"
      },
      "outputs": [],
      "source": [
        "import pandas as pd\n",
        "from sklearn.model_selection import train_test_split\n",
        "from sklearn.metrics import mean_absolute_error as MAE\n",
        "from sklearn.metrics import mean_squared_error"
      ]
    },
    {
      "cell_type": "code",
      "execution_count": null,
      "metadata": {
        "id": "bsmQTF1RZqSn"
      },
      "outputs": [],
      "source": [
        "df = pd.read_csv(\"/content/briliants_train.csv\", index_col=0)\n",
        "test = pd.read_csv(\"/content/briliants_test.csv\", index_col=0)"
      ]
    },
    {
      "cell_type": "code",
      "execution_count": null,
      "metadata": {
        "colab": {
          "base_uri": "https://localhost:8080/"
        },
        "id": "FU_zEGYhZqSo",
        "outputId": "c45c8f63-3f61-44fe-eb59-659fe2e43488"
      },
      "outputs": [
        {
          "output_type": "stream",
          "name": "stdout",
          "text": [
            "<class 'pandas.core.frame.DataFrame'>\n",
            "Int64Index: 40455 entries, 0 to 40454\n",
            "Data columns (total 10 columns):\n",
            " #   Column   Non-Null Count  Dtype  \n",
            "---  ------   --------------  -----  \n",
            " 0   carat    40455 non-null  float64\n",
            " 1   cut      40455 non-null  object \n",
            " 2   color    40455 non-null  object \n",
            " 3   clarity  40455 non-null  object \n",
            " 4   depth    40455 non-null  float64\n",
            " 5   table    40455 non-null  float64\n",
            " 6   x        40455 non-null  float64\n",
            " 7   y        40455 non-null  float64\n",
            " 8   z        40455 non-null  float64\n",
            " 9   price    40455 non-null  int64  \n",
            "dtypes: float64(6), int64(1), object(3)\n",
            "memory usage: 3.4+ MB\n"
          ]
        }
      ],
      "source": [
        "df = df.dropna()\n",
        "df.info()"
      ]
    },
    {
      "cell_type": "code",
      "source": [
        "test.info()"
      ],
      "metadata": {
        "colab": {
          "base_uri": "https://localhost:8080/"
        },
        "id": "9zTUWCHjbQaR",
        "outputId": "36ee8788-7ac9-48a5-f33f-5be5c5f3ed2a"
      },
      "execution_count": null,
      "outputs": [
        {
          "output_type": "stream",
          "name": "stdout",
          "text": [
            "<class 'pandas.core.frame.DataFrame'>\n",
            "Int64Index: 13485 entries, 0 to 13484\n",
            "Data columns (total 9 columns):\n",
            " #   Column   Non-Null Count  Dtype  \n",
            "---  ------   --------------  -----  \n",
            " 0   carat    13485 non-null  float64\n",
            " 1   cut      13485 non-null  object \n",
            " 2   color    13485 non-null  object \n",
            " 3   clarity  13485 non-null  object \n",
            " 4   depth    13485 non-null  float64\n",
            " 5   table    13485 non-null  float64\n",
            " 6   x        13485 non-null  float64\n",
            " 7   y        13485 non-null  float64\n",
            " 8   z        13485 non-null  float64\n",
            "dtypes: float64(6), object(3)\n",
            "memory usage: 1.0+ MB\n"
          ]
        }
      ]
    },
    {
      "cell_type": "code",
      "source": [
        "print(df['cut'].unique())\n",
        "print(df['color'].unique())\n",
        "print(df['clarity'].unique())"
      ],
      "metadata": {
        "colab": {
          "base_uri": "https://localhost:8080/"
        },
        "id": "bQzQqtQvaqUL",
        "outputId": "53ca32d7-9839-4534-b483-c06707f2c1a8"
      },
      "execution_count": null,
      "outputs": [
        {
          "output_type": "stream",
          "name": "stdout",
          "text": [
            "['Good' 'Ideal' 'Premium' 'Fair' 'Very Good']\n",
            "['E' 'J' 'F' 'G' 'D' 'H' 'I']\n",
            "['VVS2' 'SI1' 'VS2' 'SI2' 'VS1' 'IF' 'VVS1' 'I1']\n"
          ]
        }
      ]
    },
    {
      "cell_type": "code",
      "source": [
        "df = pd.get_dummies(df, columns = ['cut', 'color', 'clarity'])\n",
        "test = pd.get_dummies(test, columns = ['cut', 'color', 'clarity'])"
      ],
      "metadata": {
        "id": "bdSqMWGobO7y"
      },
      "execution_count": null,
      "outputs": []
    },
    {
      "cell_type": "code",
      "source": [
        "df.info()"
      ],
      "metadata": {
        "colab": {
          "base_uri": "https://localhost:8080/"
        },
        "id": "YsB5qntpcZ4D",
        "outputId": "fe1b7445-15ec-423a-d672-93d2e74492c0"
      },
      "execution_count": null,
      "outputs": [
        {
          "output_type": "stream",
          "name": "stdout",
          "text": [
            "<class 'pandas.core.frame.DataFrame'>\n",
            "Int64Index: 40455 entries, 0 to 40454\n",
            "Data columns (total 27 columns):\n",
            " #   Column         Non-Null Count  Dtype  \n",
            "---  ------         --------------  -----  \n",
            " 0   carat          40455 non-null  float64\n",
            " 1   depth          40455 non-null  float64\n",
            " 2   table          40455 non-null  float64\n",
            " 3   x              40455 non-null  float64\n",
            " 4   y              40455 non-null  float64\n",
            " 5   z              40455 non-null  float64\n",
            " 6   price          40455 non-null  int64  \n",
            " 7   cut_Fair       40455 non-null  uint8  \n",
            " 8   cut_Good       40455 non-null  uint8  \n",
            " 9   cut_Ideal      40455 non-null  uint8  \n",
            " 10  cut_Premium    40455 non-null  uint8  \n",
            " 11  cut_Very Good  40455 non-null  uint8  \n",
            " 12  color_D        40455 non-null  uint8  \n",
            " 13  color_E        40455 non-null  uint8  \n",
            " 14  color_F        40455 non-null  uint8  \n",
            " 15  color_G        40455 non-null  uint8  \n",
            " 16  color_H        40455 non-null  uint8  \n",
            " 17  color_I        40455 non-null  uint8  \n",
            " 18  color_J        40455 non-null  uint8  \n",
            " 19  clarity_I1     40455 non-null  uint8  \n",
            " 20  clarity_IF     40455 non-null  uint8  \n",
            " 21  clarity_SI1    40455 non-null  uint8  \n",
            " 22  clarity_SI2    40455 non-null  uint8  \n",
            " 23  clarity_VS1    40455 non-null  uint8  \n",
            " 24  clarity_VS2    40455 non-null  uint8  \n",
            " 25  clarity_VVS1   40455 non-null  uint8  \n",
            " 26  clarity_VVS2   40455 non-null  uint8  \n",
            "dtypes: float64(6), int64(1), uint8(20)\n",
            "memory usage: 3.2 MB\n"
          ]
        }
      ]
    },
    {
      "cell_type": "code",
      "source": [
        "data_X = df[['carat', 'depth', 'table', 'x',\t'y',\t'z',\t'cut_Fair',\t'cut_Good',\t'cut_Ideal', 'cut_Premium', 'cut_Very Good', 'color_D', 'color_E', 'color_F', 'color_G', 'color_H', 'color_I', 'color_J', 'clarity_I1',\t'clarity_IF',\t'clarity_SI1',\t'clarity_SI2',\t'clarity_VS1',\t'clarity_VS2',\t'clarity_VVS1',\t'clarity_VVS2']]"
      ],
      "metadata": {
        "id": "yYwrtVDocOK-"
      },
      "execution_count": null,
      "outputs": []
    },
    {
      "cell_type": "code",
      "source": [
        "data_Y = df[['price']]"
      ],
      "metadata": {
        "id": "ZLA9ks4keZlu"
      },
      "execution_count": null,
      "outputs": []
    },
    {
      "cell_type": "code",
      "source": [
        "X_train, X_test, y_train, y_test = train_test_split(data_X, data_Y, random_state=42, test_size=0.1)"
      ],
      "metadata": {
        "id": "Z0Ofz6WVeuVy"
      },
      "execution_count": null,
      "outputs": []
    },
    {
      "cell_type": "markdown",
      "source": [
        "# RandomForestRegressor"
      ],
      "metadata": {
        "id": "4EwC0Dqvf-Dn"
      }
    },
    {
      "cell_type": "code",
      "source": [
        "from sklearn.ensemble import RandomForestRegressor"
      ],
      "metadata": {
        "id": "pavesaR0fHoh"
      },
      "execution_count": null,
      "outputs": []
    },
    {
      "cell_type": "code",
      "source": [
        "tree = RandomForestRegressor().fit(X_train, y_train.values.ravel())"
      ],
      "metadata": {
        "id": "XKQrYM3GfQG9"
      },
      "execution_count": null,
      "outputs": []
    },
    {
      "cell_type": "code",
      "source": [
        "y_pred = tree.predict(X_test)"
      ],
      "metadata": {
        "id": "hArB9ZGJfa4b"
      },
      "execution_count": null,
      "outputs": []
    },
    {
      "cell_type": "code",
      "source": [
        "mean_squared_error(y_test, y_pred, squared=False)"
      ],
      "metadata": {
        "colab": {
          "base_uri": "https://localhost:8080/"
        },
        "id": "xuM9u6qwfgOs",
        "outputId": "21769bc8-cb8b-444c-a4f3-00b467fab408"
      },
      "execution_count": null,
      "outputs": [
        {
          "output_type": "execute_result",
          "data": {
            "text/plain": [
              "554.2836672825694"
            ]
          },
          "metadata": {},
          "execution_count": 44
        }
      ]
    },
    {
      "cell_type": "markdown",
      "source": [
        "# GradientBoostingRegressor"
      ],
      "metadata": {
        "id": "_gU6ueNygCkH"
      }
    },
    {
      "cell_type": "code",
      "source": [
        "from sklearn.ensemble import GradientBoostingRegressor"
      ],
      "metadata": {
        "id": "MnxblDpFgCMR"
      },
      "execution_count": null,
      "outputs": []
    },
    {
      "cell_type": "code",
      "source": [
        "gradient = GradientBoostingRegressor().fit(X_train, y_train.values.ravel())"
      ],
      "metadata": {
        "id": "M8FQxKY3gQ_7"
      },
      "execution_count": null,
      "outputs": []
    },
    {
      "cell_type": "code",
      "source": [
        "y_pred1 = gradient.predict(X_test)"
      ],
      "metadata": {
        "id": "3KXD3ASAgW9l"
      },
      "execution_count": null,
      "outputs": []
    },
    {
      "cell_type": "code",
      "source": [
        "mean_squared_error(y_test, y_pred1, squared=False)"
      ],
      "metadata": {
        "colab": {
          "base_uri": "https://localhost:8080/"
        },
        "id": "vRhGmNdogaNW",
        "outputId": "203554f6-80c9-4561-8d45-9c85cf603303"
      },
      "execution_count": null,
      "outputs": [
        {
          "output_type": "execute_result",
          "data": {
            "text/plain": [
              "750.3405450025116"
            ]
          },
          "metadata": {},
          "execution_count": 21
        }
      ]
    },
    {
      "cell_type": "markdown",
      "source": [
        "# LinearRegression\n"
      ],
      "metadata": {
        "id": "QskzSW3NgeAU"
      }
    },
    {
      "cell_type": "code",
      "source": [
        "from sklearn.linear_model import LinearRegression"
      ],
      "metadata": {
        "id": "Be0JvOCWgeNc"
      },
      "execution_count": null,
      "outputs": []
    },
    {
      "cell_type": "code",
      "source": [
        "linmodel = LinearRegression().fit(X_train, y_train)"
      ],
      "metadata": {
        "id": "00Wz9zxDgmKv"
      },
      "execution_count": null,
      "outputs": []
    },
    {
      "cell_type": "code",
      "source": [
        "y_pred2 = linmodel.predict(X_test)"
      ],
      "metadata": {
        "id": "T-VPZd8NgqEO"
      },
      "execution_count": null,
      "outputs": []
    },
    {
      "cell_type": "code",
      "source": [
        "mean_squared_error(y_test, y_pred2, squared=False)"
      ],
      "metadata": {
        "colab": {
          "base_uri": "https://localhost:8080/"
        },
        "id": "DN08Dsfigsa5",
        "outputId": "83b538ea-7912-43d0-b8fc-b92e65e12826"
      },
      "execution_count": null,
      "outputs": [
        {
          "output_type": "execute_result",
          "data": {
            "text/plain": [
              "1131.1830849449223"
            ]
          },
          "metadata": {},
          "execution_count": 25
        }
      ]
    },
    {
      "cell_type": "markdown",
      "source": [
        "# GridSearchCV for RandomForestRegressor"
      ],
      "metadata": {
        "id": "lJTItIqzg9-1"
      }
    },
    {
      "cell_type": "code",
      "source": [
        "from sklearn.model_selection import GridSearchCV"
      ],
      "metadata": {
        "id": "XtECDLgHifbp"
      },
      "execution_count": null,
      "outputs": []
    },
    {
      "cell_type": "code",
      "source": [
        "parameters = {\n",
        "            \"n_estimators\"      : [10,50,100,200],\n",
        "            \"max_depth\"      : [4,6,8,10],\n",
        "            \"max_features\"      : [\"auto\", \"sqrt\", \"log2\"]\n",
        "            }"
      ],
      "metadata": {
        "id": "l0-DWdjeijCt"
      },
      "execution_count": null,
      "outputs": []
    },
    {
      "cell_type": "code",
      "source": [
        "func = RandomForestRegressor()"
      ],
      "metadata": {
        "id": "DCnRzlDmje3g"
      },
      "execution_count": null,
      "outputs": []
    },
    {
      "cell_type": "code",
      "source": [
        "grid = GridSearchCV(func, parameters, cv=5, n_jobs=-1)"
      ],
      "metadata": {
        "id": "JKlVh0G4jjeZ"
      },
      "execution_count": null,
      "outputs": []
    },
    {
      "cell_type": "code",
      "source": [
        "grid.fit(X_train, y_train.values.ravel())"
      ],
      "metadata": {
        "colab": {
          "base_uri": "https://localhost:8080/",
          "height": 172
        },
        "id": "swsArulDjoCy",
        "outputId": "c3d09e4a-8c70-4224-9c93-ae167274df3d"
      },
      "execution_count": null,
      "outputs": [
        {
          "output_type": "stream",
          "name": "stderr",
          "text": [
            "/usr/local/lib/python3.10/dist-packages/sklearn/ensemble/_forest.py:413: FutureWarning: `max_features='auto'` has been deprecated in 1.1 and will be removed in 1.3. To keep the past behaviour, explicitly set `max_features=1.0` or remove this parameter as it is also the default value for RandomForestRegressors and ExtraTreesRegressors.\n",
            "  warn(\n"
          ]
        },
        {
          "output_type": "execute_result",
          "data": {
            "text/plain": [
              "GridSearchCV(cv=5, estimator=RandomForestRegressor(), n_jobs=-1,\n",
              "             param_grid={'max_depth': [4, 6, 8, 10],\n",
              "                         'max_features': ['auto', 'sqrt', 'log2'],\n",
              "                         'n_estimators': [10, 50, 100, 200]})"
            ],
            "text/html": [
              "<style>#sk-container-id-1 {color: black;background-color: white;}#sk-container-id-1 pre{padding: 0;}#sk-container-id-1 div.sk-toggleable {background-color: white;}#sk-container-id-1 label.sk-toggleable__label {cursor: pointer;display: block;width: 100%;margin-bottom: 0;padding: 0.3em;box-sizing: border-box;text-align: center;}#sk-container-id-1 label.sk-toggleable__label-arrow:before {content: \"▸\";float: left;margin-right: 0.25em;color: #696969;}#sk-container-id-1 label.sk-toggleable__label-arrow:hover:before {color: black;}#sk-container-id-1 div.sk-estimator:hover label.sk-toggleable__label-arrow:before {color: black;}#sk-container-id-1 div.sk-toggleable__content {max-height: 0;max-width: 0;overflow: hidden;text-align: left;background-color: #f0f8ff;}#sk-container-id-1 div.sk-toggleable__content pre {margin: 0.2em;color: black;border-radius: 0.25em;background-color: #f0f8ff;}#sk-container-id-1 input.sk-toggleable__control:checked~div.sk-toggleable__content {max-height: 200px;max-width: 100%;overflow: auto;}#sk-container-id-1 input.sk-toggleable__control:checked~label.sk-toggleable__label-arrow:before {content: \"▾\";}#sk-container-id-1 div.sk-estimator input.sk-toggleable__control:checked~label.sk-toggleable__label {background-color: #d4ebff;}#sk-container-id-1 div.sk-label input.sk-toggleable__control:checked~label.sk-toggleable__label {background-color: #d4ebff;}#sk-container-id-1 input.sk-hidden--visually {border: 0;clip: rect(1px 1px 1px 1px);clip: rect(1px, 1px, 1px, 1px);height: 1px;margin: -1px;overflow: hidden;padding: 0;position: absolute;width: 1px;}#sk-container-id-1 div.sk-estimator {font-family: monospace;background-color: #f0f8ff;border: 1px dotted black;border-radius: 0.25em;box-sizing: border-box;margin-bottom: 0.5em;}#sk-container-id-1 div.sk-estimator:hover {background-color: #d4ebff;}#sk-container-id-1 div.sk-parallel-item::after {content: \"\";width: 100%;border-bottom: 1px solid gray;flex-grow: 1;}#sk-container-id-1 div.sk-label:hover label.sk-toggleable__label {background-color: #d4ebff;}#sk-container-id-1 div.sk-serial::before {content: \"\";position: absolute;border-left: 1px solid gray;box-sizing: border-box;top: 0;bottom: 0;left: 50%;z-index: 0;}#sk-container-id-1 div.sk-serial {display: flex;flex-direction: column;align-items: center;background-color: white;padding-right: 0.2em;padding-left: 0.2em;position: relative;}#sk-container-id-1 div.sk-item {position: relative;z-index: 1;}#sk-container-id-1 div.sk-parallel {display: flex;align-items: stretch;justify-content: center;background-color: white;position: relative;}#sk-container-id-1 div.sk-item::before, #sk-container-id-1 div.sk-parallel-item::before {content: \"\";position: absolute;border-left: 1px solid gray;box-sizing: border-box;top: 0;bottom: 0;left: 50%;z-index: -1;}#sk-container-id-1 div.sk-parallel-item {display: flex;flex-direction: column;z-index: 1;position: relative;background-color: white;}#sk-container-id-1 div.sk-parallel-item:first-child::after {align-self: flex-end;width: 50%;}#sk-container-id-1 div.sk-parallel-item:last-child::after {align-self: flex-start;width: 50%;}#sk-container-id-1 div.sk-parallel-item:only-child::after {width: 0;}#sk-container-id-1 div.sk-dashed-wrapped {border: 1px dashed gray;margin: 0 0.4em 0.5em 0.4em;box-sizing: border-box;padding-bottom: 0.4em;background-color: white;}#sk-container-id-1 div.sk-label label {font-family: monospace;font-weight: bold;display: inline-block;line-height: 1.2em;}#sk-container-id-1 div.sk-label-container {text-align: center;}#sk-container-id-1 div.sk-container {/* jupyter's `normalize.less` sets `[hidden] { display: none; }` but bootstrap.min.css set `[hidden] { display: none !important; }` so we also need the `!important` here to be able to override the default hidden behavior on the sphinx rendered scikit-learn.org. See: https://github.com/scikit-learn/scikit-learn/issues/21755 */display: inline-block !important;position: relative;}#sk-container-id-1 div.sk-text-repr-fallback {display: none;}</style><div id=\"sk-container-id-1\" class=\"sk-top-container\"><div class=\"sk-text-repr-fallback\"><pre>GridSearchCV(cv=5, estimator=RandomForestRegressor(), n_jobs=-1,\n",
              "             param_grid={&#x27;max_depth&#x27;: [4, 6, 8, 10],\n",
              "                         &#x27;max_features&#x27;: [&#x27;auto&#x27;, &#x27;sqrt&#x27;, &#x27;log2&#x27;],\n",
              "                         &#x27;n_estimators&#x27;: [10, 50, 100, 200]})</pre><b>In a Jupyter environment, please rerun this cell to show the HTML representation or trust the notebook. <br />On GitHub, the HTML representation is unable to render, please try loading this page with nbviewer.org.</b></div><div class=\"sk-container\" hidden><div class=\"sk-item sk-dashed-wrapped\"><div class=\"sk-label-container\"><div class=\"sk-label sk-toggleable\"><input class=\"sk-toggleable__control sk-hidden--visually\" id=\"sk-estimator-id-1\" type=\"checkbox\" ><label for=\"sk-estimator-id-1\" class=\"sk-toggleable__label sk-toggleable__label-arrow\">GridSearchCV</label><div class=\"sk-toggleable__content\"><pre>GridSearchCV(cv=5, estimator=RandomForestRegressor(), n_jobs=-1,\n",
              "             param_grid={&#x27;max_depth&#x27;: [4, 6, 8, 10],\n",
              "                         &#x27;max_features&#x27;: [&#x27;auto&#x27;, &#x27;sqrt&#x27;, &#x27;log2&#x27;],\n",
              "                         &#x27;n_estimators&#x27;: [10, 50, 100, 200]})</pre></div></div></div><div class=\"sk-parallel\"><div class=\"sk-parallel-item\"><div class=\"sk-item\"><div class=\"sk-label-container\"><div class=\"sk-label sk-toggleable\"><input class=\"sk-toggleable__control sk-hidden--visually\" id=\"sk-estimator-id-2\" type=\"checkbox\" ><label for=\"sk-estimator-id-2\" class=\"sk-toggleable__label sk-toggleable__label-arrow\">estimator: RandomForestRegressor</label><div class=\"sk-toggleable__content\"><pre>RandomForestRegressor()</pre></div></div></div><div class=\"sk-serial\"><div class=\"sk-item\"><div class=\"sk-estimator sk-toggleable\"><input class=\"sk-toggleable__control sk-hidden--visually\" id=\"sk-estimator-id-3\" type=\"checkbox\" ><label for=\"sk-estimator-id-3\" class=\"sk-toggleable__label sk-toggleable__label-arrow\">RandomForestRegressor</label><div class=\"sk-toggleable__content\"><pre>RandomForestRegressor()</pre></div></div></div></div></div></div></div></div></div></div>"
            ]
          },
          "metadata": {},
          "execution_count": 34
        }
      ]
    },
    {
      "cell_type": "code",
      "source": [
        "grid.best_params_"
      ],
      "metadata": {
        "colab": {
          "base_uri": "https://localhost:8080/"
        },
        "id": "N1oCNpQt0jND",
        "outputId": "4ecd8f02-9754-4b77-cac9-642b4616f85f"
      },
      "execution_count": null,
      "outputs": [
        {
          "output_type": "execute_result",
          "data": {
            "text/plain": [
              "{'max_depth': 10, 'max_features': 'auto', 'n_estimators': 200}"
            ]
          },
          "metadata": {},
          "execution_count": 35
        }
      ]
    },
    {
      "cell_type": "code",
      "source": [
        "tree_grid = RandomForestRegressor(max_depth = 14, n_estimators = 150).fit(X_train, y_train.values.ravel())"
      ],
      "metadata": {
        "id": "RzFV0Ghz1uzo"
      },
      "execution_count": null,
      "outputs": []
    },
    {
      "cell_type": "code",
      "source": [
        "y_pred_grid = tree_grid.predict(X_test)"
      ],
      "metadata": {
        "id": "UjB53Uws16qt"
      },
      "execution_count": null,
      "outputs": []
    },
    {
      "cell_type": "code",
      "source": [
        "mean_squared_error(y_test, y_pred_grid, squared=False)"
      ],
      "metadata": {
        "colab": {
          "base_uri": "https://localhost:8080/"
        },
        "id": "u4Uv_1f42CIb",
        "outputId": "af941bb5-7fcd-4f08-ed53-b7b382583388"
      },
      "execution_count": null,
      "outputs": [
        {
          "output_type": "execute_result",
          "data": {
            "text/plain": [
              "556.0847585177478"
            ]
          },
          "metadata": {},
          "execution_count": 92
        }
      ]
    },
    {
      "cell_type": "markdown",
      "source": [],
      "metadata": {
        "id": "LK9Dd-Bq1ti7"
      }
    }
  ],
  "metadata": {
    "kernelspec": {
      "display_name": "base",
      "language": "python",
      "name": "python3"
    },
    "language_info": {
      "codemirror_mode": {
        "name": "ipython",
        "version": 3
      },
      "file_extension": ".py",
      "mimetype": "text/x-python",
      "name": "python",
      "nbconvert_exporter": "python",
      "pygments_lexer": "ipython3",
      "version": "3.10.9"
    },
    "orig_nbformat": 4,
    "colab": {
      "provenance": []
    }
  },
  "nbformat": 4,
  "nbformat_minor": 0
}
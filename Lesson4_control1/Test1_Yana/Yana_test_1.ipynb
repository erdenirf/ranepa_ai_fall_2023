{
  "cells": [
    {
      "cell_type": "code",
      "execution_count": 19,
      "metadata": {
        "id": "PjL3ZiG8ZgKT"
      },
      "outputs": [],
      "source": [
        "#importing libs\n",
        "import pandas as pd\n",
        "import numpy as np\n",
        "from sklearn.preprocessing import LabelEncoder\n",
        "from sklearn.model_selection import train_test_split\n",
        "from IPython.display import clear_output\n",
        "\n",
        "# model\n",
        "from sklearn.ensemble import GradientBoostingRegressor, RandomForestRegressor\n",
        "from sklearn.model_selection import GridSearchCV\n",
        "from sklearn.metrics import mean_squared_error, mean_absolute_error"
      ]
    },
    {
      "cell_type": "markdown",
      "metadata": {
        "id": "TORE7fDyazyz"
      },
      "source": [
        "# Work with data"
      ]
    },
    {
      "cell_type": "code",
      "execution_count": 2,
      "metadata": {
        "id": "OjOfQwc0ZgKW"
      },
      "outputs": [],
      "source": [
        "# loading data\n",
        "df_train = pd.read_csv(\"briliants_train.csv\", index_col=0)\n",
        "df_test = pd.read_csv(\"briliants_test.csv\", index_col=0)\n",
        "\n",
        "df = pd.concat([df_train,df_test])"
      ]
    },
    {
      "cell_type": "code",
      "execution_count": 3,
      "metadata": {
        "colab": {
          "base_uri": "https://localhost:8080/",
          "height": 300
        },
        "id": "p4_Rw5_PZql2",
        "outputId": "6f8abb36-9f37-43ce-dad6-9e5caa553509"
      },
      "outputs": [
        {
          "data": {
            "text/html": [
              "<div>\n",
              "<style scoped>\n",
              "    .dataframe tbody tr th:only-of-type {\n",
              "        vertical-align: middle;\n",
              "    }\n",
              "\n",
              "    .dataframe tbody tr th {\n",
              "        vertical-align: top;\n",
              "    }\n",
              "\n",
              "    .dataframe thead th {\n",
              "        text-align: right;\n",
              "    }\n",
              "</style>\n",
              "<table border=\"1\" class=\"dataframe\">\n",
              "  <thead>\n",
              "    <tr style=\"text-align: right;\">\n",
              "      <th></th>\n",
              "      <th>carat</th>\n",
              "      <th>depth</th>\n",
              "      <th>table</th>\n",
              "      <th>x</th>\n",
              "      <th>y</th>\n",
              "      <th>z</th>\n",
              "      <th>price</th>\n",
              "    </tr>\n",
              "  </thead>\n",
              "  <tbody>\n",
              "    <tr>\n",
              "      <th>count</th>\n",
              "      <td>53940.000000</td>\n",
              "      <td>53940.000000</td>\n",
              "      <td>53940.000000</td>\n",
              "      <td>53940.000000</td>\n",
              "      <td>53940.000000</td>\n",
              "      <td>53940.000000</td>\n",
              "      <td>40455.000000</td>\n",
              "    </tr>\n",
              "    <tr>\n",
              "      <th>mean</th>\n",
              "      <td>0.797940</td>\n",
              "      <td>61.749405</td>\n",
              "      <td>57.457184</td>\n",
              "      <td>5.731157</td>\n",
              "      <td>5.734526</td>\n",
              "      <td>3.538734</td>\n",
              "      <td>3942.538302</td>\n",
              "    </tr>\n",
              "    <tr>\n",
              "      <th>std</th>\n",
              "      <td>0.474011</td>\n",
              "      <td>1.432621</td>\n",
              "      <td>2.234491</td>\n",
              "      <td>1.121761</td>\n",
              "      <td>1.142135</td>\n",
              "      <td>0.705699</td>\n",
              "      <td>3997.986695</td>\n",
              "    </tr>\n",
              "    <tr>\n",
              "      <th>min</th>\n",
              "      <td>0.200000</td>\n",
              "      <td>43.000000</td>\n",
              "      <td>43.000000</td>\n",
              "      <td>0.000000</td>\n",
              "      <td>0.000000</td>\n",
              "      <td>0.000000</td>\n",
              "      <td>326.000000</td>\n",
              "    </tr>\n",
              "    <tr>\n",
              "      <th>25%</th>\n",
              "      <td>0.400000</td>\n",
              "      <td>61.000000</td>\n",
              "      <td>56.000000</td>\n",
              "      <td>4.710000</td>\n",
              "      <td>4.720000</td>\n",
              "      <td>2.910000</td>\n",
              "      <td>956.000000</td>\n",
              "    </tr>\n",
              "    <tr>\n",
              "      <th>50%</th>\n",
              "      <td>0.700000</td>\n",
              "      <td>61.800000</td>\n",
              "      <td>57.000000</td>\n",
              "      <td>5.700000</td>\n",
              "      <td>5.710000</td>\n",
              "      <td>3.530000</td>\n",
              "      <td>2400.000000</td>\n",
              "    </tr>\n",
              "    <tr>\n",
              "      <th>75%</th>\n",
              "      <td>1.040000</td>\n",
              "      <td>62.500000</td>\n",
              "      <td>59.000000</td>\n",
              "      <td>6.540000</td>\n",
              "      <td>6.540000</td>\n",
              "      <td>4.040000</td>\n",
              "      <td>5357.500000</td>\n",
              "    </tr>\n",
              "    <tr>\n",
              "      <th>max</th>\n",
              "      <td>5.010000</td>\n",
              "      <td>79.000000</td>\n",
              "      <td>95.000000</td>\n",
              "      <td>10.740000</td>\n",
              "      <td>58.900000</td>\n",
              "      <td>31.800000</td>\n",
              "      <td>18818.000000</td>\n",
              "    </tr>\n",
              "  </tbody>\n",
              "</table>\n",
              "</div>"
            ],
            "text/plain": [
              "              carat         depth         table             x             y  \\\n",
              "count  53940.000000  53940.000000  53940.000000  53940.000000  53940.000000   \n",
              "mean       0.797940     61.749405     57.457184      5.731157      5.734526   \n",
              "std        0.474011      1.432621      2.234491      1.121761      1.142135   \n",
              "min        0.200000     43.000000     43.000000      0.000000      0.000000   \n",
              "25%        0.400000     61.000000     56.000000      4.710000      4.720000   \n",
              "50%        0.700000     61.800000     57.000000      5.700000      5.710000   \n",
              "75%        1.040000     62.500000     59.000000      6.540000      6.540000   \n",
              "max        5.010000     79.000000     95.000000     10.740000     58.900000   \n",
              "\n",
              "                  z         price  \n",
              "count  53940.000000  40455.000000  \n",
              "mean       3.538734   3942.538302  \n",
              "std        0.705699   3997.986695  \n",
              "min        0.000000    326.000000  \n",
              "25%        2.910000    956.000000  \n",
              "50%        3.530000   2400.000000  \n",
              "75%        4.040000   5357.500000  \n",
              "max       31.800000  18818.000000  "
            ]
          },
          "execution_count": 3,
          "metadata": {},
          "output_type": "execute_result"
        }
      ],
      "source": [
        "df.describe()"
      ]
    },
    {
      "cell_type": "code",
      "execution_count": 4,
      "metadata": {
        "colab": {
          "base_uri": "https://localhost:8080/"
        },
        "id": "zRU18jtfZgKW",
        "outputId": "88a23eb0-38ef-4965-e260-0a50aef80652"
      },
      "outputs": [
        {
          "name": "stdout",
          "output_type": "stream",
          "text": [
            "<class 'pandas.core.frame.DataFrame'>\n",
            "Int64Index: 53940 entries, 0 to 13484\n",
            "Data columns (total 10 columns):\n",
            " #   Column   Non-Null Count  Dtype  \n",
            "---  ------   --------------  -----  \n",
            " 0   carat    53940 non-null  float64\n",
            " 1   cut      53940 non-null  object \n",
            " 2   color    53940 non-null  object \n",
            " 3   clarity  53940 non-null  object \n",
            " 4   depth    53940 non-null  float64\n",
            " 5   table    53940 non-null  float64\n",
            " 6   x        53940 non-null  float64\n",
            " 7   y        53940 non-null  float64\n",
            " 8   z        53940 non-null  float64\n",
            " 9   price    40455 non-null  float64\n",
            "dtypes: float64(7), object(3)\n",
            "memory usage: 4.5+ MB\n"
          ]
        }
      ],
      "source": [
        "df.info()"
      ]
    },
    {
      "cell_type": "code",
      "execution_count": 5,
      "metadata": {
        "colab": {
          "base_uri": "https://localhost:8080/",
          "height": 423
        },
        "id": "f_D40sDJZ1d9",
        "outputId": "21171136-2e26-4973-c6bc-7e7373fea134"
      },
      "outputs": [
        {
          "data": {
            "text/html": [
              "<div>\n",
              "<style scoped>\n",
              "    .dataframe tbody tr th:only-of-type {\n",
              "        vertical-align: middle;\n",
              "    }\n",
              "\n",
              "    .dataframe tbody tr th {\n",
              "        vertical-align: top;\n",
              "    }\n",
              "\n",
              "    .dataframe thead th {\n",
              "        text-align: right;\n",
              "    }\n",
              "</style>\n",
              "<table border=\"1\" class=\"dataframe\">\n",
              "  <thead>\n",
              "    <tr style=\"text-align: right;\">\n",
              "      <th></th>\n",
              "      <th>carat</th>\n",
              "      <th>cut</th>\n",
              "      <th>color</th>\n",
              "      <th>clarity</th>\n",
              "      <th>depth</th>\n",
              "      <th>table</th>\n",
              "      <th>x</th>\n",
              "      <th>y</th>\n",
              "      <th>z</th>\n",
              "      <th>price</th>\n",
              "    </tr>\n",
              "  </thead>\n",
              "  <tbody>\n",
              "    <tr>\n",
              "      <th>0</th>\n",
              "      <td>0.25</td>\n",
              "      <td>Good</td>\n",
              "      <td>E</td>\n",
              "      <td>VVS2</td>\n",
              "      <td>64.9</td>\n",
              "      <td>58.0</td>\n",
              "      <td>3.95</td>\n",
              "      <td>3.97</td>\n",
              "      <td>2.57</td>\n",
              "      <td>476.0</td>\n",
              "    </tr>\n",
              "    <tr>\n",
              "      <th>1</th>\n",
              "      <td>0.84</td>\n",
              "      <td>Ideal</td>\n",
              "      <td>J</td>\n",
              "      <td>SI1</td>\n",
              "      <td>61.8</td>\n",
              "      <td>56.0</td>\n",
              "      <td>6.04</td>\n",
              "      <td>6.07</td>\n",
              "      <td>3.74</td>\n",
              "      <td>2493.0</td>\n",
              "    </tr>\n",
              "    <tr>\n",
              "      <th>2</th>\n",
              "      <td>1.05</td>\n",
              "      <td>Premium</td>\n",
              "      <td>J</td>\n",
              "      <td>VS2</td>\n",
              "      <td>61.1</td>\n",
              "      <td>58.0</td>\n",
              "      <td>6.56</td>\n",
              "      <td>6.51</td>\n",
              "      <td>3.99</td>\n",
              "      <td>4145.0</td>\n",
              "    </tr>\n",
              "    <tr>\n",
              "      <th>3</th>\n",
              "      <td>1.02</td>\n",
              "      <td>Ideal</td>\n",
              "      <td>F</td>\n",
              "      <td>SI2</td>\n",
              "      <td>60.7</td>\n",
              "      <td>56.0</td>\n",
              "      <td>6.53</td>\n",
              "      <td>6.50</td>\n",
              "      <td>3.95</td>\n",
              "      <td>4541.0</td>\n",
              "    </tr>\n",
              "    <tr>\n",
              "      <th>4</th>\n",
              "      <td>0.61</td>\n",
              "      <td>Ideal</td>\n",
              "      <td>F</td>\n",
              "      <td>VS1</td>\n",
              "      <td>61.8</td>\n",
              "      <td>57.0</td>\n",
              "      <td>5.43</td>\n",
              "      <td>5.47</td>\n",
              "      <td>3.37</td>\n",
              "      <td>2283.0</td>\n",
              "    </tr>\n",
              "    <tr>\n",
              "      <th>...</th>\n",
              "      <td>...</td>\n",
              "      <td>...</td>\n",
              "      <td>...</td>\n",
              "      <td>...</td>\n",
              "      <td>...</td>\n",
              "      <td>...</td>\n",
              "      <td>...</td>\n",
              "      <td>...</td>\n",
              "      <td>...</td>\n",
              "      <td>...</td>\n",
              "    </tr>\n",
              "    <tr>\n",
              "      <th>13480</th>\n",
              "      <td>0.56</td>\n",
              "      <td>Very Good</td>\n",
              "      <td>J</td>\n",
              "      <td>SI1</td>\n",
              "      <td>60.3</td>\n",
              "      <td>59.0</td>\n",
              "      <td>5.30</td>\n",
              "      <td>5.34</td>\n",
              "      <td>3.21</td>\n",
              "      <td>NaN</td>\n",
              "    </tr>\n",
              "    <tr>\n",
              "      <th>13481</th>\n",
              "      <td>1.63</td>\n",
              "      <td>Good</td>\n",
              "      <td>F</td>\n",
              "      <td>SI1</td>\n",
              "      <td>59.8</td>\n",
              "      <td>56.0</td>\n",
              "      <td>7.57</td>\n",
              "      <td>7.64</td>\n",
              "      <td>4.55</td>\n",
              "      <td>NaN</td>\n",
              "    </tr>\n",
              "    <tr>\n",
              "      <th>13482</th>\n",
              "      <td>1.21</td>\n",
              "      <td>Ideal</td>\n",
              "      <td>E</td>\n",
              "      <td>VS2</td>\n",
              "      <td>62.4</td>\n",
              "      <td>54.0</td>\n",
              "      <td>6.86</td>\n",
              "      <td>6.80</td>\n",
              "      <td>4.26</td>\n",
              "      <td>NaN</td>\n",
              "    </tr>\n",
              "    <tr>\n",
              "      <th>13483</th>\n",
              "      <td>1.01</td>\n",
              "      <td>Premium</td>\n",
              "      <td>F</td>\n",
              "      <td>SI2</td>\n",
              "      <td>62.2</td>\n",
              "      <td>59.0</td>\n",
              "      <td>6.41</td>\n",
              "      <td>6.45</td>\n",
              "      <td>4.00</td>\n",
              "      <td>NaN</td>\n",
              "    </tr>\n",
              "    <tr>\n",
              "      <th>13484</th>\n",
              "      <td>1.04</td>\n",
              "      <td>Premium</td>\n",
              "      <td>G</td>\n",
              "      <td>SI2</td>\n",
              "      <td>62.8</td>\n",
              "      <td>59.0</td>\n",
              "      <td>6.47</td>\n",
              "      <td>6.42</td>\n",
              "      <td>4.05</td>\n",
              "      <td>NaN</td>\n",
              "    </tr>\n",
              "  </tbody>\n",
              "</table>\n",
              "<p>53940 rows × 10 columns</p>\n",
              "</div>"
            ],
            "text/plain": [
              "       carat        cut color clarity  depth  table     x     y     z   price\n",
              "0       0.25       Good     E    VVS2   64.9   58.0  3.95  3.97  2.57   476.0\n",
              "1       0.84      Ideal     J     SI1   61.8   56.0  6.04  6.07  3.74  2493.0\n",
              "2       1.05    Premium     J     VS2   61.1   58.0  6.56  6.51  3.99  4145.0\n",
              "3       1.02      Ideal     F     SI2   60.7   56.0  6.53  6.50  3.95  4541.0\n",
              "4       0.61      Ideal     F     VS1   61.8   57.0  5.43  5.47  3.37  2283.0\n",
              "...      ...        ...   ...     ...    ...    ...   ...   ...   ...     ...\n",
              "13480   0.56  Very Good     J     SI1   60.3   59.0  5.30  5.34  3.21     NaN\n",
              "13481   1.63       Good     F     SI1   59.8   56.0  7.57  7.64  4.55     NaN\n",
              "13482   1.21      Ideal     E     VS2   62.4   54.0  6.86  6.80  4.26     NaN\n",
              "13483   1.01    Premium     F     SI2   62.2   59.0  6.41  6.45  4.00     NaN\n",
              "13484   1.04    Premium     G     SI2   62.8   59.0  6.47  6.42  4.05     NaN\n",
              "\n",
              "[53940 rows x 10 columns]"
            ]
          },
          "execution_count": 5,
          "metadata": {},
          "output_type": "execute_result"
        }
      ],
      "source": [
        "df"
      ]
    },
    {
      "cell_type": "code",
      "execution_count": 6,
      "metadata": {
        "id": "UbFfgo_DfzNd"
      },
      "outputs": [],
      "source": [
        "# make a copy to not remove the data\n",
        "df_encoded = df.copy()"
      ]
    },
    {
      "cell_type": "code",
      "execution_count": 7,
      "metadata": {
        "id": "831qAayCptRD"
      },
      "outputs": [],
      "source": [
        "# # categorical features: cut, color, clarity\n",
        "# label_encoder = LabelEncoder()\n",
        "\n",
        "# #cut\n",
        "# df_encoded['cut'] = label_encoder.fit_transform(df['cut'])\n",
        "# print('Уникальные категории cut:', dict(zip(label_encoder.classes_, label_encoder.transform(label_encoder.classes_))))\n",
        "\n",
        "# #clarity\n",
        "# df_encoded['clarity'] = label_encoder.fit_transform(df['clarity'])\n",
        "# print('Уникальные категории clarity:', dict(zip(label_encoder.classes_, label_encoder.transform(label_encoder.classes_))))"
      ]
    },
    {
      "cell_type": "code",
      "execution_count": 8,
      "metadata": {
        "id": "FyxN3Ux3lEwb"
      },
      "outputs": [],
      "source": [
        "# categorical features: cut, color, clarity\n",
        "#cut\n",
        "label_encoder = LabelEncoder()\n",
        "desired_order_cut = ['Fair', 'Good', 'Very Good', 'Premium', 'Ideal']\n",
        "\n",
        "df_encoded['cut'] = df_encoded['cut'].astype('category')\n",
        "df_encoded['cut'] = df_encoded['cut'].cat.reorder_categories(desired_order_cut, ordered=True)\n",
        "df_encoded['cut'] = df_encoded['cut'].cat.codes"
      ]
    },
    {
      "cell_type": "code",
      "execution_count": 9,
      "metadata": {
        "id": "FMAwKV6ymC3t"
      },
      "outputs": [],
      "source": [
        "#clarity\n",
        "label_encoder = LabelEncoder()\n",
        "desired_order_clarity = ['I1', 'SI1', 'SI2', 'VS1', 'VS2', 'VVS1', 'VVS2', 'IF']\n",
        "\n",
        "df_encoded['clarity'] = df_encoded['clarity'].astype('category')\n",
        "df_encoded['clarity'] = df_encoded['clarity'].cat.reorder_categories(desired_order_clarity, ordered=True)\n",
        "df_encoded['clarity'] = df_encoded['clarity'].cat.codes"
      ]
    },
    {
      "cell_type": "code",
      "execution_count": 10,
      "metadata": {
        "id": "VyqPnbmNbryL"
      },
      "outputs": [],
      "source": [
        "#color (we cannot ranl it, therefore make onecode-method)\n",
        "df_encoded = pd.get_dummies(df_encoded, columns=['color'])"
      ]
    },
    {
      "cell_type": "code",
      "execution_count": 11,
      "metadata": {
        "colab": {
          "base_uri": "https://localhost:8080/",
          "height": 423
        },
        "id": "8y33Ig_fb-3L",
        "outputId": "d80a1ceb-515f-40ce-e3fd-20e1a5b8a7e6"
      },
      "outputs": [
        {
          "data": {
            "text/html": [
              "<div>\n",
              "<style scoped>\n",
              "    .dataframe tbody tr th:only-of-type {\n",
              "        vertical-align: middle;\n",
              "    }\n",
              "\n",
              "    .dataframe tbody tr th {\n",
              "        vertical-align: top;\n",
              "    }\n",
              "\n",
              "    .dataframe thead th {\n",
              "        text-align: right;\n",
              "    }\n",
              "</style>\n",
              "<table border=\"1\" class=\"dataframe\">\n",
              "  <thead>\n",
              "    <tr style=\"text-align: right;\">\n",
              "      <th></th>\n",
              "      <th>carat</th>\n",
              "      <th>cut</th>\n",
              "      <th>clarity</th>\n",
              "      <th>depth</th>\n",
              "      <th>table</th>\n",
              "      <th>x</th>\n",
              "      <th>y</th>\n",
              "      <th>z</th>\n",
              "      <th>price</th>\n",
              "      <th>color_D</th>\n",
              "      <th>color_E</th>\n",
              "      <th>color_F</th>\n",
              "      <th>color_G</th>\n",
              "      <th>color_H</th>\n",
              "      <th>color_I</th>\n",
              "      <th>color_J</th>\n",
              "    </tr>\n",
              "  </thead>\n",
              "  <tbody>\n",
              "    <tr>\n",
              "      <th>0</th>\n",
              "      <td>0.25</td>\n",
              "      <td>1</td>\n",
              "      <td>6</td>\n",
              "      <td>64.9</td>\n",
              "      <td>58.0</td>\n",
              "      <td>3.95</td>\n",
              "      <td>3.97</td>\n",
              "      <td>2.57</td>\n",
              "      <td>476.0</td>\n",
              "      <td>0</td>\n",
              "      <td>1</td>\n",
              "      <td>0</td>\n",
              "      <td>0</td>\n",
              "      <td>0</td>\n",
              "      <td>0</td>\n",
              "      <td>0</td>\n",
              "    </tr>\n",
              "    <tr>\n",
              "      <th>1</th>\n",
              "      <td>0.84</td>\n",
              "      <td>4</td>\n",
              "      <td>1</td>\n",
              "      <td>61.8</td>\n",
              "      <td>56.0</td>\n",
              "      <td>6.04</td>\n",
              "      <td>6.07</td>\n",
              "      <td>3.74</td>\n",
              "      <td>2493.0</td>\n",
              "      <td>0</td>\n",
              "      <td>0</td>\n",
              "      <td>0</td>\n",
              "      <td>0</td>\n",
              "      <td>0</td>\n",
              "      <td>0</td>\n",
              "      <td>1</td>\n",
              "    </tr>\n",
              "    <tr>\n",
              "      <th>2</th>\n",
              "      <td>1.05</td>\n",
              "      <td>3</td>\n",
              "      <td>4</td>\n",
              "      <td>61.1</td>\n",
              "      <td>58.0</td>\n",
              "      <td>6.56</td>\n",
              "      <td>6.51</td>\n",
              "      <td>3.99</td>\n",
              "      <td>4145.0</td>\n",
              "      <td>0</td>\n",
              "      <td>0</td>\n",
              "      <td>0</td>\n",
              "      <td>0</td>\n",
              "      <td>0</td>\n",
              "      <td>0</td>\n",
              "      <td>1</td>\n",
              "    </tr>\n",
              "    <tr>\n",
              "      <th>3</th>\n",
              "      <td>1.02</td>\n",
              "      <td>4</td>\n",
              "      <td>2</td>\n",
              "      <td>60.7</td>\n",
              "      <td>56.0</td>\n",
              "      <td>6.53</td>\n",
              "      <td>6.50</td>\n",
              "      <td>3.95</td>\n",
              "      <td>4541.0</td>\n",
              "      <td>0</td>\n",
              "      <td>0</td>\n",
              "      <td>1</td>\n",
              "      <td>0</td>\n",
              "      <td>0</td>\n",
              "      <td>0</td>\n",
              "      <td>0</td>\n",
              "    </tr>\n",
              "    <tr>\n",
              "      <th>4</th>\n",
              "      <td>0.61</td>\n",
              "      <td>4</td>\n",
              "      <td>3</td>\n",
              "      <td>61.8</td>\n",
              "      <td>57.0</td>\n",
              "      <td>5.43</td>\n",
              "      <td>5.47</td>\n",
              "      <td>3.37</td>\n",
              "      <td>2283.0</td>\n",
              "      <td>0</td>\n",
              "      <td>0</td>\n",
              "      <td>1</td>\n",
              "      <td>0</td>\n",
              "      <td>0</td>\n",
              "      <td>0</td>\n",
              "      <td>0</td>\n",
              "    </tr>\n",
              "    <tr>\n",
              "      <th>...</th>\n",
              "      <td>...</td>\n",
              "      <td>...</td>\n",
              "      <td>...</td>\n",
              "      <td>...</td>\n",
              "      <td>...</td>\n",
              "      <td>...</td>\n",
              "      <td>...</td>\n",
              "      <td>...</td>\n",
              "      <td>...</td>\n",
              "      <td>...</td>\n",
              "      <td>...</td>\n",
              "      <td>...</td>\n",
              "      <td>...</td>\n",
              "      <td>...</td>\n",
              "      <td>...</td>\n",
              "      <td>...</td>\n",
              "    </tr>\n",
              "    <tr>\n",
              "      <th>13480</th>\n",
              "      <td>0.56</td>\n",
              "      <td>2</td>\n",
              "      <td>1</td>\n",
              "      <td>60.3</td>\n",
              "      <td>59.0</td>\n",
              "      <td>5.30</td>\n",
              "      <td>5.34</td>\n",
              "      <td>3.21</td>\n",
              "      <td>NaN</td>\n",
              "      <td>0</td>\n",
              "      <td>0</td>\n",
              "      <td>0</td>\n",
              "      <td>0</td>\n",
              "      <td>0</td>\n",
              "      <td>0</td>\n",
              "      <td>1</td>\n",
              "    </tr>\n",
              "    <tr>\n",
              "      <th>13481</th>\n",
              "      <td>1.63</td>\n",
              "      <td>1</td>\n",
              "      <td>1</td>\n",
              "      <td>59.8</td>\n",
              "      <td>56.0</td>\n",
              "      <td>7.57</td>\n",
              "      <td>7.64</td>\n",
              "      <td>4.55</td>\n",
              "      <td>NaN</td>\n",
              "      <td>0</td>\n",
              "      <td>0</td>\n",
              "      <td>1</td>\n",
              "      <td>0</td>\n",
              "      <td>0</td>\n",
              "      <td>0</td>\n",
              "      <td>0</td>\n",
              "    </tr>\n",
              "    <tr>\n",
              "      <th>13482</th>\n",
              "      <td>1.21</td>\n",
              "      <td>4</td>\n",
              "      <td>4</td>\n",
              "      <td>62.4</td>\n",
              "      <td>54.0</td>\n",
              "      <td>6.86</td>\n",
              "      <td>6.80</td>\n",
              "      <td>4.26</td>\n",
              "      <td>NaN</td>\n",
              "      <td>0</td>\n",
              "      <td>1</td>\n",
              "      <td>0</td>\n",
              "      <td>0</td>\n",
              "      <td>0</td>\n",
              "      <td>0</td>\n",
              "      <td>0</td>\n",
              "    </tr>\n",
              "    <tr>\n",
              "      <th>13483</th>\n",
              "      <td>1.01</td>\n",
              "      <td>3</td>\n",
              "      <td>2</td>\n",
              "      <td>62.2</td>\n",
              "      <td>59.0</td>\n",
              "      <td>6.41</td>\n",
              "      <td>6.45</td>\n",
              "      <td>4.00</td>\n",
              "      <td>NaN</td>\n",
              "      <td>0</td>\n",
              "      <td>0</td>\n",
              "      <td>1</td>\n",
              "      <td>0</td>\n",
              "      <td>0</td>\n",
              "      <td>0</td>\n",
              "      <td>0</td>\n",
              "    </tr>\n",
              "    <tr>\n",
              "      <th>13484</th>\n",
              "      <td>1.04</td>\n",
              "      <td>3</td>\n",
              "      <td>2</td>\n",
              "      <td>62.8</td>\n",
              "      <td>59.0</td>\n",
              "      <td>6.47</td>\n",
              "      <td>6.42</td>\n",
              "      <td>4.05</td>\n",
              "      <td>NaN</td>\n",
              "      <td>0</td>\n",
              "      <td>0</td>\n",
              "      <td>0</td>\n",
              "      <td>1</td>\n",
              "      <td>0</td>\n",
              "      <td>0</td>\n",
              "      <td>0</td>\n",
              "    </tr>\n",
              "  </tbody>\n",
              "</table>\n",
              "<p>53940 rows × 16 columns</p>\n",
              "</div>"
            ],
            "text/plain": [
              "       carat  cut  clarity  depth  table     x     y     z   price  color_D  \\\n",
              "0       0.25    1        6   64.9   58.0  3.95  3.97  2.57   476.0        0   \n",
              "1       0.84    4        1   61.8   56.0  6.04  6.07  3.74  2493.0        0   \n",
              "2       1.05    3        4   61.1   58.0  6.56  6.51  3.99  4145.0        0   \n",
              "3       1.02    4        2   60.7   56.0  6.53  6.50  3.95  4541.0        0   \n",
              "4       0.61    4        3   61.8   57.0  5.43  5.47  3.37  2283.0        0   \n",
              "...      ...  ...      ...    ...    ...   ...   ...   ...     ...      ...   \n",
              "13480   0.56    2        1   60.3   59.0  5.30  5.34  3.21     NaN        0   \n",
              "13481   1.63    1        1   59.8   56.0  7.57  7.64  4.55     NaN        0   \n",
              "13482   1.21    4        4   62.4   54.0  6.86  6.80  4.26     NaN        0   \n",
              "13483   1.01    3        2   62.2   59.0  6.41  6.45  4.00     NaN        0   \n",
              "13484   1.04    3        2   62.8   59.0  6.47  6.42  4.05     NaN        0   \n",
              "\n",
              "       color_E  color_F  color_G  color_H  color_I  color_J  \n",
              "0            1        0        0        0        0        0  \n",
              "1            0        0        0        0        0        1  \n",
              "2            0        0        0        0        0        1  \n",
              "3            0        1        0        0        0        0  \n",
              "4            0        1        0        0        0        0  \n",
              "...        ...      ...      ...      ...      ...      ...  \n",
              "13480        0        0        0        0        0        1  \n",
              "13481        0        1        0        0        0        0  \n",
              "13482        1        0        0        0        0        0  \n",
              "13483        0        1        0        0        0        0  \n",
              "13484        0        0        1        0        0        0  \n",
              "\n",
              "[53940 rows x 16 columns]"
            ]
          },
          "execution_count": 11,
          "metadata": {},
          "output_type": "execute_result"
        }
      ],
      "source": [
        "#final data\n",
        "df_encoded"
      ]
    },
    {
      "cell_type": "markdown",
      "metadata": {
        "id": "n6DJVx4-a2sh"
      },
      "source": [
        "# Model"
      ]
    },
    {
      "cell_type": "code",
      "execution_count": 12,
      "metadata": {
        "id": "W9pxpJG1aRkI"
      },
      "outputs": [],
      "source": [
        "# make the sample\n",
        "X_train = df_encoded[~df_encoded.price.isnull()].drop('price', axis=1) # features\n",
        "X_test =  df_encoded[df_encoded.price.isnull()].drop('price', axis=1)\n",
        "y_train = df_encoded[~df_encoded.price.isnull()]['price']  # target\n",
        "\n",
        "X_train_tr, X_test_tr, y_train_tr, y_test_tr = train_test_split(X_train, y_train, test_size=0.2, random_state=42)"
      ]
    },
    {
      "cell_type": "code",
      "execution_count": 13,
      "metadata": {
        "colab": {
          "base_uri": "https://localhost:8080/"
        },
        "id": "352m2EWTeqo2",
        "outputId": "9695e992-9541-482a-de92-0cb98c907336"
      },
      "outputs": [
        {
          "name": "stdout",
          "output_type": "stream",
          "text": [
            "RMSE: 548.136890896518\n"
          ]
        }
      ],
      "source": [
        "model = GradientBoostingRegressor(n_estimators=200, learning_rate=0.1, max_depth=6, random_state=42)\n",
        "model.fit(X_train_tr, y_train_tr)\n",
        "\n",
        "predictions = model.predict(X_test_tr)\n",
        "mse = mean_squared_error(y_test_tr, predictions)\n",
        "print(f\"RMSE: {np.sqrt(mse)}\")"
      ]
    },
    {
      "cell_type": "code",
      "execution_count": 14,
      "metadata": {
        "colab": {
          "base_uri": "https://localhost:8080/"
        },
        "id": "KVKUfO1ji37F",
        "outputId": "b84eff23-fbf2-4094-838e-718646995239"
      },
      "outputs": [],
      "source": [
        "#find params\n",
        "\n",
        "# param_grid = {\n",
        "#     'n_estimators': [100, 200, 300],\n",
        "#     'learning_rate': [0.1, 0.2, 1],\n",
        "#     'max_depth': [3, 4, 5, 6, 8]\n",
        "# }\n",
        "\n",
        "# grid_search = GridSearchCV(model, param_grid, cv=3, scoring='neg_mean_squared_error', verbose=10)\n",
        "# grid_search.fit(X_train, y_train)\n",
        "# clear_output()\n",
        "\n",
        "# print(\"Наилучшие параметры:\", grid_search.best_params_)\n",
        "# print(\"Лучшее значение MSE:\", -grid_search.best_score_)"
      ]
    },
    {
      "cell_type": "markdown",
      "metadata": {},
      "source": [
        "# Валидация (Эрдэни)"
      ]
    },
    {
      "cell_type": "code",
      "execution_count": 15,
      "metadata": {
        "id": "mjq0URUouKsD"
      },
      "outputs": [],
      "source": [
        "#prediction for test\n",
        "model = GradientBoostingRegressor(n_estimators=200, learning_rate=0.1, max_depth=6, random_state=42)\n",
        "model.fit(X_train, y_train)\n",
        "predictions = model.predict(X_test)\n",
        "\n",
        "np.savetxt('Yana_Ivanova_test_1.csv', predictions, delimiter=',', fmt='%d')"
      ]
    },
    {
      "cell_type": "code",
      "execution_count": 16,
      "metadata": {},
      "outputs": [
        {
          "data": {
            "text/plain": [
              "13485"
            ]
          },
          "execution_count": 16,
          "metadata": {},
          "output_type": "execute_result"
        }
      ],
      "source": [
        "len(predictions)"
      ]
    },
    {
      "cell_type": "code",
      "execution_count": 17,
      "metadata": {},
      "outputs": [
        {
          "data": {
            "text/plain": [
              "array([ 559, 2201, 1238, ..., 9215, 4416, 3564])"
            ]
          },
          "execution_count": 17,
          "metadata": {},
          "output_type": "execute_result"
        }
      ],
      "source": [
        "df_true = pd.read_csv(\"briliants_y_true.csv\")\n",
        "y_true = df_true['price'].values\n",
        "y_true"
      ]
    },
    {
      "cell_type": "code",
      "execution_count": 18,
      "metadata": {},
      "outputs": [
        {
          "data": {
            "text/plain": [
              "541.2797836565446"
            ]
          },
          "execution_count": 18,
          "metadata": {},
          "output_type": "execute_result"
        }
      ],
      "source": [
        "mean_squared_error(y_true, predictions, squared=False)"
      ]
    },
    {
      "cell_type": "code",
      "execution_count": 20,
      "metadata": {},
      "outputs": [
        {
          "data": {
            "text/plain": [
              "275.31351266811856"
            ]
          },
          "execution_count": 20,
          "metadata": {},
          "output_type": "execute_result"
        }
      ],
      "source": [
        "mean_absolute_error(y_true, predictions)"
      ]
    }
  ],
  "metadata": {
    "colab": {
      "provenance": []
    },
    "kernelspec": {
      "display_name": "base",
      "language": "python",
      "name": "python3"
    },
    "language_info": {
      "codemirror_mode": {
        "name": "ipython",
        "version": 3
      },
      "file_extension": ".py",
      "mimetype": "text/x-python",
      "name": "python",
      "nbconvert_exporter": "python",
      "pygments_lexer": "ipython3",
      "version": "3.10.9"
    },
    "orig_nbformat": 4
  },
  "nbformat": 4,
  "nbformat_minor": 0
}

{
  "nbformat": 4,
  "nbformat_minor": 0,
  "metadata": {
    "colab": {
      "private_outputs": true,
      "provenance": []
    },
    "kernelspec": {
      "name": "python3",
      "display_name": "Python 3"
    },
    "language_info": {
      "name": "python"
    }
  },
  "cells": [
    {
      "cell_type": "code",
      "execution_count": null,
      "metadata": {
        "id": "O9cyMFkjkpHI"
      },
      "outputs": [],
      "source": [
        "!pip install catboost"
      ]
    },
    {
      "cell_type": "code",
      "source": [
        "import pandas as pd\n",
        "from catboost import CatBoostRegressor\n",
        "from sklearn.model_selection import train_test_split"
      ],
      "metadata": {
        "id": "hpYBb2aSmopE"
      },
      "execution_count": null,
      "outputs": []
    },
    {
      "cell_type": "code",
      "source": [
        "train = pd.read_csv('/content/house_train.csv',index_col=0)\n",
        "test = pd.read_csv('/content/house_test.csv',index_col=0)"
      ],
      "metadata": {
        "id": "vlj7wOhpm1vH"
      },
      "execution_count": null,
      "outputs": []
    },
    {
      "cell_type": "code",
      "source": [
        "train = train.fillna(0)"
      ],
      "metadata": {
        "id": "zVXvPVhbp8Z4"
      },
      "execution_count": null,
      "outputs": []
    },
    {
      "cell_type": "code",
      "source": [
        "cat_features = list(set(train.columns) - set(train.describe().columns))"
      ],
      "metadata": {
        "id": "JhoMMT9Zpt5n"
      },
      "execution_count": null,
      "outputs": []
    },
    {
      "cell_type": "code",
      "source": [
        "X = train.drop('SalePrice',axis=1)"
      ],
      "metadata": {
        "id": "9Ss4dzLOoQS_"
      },
      "execution_count": null,
      "outputs": []
    },
    {
      "cell_type": "code",
      "source": [
        "X_train, X_test, y_train, y_test = train_test_split(X, train['SalePrice'], test_size=0.2, random_state=42)"
      ],
      "metadata": {
        "id": "mDvi_-94m6r4"
      },
      "execution_count": null,
      "outputs": []
    },
    {
      "cell_type": "code",
      "source": [
        "model = CatBoostRegressor(\n",
        "    iterations=1e4, depth=5,\n",
        "    loss_function='RMSE', verbose=True,metric_period=int(1e3),\n",
        "    cat_features=cat_features)\n",
        "\n",
        "model.fit(X_train, y_train,eval_set=(X_test,y_test))"
      ],
      "metadata": {
        "id": "Ku4Cx793nn3a"
      },
      "execution_count": null,
      "outputs": []
    },
    {
      "cell_type": "code",
      "source": [
        "importances = model.get_feature_importance()\n",
        "feature_importances = pd.Series(importances, index=X_train.columns).sort_values(ascending=False).reset_index()"
      ],
      "metadata": {
        "id": "mFmTRkBkq4Vf"
      },
      "execution_count": null,
      "outputs": []
    },
    {
      "cell_type": "code",
      "source": [
        "trimmed_feat = list(feature_importances[feature_importances[0] >= 2]['index'])\n",
        "cat_features = list(set(train[trimmed_feat].columns) - set(train[trimmed_feat].describe().columns))"
      ],
      "metadata": {
        "id": "61NsGuX4tJ0T"
      },
      "execution_count": null,
      "outputs": []
    },
    {
      "cell_type": "code",
      "source": [
        "model = CatBoostRegressor(\n",
        "    iterations=1e4, depth=5,\n",
        "    loss_function='RMSE', verbose=True,metric_period=int(1e3),\n",
        "    cat_features=cat_features)\n",
        "\n",
        "model.fit(X_train[trimmed_feat], y_train, eval_set=(X_test[trimmed_feat],y_test))"
      ],
      "metadata": {
        "id": "YAXR3fXit0HW"
      },
      "execution_count": null,
      "outputs": []
    },
    {
      "cell_type": "code",
      "source": [
        "predictions = model.predict(X_test[trimmed_feat])"
      ],
      "metadata": {
        "id": "c_UiNgyfvUA3"
      },
      "execution_count": null,
      "outputs": []
    }
  ]
}
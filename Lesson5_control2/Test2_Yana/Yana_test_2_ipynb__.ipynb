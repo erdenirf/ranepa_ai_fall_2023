{
  "cells": [
    {
      "cell_type": "code",
      "execution_count": 2,
      "metadata": {
        "id": "tdGG4beo7JVF"
      },
      "outputs": [
        {
          "name": "stdout",
          "output_type": "stream",
          "text": [
            "Requirement already satisfied: imbalanced-learn in /home/erdeni/anaconda3/lib/python3.10/site-packages (0.10.1)\n",
            "Collecting imbalanced-learn\n",
            "  Downloading imbalanced_learn-0.11.0-py3-none-any.whl (235 kB)\n",
            "\u001b[2K     \u001b[90m━━━━━━━━━━━━━━━━━━━━━━━━━━━━━━━━━━━━━\u001b[0m \u001b[32m235.6/235.6 kB\u001b[0m \u001b[31m699.6 kB/s\u001b[0m eta \u001b[36m0:00:00\u001b[0ma \u001b[36m0:00:01\u001b[0m\n",
            "\u001b[?25hRequirement already satisfied: numpy>=1.17.3 in /home/erdeni/anaconda3/lib/python3.10/site-packages (from imbalanced-learn) (1.23.5)\n",
            "Requirement already satisfied: scipy>=1.5.0 in /home/erdeni/anaconda3/lib/python3.10/site-packages (from imbalanced-learn) (1.10.0)\n",
            "Requirement already satisfied: joblib>=1.1.1 in /home/erdeni/anaconda3/lib/python3.10/site-packages (from imbalanced-learn) (1.1.1)\n",
            "Requirement already satisfied: scikit-learn>=1.0.2 in /home/erdeni/anaconda3/lib/python3.10/site-packages (from imbalanced-learn) (1.2.1)\n",
            "Requirement already satisfied: threadpoolctl>=2.0.0 in /home/erdeni/anaconda3/lib/python3.10/site-packages (from imbalanced-learn) (2.2.0)\n",
            "Installing collected packages: imbalanced-learn\n",
            "  Attempting uninstall: imbalanced-learn\n",
            "    Found existing installation: imbalanced-learn 0.10.1\n",
            "    Uninstalling imbalanced-learn-0.10.1:\n",
            "      Successfully uninstalled imbalanced-learn-0.10.1\n",
            "Successfully installed imbalanced-learn-0.11.0\n",
            "Collecting catboost\n",
            "  Downloading catboost-1.2.2-cp310-cp310-manylinux2014_x86_64.whl (98.7 MB)\n",
            "\u001b[2K     \u001b[90m━━━━━━━━━━━━━━━━━━━━━━━━━━━━━━━━━━━━━━━━\u001b[0m \u001b[32m98.7/98.7 MB\u001b[0m \u001b[31m3.4 MB/s\u001b[0m eta \u001b[36m0:00:00\u001b[0m00:01\u001b[0m00:01\u001b[0m\n",
            "\u001b[?25hRequirement already satisfied: six in /home/erdeni/anaconda3/lib/python3.10/site-packages (from catboost) (1.16.0)\n",
            "Requirement already satisfied: scipy in /home/erdeni/anaconda3/lib/python3.10/site-packages (from catboost) (1.10.0)\n",
            "Requirement already satisfied: plotly in /home/erdeni/anaconda3/lib/python3.10/site-packages (from catboost) (5.9.0)\n",
            "Requirement already satisfied: numpy>=1.16.0 in /home/erdeni/anaconda3/lib/python3.10/site-packages (from catboost) (1.23.5)\n",
            "Requirement already satisfied: graphviz in /home/erdeni/anaconda3/lib/python3.10/site-packages (from catboost) (0.20.1)\n",
            "Requirement already satisfied: pandas>=0.24 in /home/erdeni/anaconda3/lib/python3.10/site-packages (from catboost) (1.5.3)\n",
            "Requirement already satisfied: matplotlib in /home/erdeni/anaconda3/lib/python3.10/site-packages (from catboost) (3.7.0)\n",
            "Requirement already satisfied: python-dateutil>=2.8.1 in /home/erdeni/anaconda3/lib/python3.10/site-packages (from pandas>=0.24->catboost) (2.8.2)\n",
            "Requirement already satisfied: pytz>=2020.1 in /home/erdeni/anaconda3/lib/python3.10/site-packages (from pandas>=0.24->catboost) (2022.7)\n",
            "Requirement already satisfied: packaging>=20.0 in /home/erdeni/anaconda3/lib/python3.10/site-packages (from matplotlib->catboost) (22.0)\n",
            "Requirement already satisfied: contourpy>=1.0.1 in /home/erdeni/anaconda3/lib/python3.10/site-packages (from matplotlib->catboost) (1.0.5)\n",
            "Requirement already satisfied: pyparsing>=2.3.1 in /home/erdeni/anaconda3/lib/python3.10/site-packages (from matplotlib->catboost) (3.0.9)\n",
            "Requirement already satisfied: kiwisolver>=1.0.1 in /home/erdeni/anaconda3/lib/python3.10/site-packages (from matplotlib->catboost) (1.4.4)\n",
            "Requirement already satisfied: cycler>=0.10 in /home/erdeni/anaconda3/lib/python3.10/site-packages (from matplotlib->catboost) (0.11.0)\n",
            "Requirement already satisfied: pillow>=6.2.0 in /home/erdeni/anaconda3/lib/python3.10/site-packages (from matplotlib->catboost) (9.4.0)\n",
            "Requirement already satisfied: fonttools>=4.22.0 in /home/erdeni/anaconda3/lib/python3.10/site-packages (from matplotlib->catboost) (4.25.0)\n",
            "Requirement already satisfied: tenacity>=6.2.0 in /home/erdeni/anaconda3/lib/python3.10/site-packages (from plotly->catboost) (8.2.2)\n",
            "Installing collected packages: catboost\n",
            "Successfully installed catboost-1.2.2\n"
          ]
        }
      ],
      "source": [
        "#install libs\n",
        "\n",
        "!pip install -U imbalanced-learn\n",
        "!pip install catboost"
      ]
    },
    {
      "cell_type": "code",
      "execution_count": 3,
      "metadata": {
        "id": "MS4U2ONBKVTu"
      },
      "outputs": [],
      "source": [
        "# importing libs\n",
        "import numpy as np\n",
        "import pandas as pd\n",
        "import seaborn as sns\n",
        "import matplotlib.pyplot as plt\n",
        "\n",
        "from sklearn.linear_model import LogisticRegression\n",
        "from sklearn.ensemble import RandomForestClassifier\n",
        "from sklearn.ensemble import GradientBoostingClassifier\n",
        "from catboost import CatBoostClassifier\n",
        "\n",
        "from sklearn.preprocessing import StandardScaler\n",
        "from sklearn.metrics import confusion_matrix, roc_auc_score, auc, precision_recall_curve\n",
        "from sklearn.metrics import make_scorer, f1_score\n",
        "\n",
        "from sklearn.model_selection import train_test_split\n",
        "from sklearn.metrics import accuracy_score, classification_report\n",
        "from sklearn.model_selection import GridSearchCV, RandomizedSearchCV\n",
        "\n",
        "from imblearn.over_sampling import SMOTE\n",
        "\n",
        "from IPython.display import clear_output\n",
        "import warnings\n",
        "warnings.filterwarnings('ignore')\n",
        "# warnings.filterwarnings('default')"
      ]
    },
    {
      "cell_type": "markdown",
      "metadata": {
        "id": "xEBkAAYsLr1Q"
      },
      "source": [
        "# Work with data"
      ]
    },
    {
      "cell_type": "code",
      "execution_count": 4,
      "metadata": {
        "id": "e8hLH75pJtHS"
      },
      "outputs": [],
      "source": [
        "# loading data\n",
        "df_train = pd.read_csv(\"churn_train.csv\", index_col=0)\n",
        "df_test = pd.read_csv(\"churn_test.csv\", index_col=0)\n",
        "\n",
        "df = pd.concat([df_train,df_test])"
      ]
    },
    {
      "cell_type": "code",
      "execution_count": 5,
      "metadata": {
        "colab": {
          "base_uri": "https://localhost:8080/"
        },
        "id": "V-MElWxBJzUu",
        "outputId": "cd7407fd-4eae-4b32-8e65-2e5c6ff797c4"
      },
      "outputs": [
        {
          "name": "stdout",
          "output_type": "stream",
          "text": [
            "<class 'pandas.core.frame.DataFrame'>\n",
            "Int64Index: 170744 entries, 0 to 42685\n",
            "Data columns (total 14 columns):\n",
            " #   Column               Non-Null Count   Dtype  \n",
            "---  ------               --------------   -----  \n",
            " 0   age                  170744 non-null  float64\n",
            " 1   marital_status       170739 non-null  float64\n",
            " 2   job_position         170744 non-null  float64\n",
            " 3   credit_sum           170743 non-null  float64\n",
            " 4   credit_length        170744 non-null  float64\n",
            " 5   scoring              170741 non-null  float64\n",
            " 6   education            170741 non-null  float64\n",
            " 7   tariff_id            170744 non-null  float64\n",
            " 8   region               170552 non-null  float64\n",
            " 9   average_region_wage  170552 non-null  float64\n",
            " 10  income               170742 non-null  float64\n",
            " 11  credit_count         161514 non-null  float64\n",
            " 12  overdue_count        161514 non-null  float64\n",
            " 13  churn                128058 non-null  float64\n",
            "dtypes: float64(14)\n",
            "memory usage: 19.5 MB\n"
          ]
        }
      ],
      "source": [
        "# check quality of data\n",
        "df.info()"
      ]
    },
    {
      "cell_type": "code",
      "execution_count": 6,
      "metadata": {
        "colab": {
          "base_uri": "https://localhost:8080/"
        },
        "id": "3DmTpJrbK0m0",
        "outputId": "6cb3d0bd-55a8-43bd-da84-c95b3a1f33a5"
      },
      "outputs": [
        {
          "data": {
            "text/plain": [
              "age                        0\n",
              "marital_status             5\n",
              "job_position               0\n",
              "credit_sum                 1\n",
              "credit_length              0\n",
              "scoring                    3\n",
              "education                  3\n",
              "tariff_id                  0\n",
              "region                   192\n",
              "average_region_wage      192\n",
              "income                     2\n",
              "credit_count            9230\n",
              "overdue_count           9230\n",
              "churn                  42686\n",
              "dtype: int64"
            ]
          },
          "execution_count": 6,
          "metadata": {},
          "output_type": "execute_result"
        }
      ],
      "source": [
        "df.isnull().sum()"
      ]
    },
    {
      "cell_type": "code",
      "execution_count": 7,
      "metadata": {
        "id": "XxHTO0a_nRqt"
      },
      "outputs": [],
      "source": [
        "# work with data (fill empty space)\n",
        "# marital_status\n",
        "df.marital_status.fillna(df.marital_status.mode()[0], inplace=True)\n",
        "\n",
        "# credit_sum\n",
        "df.credit_sum.fillna(df.credit_sum.mode()[0], inplace=True)\n",
        "\n",
        "# scoring\n",
        "df.scoring.fillna(df.scoring.mean(), inplace=True)\n",
        "\n",
        "# education\n",
        "df.education.fillna(df.education.mode()[0], inplace=True)\n",
        "\n",
        "# region\n",
        "df.region.fillna(df.region.mode()[0], inplace=True)\n",
        "\n",
        "# average_region_wage\n",
        "df.average_region_wage.fillna(df.average_region_wage.mode()[0], inplace=True)\n",
        "\n",
        "# income\n",
        "df.income.fillna(df.income.mean(), inplace=True)\n",
        "\n",
        "# credit_count\n",
        "df.credit_count.fillna(df.credit_count.mode()[0], inplace=True)\n",
        "\n",
        "# overdue_count\n",
        "df.overdue_count.fillna(df.overdue_count.mode()[0], inplace=True)"
      ]
    },
    {
      "cell_type": "code",
      "execution_count": 8,
      "metadata": {
        "colab": {
          "base_uri": "https://localhost:8080/"
        },
        "id": "WYKGMeV0ow01",
        "outputId": "09e19586-c0d9-4960-bca1-8c0b9a42962b"
      },
      "outputs": [
        {
          "data": {
            "text/plain": [
              "age                        0\n",
              "marital_status             0\n",
              "job_position               0\n",
              "credit_sum                 0\n",
              "credit_length              0\n",
              "scoring                    0\n",
              "education                  0\n",
              "tariff_id                  0\n",
              "region                     0\n",
              "average_region_wage        0\n",
              "income                     0\n",
              "credit_count               0\n",
              "overdue_count              0\n",
              "churn                  42686\n",
              "dtype: int64"
            ]
          },
          "execution_count": 8,
          "metadata": {},
          "output_type": "execute_result"
        }
      ],
      "source": [
        "df.isnull().sum()"
      ]
    },
    {
      "cell_type": "code",
      "execution_count": 9,
      "metadata": {
        "colab": {
          "base_uri": "https://localhost:8080/",
          "height": 300
        },
        "id": "dThpm3RPLFj4",
        "outputId": "566e55ed-1c85-475b-ced3-62170b656411"
      },
      "outputs": [
        {
          "data": {
            "text/html": [
              "<div>\n",
              "<style scoped>\n",
              "    .dataframe tbody tr th:only-of-type {\n",
              "        vertical-align: middle;\n",
              "    }\n",
              "\n",
              "    .dataframe tbody tr th {\n",
              "        vertical-align: top;\n",
              "    }\n",
              "\n",
              "    .dataframe thead th {\n",
              "        text-align: right;\n",
              "    }\n",
              "</style>\n",
              "<table border=\"1\" class=\"dataframe\">\n",
              "  <thead>\n",
              "    <tr style=\"text-align: right;\">\n",
              "      <th></th>\n",
              "      <th>age</th>\n",
              "      <th>marital_status</th>\n",
              "      <th>job_position</th>\n",
              "      <th>credit_sum</th>\n",
              "      <th>credit_length</th>\n",
              "      <th>scoring</th>\n",
              "      <th>education</th>\n",
              "      <th>tariff_id</th>\n",
              "      <th>region</th>\n",
              "      <th>average_region_wage</th>\n",
              "      <th>income</th>\n",
              "      <th>credit_count</th>\n",
              "      <th>overdue_count</th>\n",
              "      <th>churn</th>\n",
              "    </tr>\n",
              "  </thead>\n",
              "  <tbody>\n",
              "    <tr>\n",
              "      <th>count</th>\n",
              "      <td>170744.000000</td>\n",
              "      <td>170744.000000</td>\n",
              "      <td>170744.000000</td>\n",
              "      <td>170744.000000</td>\n",
              "      <td>170744.000000</td>\n",
              "      <td>170744.000000</td>\n",
              "      <td>170744.000000</td>\n",
              "      <td>170744.000000</td>\n",
              "      <td>170744.000000</td>\n",
              "      <td>170744.000000</td>\n",
              "      <td>170744.000000</td>\n",
              "      <td>170744.000000</td>\n",
              "      <td>170744.000000</td>\n",
              "      <td>128058.000000</td>\n",
              "    </tr>\n",
              "    <tr>\n",
              "      <th>mean</th>\n",
              "      <td>36.497312</td>\n",
              "      <td>3.197582</td>\n",
              "      <td>13.160006</td>\n",
              "      <td>26095.251971</td>\n",
              "      <td>10.980784</td>\n",
              "      <td>0.469472</td>\n",
              "      <td>3.202719</td>\n",
              "      <td>14.118839</td>\n",
              "      <td>42.996580</td>\n",
              "      <td>32951.140069</td>\n",
              "      <td>40138.484058</td>\n",
              "      <td>2.047445</td>\n",
              "      <td>0.043580</td>\n",
              "      <td>0.174585</td>\n",
              "    </tr>\n",
              "    <tr>\n",
              "      <th>std</th>\n",
              "      <td>10.546067</td>\n",
              "      <td>0.738564</td>\n",
              "      <td>3.132438</td>\n",
              "      <td>16234.800677</td>\n",
              "      <td>3.536697</td>\n",
              "      <td>0.124266</td>\n",
              "      <td>1.064024</td>\n",
              "      <td>11.546768</td>\n",
              "      <td>22.211027</td>\n",
              "      <td>12571.986331</td>\n",
              "      <td>25044.230244</td>\n",
              "      <td>1.746479</td>\n",
              "      <td>0.206015</td>\n",
              "      <td>0.379613</td>\n",
              "    </tr>\n",
              "    <tr>\n",
              "      <th>min</th>\n",
              "      <td>18.000000</td>\n",
              "      <td>1.000000</td>\n",
              "      <td>1.000000</td>\n",
              "      <td>2736.000000</td>\n",
              "      <td>3.000000</td>\n",
              "      <td>0.000000</td>\n",
              "      <td>1.000000</td>\n",
              "      <td>1.000000</td>\n",
              "      <td>1.000000</td>\n",
              "      <td>16830.000000</td>\n",
              "      <td>5000.000000</td>\n",
              "      <td>0.000000</td>\n",
              "      <td>0.000000</td>\n",
              "      <td>0.000000</td>\n",
              "    </tr>\n",
              "    <tr>\n",
              "      <th>25%</th>\n",
              "      <td>28.000000</td>\n",
              "      <td>3.000000</td>\n",
              "      <td>14.000000</td>\n",
              "      <td>14908.000000</td>\n",
              "      <td>10.000000</td>\n",
              "      <td>0.379495</td>\n",
              "      <td>2.000000</td>\n",
              "      <td>2.000000</td>\n",
              "      <td>25.000000</td>\n",
              "      <td>25520.000000</td>\n",
              "      <td>25000.000000</td>\n",
              "      <td>1.000000</td>\n",
              "      <td>0.000000</td>\n",
              "      <td>0.000000</td>\n",
              "    </tr>\n",
              "    <tr>\n",
              "      <th>50%</th>\n",
              "      <td>34.000000</td>\n",
              "      <td>3.000000</td>\n",
              "      <td>14.000000</td>\n",
              "      <td>21229.000000</td>\n",
              "      <td>10.000000</td>\n",
              "      <td>0.461599</td>\n",
              "      <td>4.000000</td>\n",
              "      <td>19.000000</td>\n",
              "      <td>40.000000</td>\n",
              "      <td>27390.000000</td>\n",
              "      <td>35000.000000</td>\n",
              "      <td>2.000000</td>\n",
              "      <td>0.000000</td>\n",
              "      <td>0.000000</td>\n",
              "    </tr>\n",
              "    <tr>\n",
              "      <th>75%</th>\n",
              "      <td>43.000000</td>\n",
              "      <td>4.000000</td>\n",
              "      <td>14.000000</td>\n",
              "      <td>32068.000000</td>\n",
              "      <td>12.000000</td>\n",
              "      <td>0.552404</td>\n",
              "      <td>4.000000</td>\n",
              "      <td>28.000000</td>\n",
              "      <td>63.000000</td>\n",
              "      <td>42460.000000</td>\n",
              "      <td>50000.000000</td>\n",
              "      <td>3.000000</td>\n",
              "      <td>0.000000</td>\n",
              "      <td>0.000000</td>\n",
              "    </tr>\n",
              "    <tr>\n",
              "      <th>max</th>\n",
              "      <td>71.000000</td>\n",
              "      <td>5.000000</td>\n",
              "      <td>18.000000</td>\n",
              "      <td>200000.000000</td>\n",
              "      <td>36.000000</td>\n",
              "      <td>1.128291</td>\n",
              "      <td>5.000000</td>\n",
              "      <td>33.000000</td>\n",
              "      <td>82.000000</td>\n",
              "      <td>66880.000000</td>\n",
              "      <td>950000.000000</td>\n",
              "      <td>21.000000</td>\n",
              "      <td>3.000000</td>\n",
              "      <td>1.000000</td>\n",
              "    </tr>\n",
              "  </tbody>\n",
              "</table>\n",
              "</div>"
            ],
            "text/plain": [
              "                 age  marital_status   job_position     credit_sum  \\\n",
              "count  170744.000000   170744.000000  170744.000000  170744.000000   \n",
              "mean       36.497312        3.197582      13.160006   26095.251971   \n",
              "std        10.546067        0.738564       3.132438   16234.800677   \n",
              "min        18.000000        1.000000       1.000000    2736.000000   \n",
              "25%        28.000000        3.000000      14.000000   14908.000000   \n",
              "50%        34.000000        3.000000      14.000000   21229.000000   \n",
              "75%        43.000000        4.000000      14.000000   32068.000000   \n",
              "max        71.000000        5.000000      18.000000  200000.000000   \n",
              "\n",
              "       credit_length        scoring      education      tariff_id  \\\n",
              "count  170744.000000  170744.000000  170744.000000  170744.000000   \n",
              "mean       10.980784       0.469472       3.202719      14.118839   \n",
              "std         3.536697       0.124266       1.064024      11.546768   \n",
              "min         3.000000       0.000000       1.000000       1.000000   \n",
              "25%        10.000000       0.379495       2.000000       2.000000   \n",
              "50%        10.000000       0.461599       4.000000      19.000000   \n",
              "75%        12.000000       0.552404       4.000000      28.000000   \n",
              "max        36.000000       1.128291       5.000000      33.000000   \n",
              "\n",
              "              region  average_region_wage         income   credit_count  \\\n",
              "count  170744.000000        170744.000000  170744.000000  170744.000000   \n",
              "mean       42.996580         32951.140069   40138.484058       2.047445   \n",
              "std        22.211027         12571.986331   25044.230244       1.746479   \n",
              "min         1.000000         16830.000000    5000.000000       0.000000   \n",
              "25%        25.000000         25520.000000   25000.000000       1.000000   \n",
              "50%        40.000000         27390.000000   35000.000000       2.000000   \n",
              "75%        63.000000         42460.000000   50000.000000       3.000000   \n",
              "max        82.000000         66880.000000  950000.000000      21.000000   \n",
              "\n",
              "       overdue_count          churn  \n",
              "count  170744.000000  128058.000000  \n",
              "mean        0.043580       0.174585  \n",
              "std         0.206015       0.379613  \n",
              "min         0.000000       0.000000  \n",
              "25%         0.000000       0.000000  \n",
              "50%         0.000000       0.000000  \n",
              "75%         0.000000       0.000000  \n",
              "max         3.000000       1.000000  "
            ]
          },
          "execution_count": 9,
          "metadata": {},
          "output_type": "execute_result"
        }
      ],
      "source": [
        "df.describe()"
      ]
    },
    {
      "cell_type": "code",
      "execution_count": 10,
      "metadata": {
        "colab": {
          "base_uri": "https://localhost:8080/"
        },
        "id": "ZFoCNiTG6ybg",
        "outputId": "bc83e418-bcf8-480d-b849-afa5ddea2950"
      },
      "outputs": [
        {
          "data": {
            "text/plain": [
              "0.0    105701\n",
              "1.0     22357\n",
              "Name: churn, dtype: int64"
            ]
          },
          "execution_count": 10,
          "metadata": {},
          "output_type": "execute_result"
        }
      ],
      "source": [
        "all_classes = df['churn'].value_counts()\n",
        "all_classes"
      ]
    },
    {
      "cell_type": "markdown",
      "metadata": {
        "id": "Lws7VF1c8coD"
      },
      "source": [
        "Видим дисбаланс в данных, что скажется на результатах работы с построением модели (к тому же количество данных не позволяет нам это оставить без внимания, так как выборки на train и test довольно малы). Необходимо устранить этот дисбаланс."
      ]
    },
    {
      "cell_type": "code",
      "execution_count": 11,
      "metadata": {
        "id": "EQZiMaZhudmB"
      },
      "outputs": [],
      "source": [
        "# make df for scores\n",
        "scores = pd.DataFrame()"
      ]
    },
    {
      "cell_type": "markdown",
      "metadata": {
        "id": "2mIYPNI4NmDX"
      },
      "source": [
        "# Make models for prediction"
      ]
    },
    {
      "cell_type": "code",
      "execution_count": 12,
      "metadata": {
        "id": "_Kuzf83dj7PC"
      },
      "outputs": [],
      "source": [
        "'''\n",
        "PR AUC представляет собой площадь под кривой Precision-Recall.\n",
        "Чем ближе значение PR AUC к 1, тем лучше модель способна различать классы.\n",
        "Высокие значения PR AUC указывают на эффективность модели в выявлении положительных случаев.\n",
        "\n",
        "Gini - это метрика, производная от AUC ROC (Area Under the Receiver Operating Characteristic curve).\n",
        "Эта метрика измеряет способность модели различать между двумя классами, что также показывает ее способность предсказывать классы.\n",
        "'''\n",
        "\n",
        "\n",
        "def pr_auc_and_gini(model, model_name, y_test, X_test, df):\n",
        "  #unique classes\n",
        "  class_labels = np.unique(y_test)\n",
        "\n",
        "  # list for all classes\n",
        "  pr_auc_scores = []\n",
        "  gini_coefficients = []\n",
        "\n",
        "  # probability for all classes\n",
        "  y_prob = model.predict_proba(X_test)\n",
        "\n",
        "  for class_label in class_labels:\n",
        "      # indexes\n",
        "      class_index = np.where(model.classes_ == class_label)[0][0]\n",
        "      y_prob_class = y_prob[:, class_index]\n",
        "      y_true_class = (y_test == class_label).astype(int)\n",
        "\n",
        "      # calculating PR AUC for the class\n",
        "      precision, recall, _ = precision_recall_curve(y_true_class, y_prob_class)\n",
        "      pr_auc = auc(recall, precision)\n",
        "      pr_auc_scores.append(pr_auc)\n",
        "\n",
        "      # calculating Gini for the class\n",
        "      roc_auc = roc_auc_score(y_true_class, y_prob_class)\n",
        "      gini_coefficient = 2 * roc_auc - 1\n",
        "      gini_coefficients.append(gini_coefficient)\n",
        "\n",
        "  # printing the results\n",
        "  for i, class_label in enumerate(class_labels):\n",
        "    data = {\n",
        "            'Model': model_name,\n",
        "            'Class': class_label,\n",
        "            'PR AUC': pr_auc_scores[i],\n",
        "            'Gini': gini_coefficients[i]\n",
        "            }\n",
        "    print(data)\n",
        "    df = df.append(data, ignore_index=True)\n",
        "\n",
        "  return df"
      ]
    },
    {
      "cell_type": "code",
      "execution_count": 13,
      "metadata": {
        "id": "ht1jQKb6LVxx"
      },
      "outputs": [],
      "source": [
        "# make the sample\n",
        "X_train = df[~df.churn.isnull()].drop('churn', axis=1) # features\n",
        "X_test =  df[df.churn.isnull()].drop('churn', axis=1)\n",
        "y_train = df[~df.churn.isnull()]['churn']  # target\n",
        "\n",
        "# solve the proble with disbalance\n",
        "smote = SMOTE(random_state=42)\n",
        "X_resampled, y_resampled = smote.fit_resample(X_train, y_train)\n",
        "\n",
        "# define train and test samples\n",
        "# with SMOTE\n",
        "X_train_tr, X_test_tr, y_train_tr, y_test_tr = train_test_split(X_resampled, y_resampled, test_size=0.2, random_state=42)\n",
        "\n",
        "# non-balanced\n",
        "X_train_tr1, X_test_tr1, y_train_tr1, y_test_tr1 = train_test_split(X_train, y_train, test_size=0.2, random_state=42)\n",
        "\n",
        "# droped data\n",
        "df_for_drop = df[~df.churn.isnull()]\n",
        "\n",
        "class_0 = df_for_drop[df_for_drop['churn'] == 0]\n",
        "class_1 = df_for_drop[df_for_drop['churn'] == 1]\n",
        "\n",
        "count_class_0, count_class_1 = df_for_drop['churn'].value_counts()\n",
        "undersampled_class_0 = class_0.sample(count_class_1)\n",
        "\n",
        "undersampled_df = pd.concat([undersampled_class_0, class_1], axis=0)\n",
        "\n",
        "X_train_tr2, X_test_tr2, y_train_tr2, y_test_tr2 = train_test_split(undersampled_df.drop('churn', axis=1), undersampled_df['churn'], test_size=0.2, random_state=42)"
      ]
    },
    {
      "cell_type": "code",
      "execution_count": 14,
      "metadata": {
        "colab": {
          "base_uri": "https://localhost:8080/"
        },
        "id": "8UQ6n8hOrOOs",
        "outputId": "c9a41127-5ef6-4f88-ab3b-994e10546e34"
      },
      "outputs": [
        {
          "data": {
            "text/plain": [
              "0.0    105701\n",
              "1.0    105701\n",
              "Name: churn, dtype: int64"
            ]
          },
          "execution_count": 14,
          "metadata": {},
          "output_type": "execute_result"
        }
      ],
      "source": [
        "#the sample is balanced\n",
        "y_resampled.value_counts()"
      ]
    },
    {
      "cell_type": "markdown",
      "metadata": {
        "id": "ITej1hqtYZUv"
      },
      "source": [
        "## The best model: CatBoosting"
      ]
    },
    {
      "cell_type": "code",
      "execution_count": 15,
      "metadata": {
        "colab": {
          "base_uri": "https://localhost:8080/"
        },
        "id": "mFKZ8kV2Ybbw",
        "outputId": "e9d23ff3-08e1-4950-9a93-8ff230f13ce3"
      },
      "outputs": [
        {
          "name": "stdout",
          "output_type": "stream",
          "text": [
            "--------------------------------------------------Final report of the model--------------------------------------------------\n",
            "Accuracy: 0.8947044771883352\n",
            "              precision    recall  f1-score   support\n",
            "\n",
            "         0.0       0.84      0.98      0.90     21186\n",
            "         1.0       0.97      0.81      0.89     21095\n",
            "\n",
            "    accuracy                           0.89     42281\n",
            "   macro avg       0.91      0.89      0.89     42281\n",
            "weighted avg       0.91      0.89      0.89     42281\n",
            "\n",
            "-----------------------------------------------------------------------------------------------------------------------------\n",
            "{'Model': 'CatBoostClassifier', 'Class': 0.0, 'PR AUC': 0.9341993886127304, 'Gini': 0.8988363095236098}\n",
            "{'Model': 'CatBoostClassifier', 'Class': 1.0, 'PR AUC': 0.9617720732085331, 'Gini': 0.8988363095236098}\n"
          ]
        }
      ],
      "source": [
        "model = CatBoostClassifier(iterations=300, learning_rate=0.1, depth=8, loss_function='CrossEntropy')\n",
        "\n",
        "model.fit(X_train_tr, y_train_tr, eval_set=(X_test_tr, y_test_tr), verbose=100)\n",
        "clear_output()\n",
        "y_pred = model.predict(X_test_tr)\n",
        "\n",
        "# calculate the score\n",
        "print('-'*50 + 'Final report of the model'+'-'*50)\n",
        "accuracy = accuracy_score(y_test_tr, y_pred)\n",
        "print(\"Accuracy:\", accuracy)\n",
        "print(classification_report(y_test_tr, y_pred))\n",
        "print('-'*125)\n",
        "scores = pr_auc_and_gini(model, 'CatBoostClassifier', y_test_tr, X_test_tr, scores)"
      ]
    },
    {
      "cell_type": "code",
      "execution_count": 16,
      "metadata": {
        "colab": {
          "base_uri": "https://localhost:8080/",
          "height": 542
        },
        "id": "bjd8QXPrlZF-",
        "outputId": "d9dc59ae-7e20-41f0-8923-c0b3a26f7366"
      },
      "outputs": [
        {
          "data": {
            "image/png": "[encoded data removed]",
            "text/plain": [
              "<Figure size 800x600 with 2 Axes>"
            ]
          },
          "metadata": {},
          "output_type": "display_data"
        }
      ],
      "source": [
        "conf_matrix = confusion_matrix(y_test_tr, y_pred)\n",
        "\n",
        "plt.figure(figsize=(8, 6))\n",
        "sns.heatmap(conf_matrix, annot=True, fmt=\"d\", cmap=\"Blues\")\n",
        "plt.xlabel('Предсказанные значения')\n",
        "plt.ylabel('Фактические значения')\n",
        "plt.show()"
      ]
    },
    {
      "cell_type": "markdown",
      "metadata": {
        "id": "9xQ2YozlreDP"
      },
      "source": [
        "# Conclusion"
      ]
    },
    {
      "cell_type": "code",
      "execution_count": 17,
      "metadata": {
        "colab": {
          "base_uri": "https://localhost:8080/",
          "height": 112
        },
        "id": "guGNpPOLwwBX",
        "outputId": "03e31616-032d-446e-f679-0c28eda610cd"
      },
      "outputs": [
        {
          "data": {
            "text/html": [
              "<style type=\"text/css\">\n",
              "#T_b87a6_row0_col2, #T_b87a6_row0_col3, #T_b87a6_row1_col2, #T_b87a6_row1_col3 {\n",
              "  background-color: green;\n",
              "}\n",
              "</style>\n",
              "<table id=\"T_b87a6\">\n",
              "  <thead>\n",
              "    <tr>\n",
              "      <th class=\"blank level0\" >&nbsp;</th>\n",
              "      <th id=\"T_b87a6_level0_col0\" class=\"col_heading level0 col0\" >Model</th>\n",
              "      <th id=\"T_b87a6_level0_col1\" class=\"col_heading level0 col1\" >Class</th>\n",
              "      <th id=\"T_b87a6_level0_col2\" class=\"col_heading level0 col2\" >PR AUC</th>\n",
              "      <th id=\"T_b87a6_level0_col3\" class=\"col_heading level0 col3\" >Gini</th>\n",
              "    </tr>\n",
              "  </thead>\n",
              "  <tbody>\n",
              "    <tr>\n",
              "      <th id=\"T_b87a6_level0_row0\" class=\"row_heading level0 row0\" >0</th>\n",
              "      <td id=\"T_b87a6_row0_col0\" class=\"data row0 col0\" >CatBoostClassifier</td>\n",
              "      <td id=\"T_b87a6_row0_col1\" class=\"data row0 col1\" >0.000000</td>\n",
              "      <td id=\"T_b87a6_row0_col2\" class=\"data row0 col2\" >0.934199</td>\n",
              "      <td id=\"T_b87a6_row0_col3\" class=\"data row0 col3\" >0.898836</td>\n",
              "    </tr>\n",
              "    <tr>\n",
              "      <th id=\"T_b87a6_level0_row1\" class=\"row_heading level0 row1\" >1</th>\n",
              "      <td id=\"T_b87a6_row1_col0\" class=\"data row1 col0\" >CatBoostClassifier</td>\n",
              "      <td id=\"T_b87a6_row1_col1\" class=\"data row1 col1\" >1.000000</td>\n",
              "      <td id=\"T_b87a6_row1_col2\" class=\"data row1 col2\" >0.961772</td>\n",
              "      <td id=\"T_b87a6_row1_col3\" class=\"data row1 col3\" >0.898836</td>\n",
              "    </tr>\n",
              "  </tbody>\n",
              "</table>\n"
            ],
            "text/plain": [
              "<pandas.io.formats.style.Styler at 0x7f779ca4f4c0>"
            ]
          },
          "execution_count": 17,
          "metadata": {},
          "output_type": "execute_result"
        }
      ],
      "source": [
        "# it was made for many models to compare it\n",
        "\n",
        "def highlight_gt_08(val):\n",
        "  try:\n",
        "    if float(val) > 0.8:\n",
        "      return 'background-color: green'\n",
        "    else:\n",
        "        return ''\n",
        "  except ValueError:\n",
        "        pass\n",
        "\n",
        "columns_to_highlight = ['PR AUC', 'Gini']\n",
        "styled_scores = scores.style.applymap(highlight_gt_08, subset=pd.IndexSlice[:, columns_to_highlight])\n",
        "styled_scores"
      ]
    },
    {
      "cell_type": "code",
      "execution_count": 18,
      "metadata": {
        "colab": {
          "base_uri": "https://localhost:8080/",
          "height": 112
        },
        "id": "GS60PuAy2arE",
        "outputId": "1c26d0b3-2f6b-4c91-fedc-20cf9c30738b"
      },
      "outputs": [
        {
          "data": {
            "text/html": [
              "<div>\n",
              "<style scoped>\n",
              "    .dataframe tbody tr th:only-of-type {\n",
              "        vertical-align: middle;\n",
              "    }\n",
              "\n",
              "    .dataframe tbody tr th {\n",
              "        vertical-align: top;\n",
              "    }\n",
              "\n",
              "    .dataframe thead th {\n",
              "        text-align: right;\n",
              "    }\n",
              "</style>\n",
              "<table border=\"1\" class=\"dataframe\">\n",
              "  <thead>\n",
              "    <tr style=\"text-align: right;\">\n",
              "      <th></th>\n",
              "      <th>PR AUC</th>\n",
              "      <th>Gini</th>\n",
              "    </tr>\n",
              "    <tr>\n",
              "      <th>Model</th>\n",
              "      <th></th>\n",
              "      <th></th>\n",
              "    </tr>\n",
              "  </thead>\n",
              "  <tbody>\n",
              "    <tr>\n",
              "      <th>CatBoostClassifier</th>\n",
              "      <td>0.947986</td>\n",
              "      <td>0.898836</td>\n",
              "    </tr>\n",
              "  </tbody>\n",
              "</table>\n",
              "</div>"
            ],
            "text/plain": [
              "                      PR AUC      Gini\n",
              "Model                                 \n",
              "CatBoostClassifier  0.947986  0.898836"
            ]
          },
          "execution_count": 18,
          "metadata": {},
          "output_type": "execute_result"
        }
      ],
      "source": [
        "grouped_models = scores.groupby('Model')[['PR AUC', 'Gini']].mean()\n",
        "grouped_models"
      ]
    },
    {
      "cell_type": "code",
      "execution_count": 19,
      "metadata": {
        "colab": {
          "base_uri": "https://localhost:8080/",
          "height": 143
        },
        "id": "nbjUxFha3pX2",
        "outputId": "3e279b28-299c-4158-a8cf-5374839b31ad"
      },
      "outputs": [
        {
          "data": {
            "text/html": [
              "<div>\n",
              "<style scoped>\n",
              "    .dataframe tbody tr th:only-of-type {\n",
              "        vertical-align: middle;\n",
              "    }\n",
              "\n",
              "    .dataframe tbody tr th {\n",
              "        vertical-align: top;\n",
              "    }\n",
              "\n",
              "    .dataframe thead th {\n",
              "        text-align: right;\n",
              "    }\n",
              "</style>\n",
              "<table border=\"1\" class=\"dataframe\">\n",
              "  <thead>\n",
              "    <tr style=\"text-align: right;\">\n",
              "      <th></th>\n",
              "      <th>PR AUC</th>\n",
              "      <th>Gini</th>\n",
              "    </tr>\n",
              "    <tr>\n",
              "      <th>Class</th>\n",
              "      <th></th>\n",
              "      <th></th>\n",
              "    </tr>\n",
              "  </thead>\n",
              "  <tbody>\n",
              "    <tr>\n",
              "      <th>0.0</th>\n",
              "      <td>0.934199</td>\n",
              "      <td>0.898836</td>\n",
              "    </tr>\n",
              "    <tr>\n",
              "      <th>1.0</th>\n",
              "      <td>0.961772</td>\n",
              "      <td>0.898836</td>\n",
              "    </tr>\n",
              "  </tbody>\n",
              "</table>\n",
              "</div>"
            ],
            "text/plain": [
              "         PR AUC      Gini\n",
              "Class                    \n",
              "0.0    0.934199  0.898836\n",
              "1.0    0.961772  0.898836"
            ]
          },
          "execution_count": 19,
          "metadata": {},
          "output_type": "execute_result"
        }
      ],
      "source": [
        "grouped_class = scores.groupby('Class')[['PR AUC', 'Gini']].mean()\n",
        "grouped_class"
      ]
    },
    {
      "cell_type": "markdown",
      "metadata": {
        "id": "FdbH319KLH9M"
      },
      "source": [
        "# Make prediction for all data"
      ]
    },
    {
      "cell_type": "markdown",
      "metadata": {},
      "source": [
        "# Валидация (Эрдэни)"
      ]
    },
    {
      "cell_type": "code",
      "execution_count": 20,
      "metadata": {
        "id": "x5wCPwtOLGEi"
      },
      "outputs": [],
      "source": [
        "model = CatBoostClassifier(iterations=300, learning_rate=0.1, depth=8, loss_function='CrossEntropy')\n",
        "\n",
        "model.fit(X_train, y_train, verbose=100)\n",
        "clear_output()\n",
        "y_pred = model.predict(X_test)"
      ]
    },
    {
      "cell_type": "code",
      "execution_count": 22,
      "metadata": {},
      "outputs": [
        {
          "data": {
            "text/plain": [
              "array([0, 1, 0, ..., 0, 0, 0])"
            ]
          },
          "execution_count": 22,
          "metadata": {},
          "output_type": "execute_result"
        }
      ],
      "source": [
        "df_true = pd.read_csv(\"churn_y_true.csv\")\n",
        "y_true = df_true['churn'].values\n",
        "y_true"
      ]
    },
    {
      "cell_type": "code",
      "execution_count": 23,
      "metadata": {},
      "outputs": [
        {
          "data": {
            "text/plain": [
              "0.7691275067581411"
            ]
          },
          "execution_count": 23,
          "metadata": {},
          "output_type": "execute_result"
        }
      ],
      "source": [
        "f1_score(y_true, y_pred, average='weighted')"
      ]
    },
    {
      "cell_type": "code",
      "execution_count": 21,
      "metadata": {
        "id": "m1MqNHuRLZqv"
      },
      "outputs": [],
      "source": [
        "np.savetxt('Yana_Ivanova_test_2.csv', y_pred, delimiter=',')"
      ]
    }
  ],
  "metadata": {
    "colab": {
      "provenance": []
    },
    "kernelspec": {
      "display_name": "Python 3",
      "name": "python3"
    },
    "language_info": {
      "codemirror_mode": {
        "name": "ipython",
        "version": 3
      },
      "file_extension": ".py",
      "mimetype": "text/x-python",
      "name": "python",
      "nbconvert_exporter": "python",
      "pygments_lexer": "ipython3",
      "version": "3.10.9"
    }
  },
  "nbformat": 4,
  "nbformat_minor": 0
}

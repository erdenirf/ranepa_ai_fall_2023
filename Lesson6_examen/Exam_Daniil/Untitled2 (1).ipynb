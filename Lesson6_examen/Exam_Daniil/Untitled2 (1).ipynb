{
  "cells": [
    {
      "cell_type": "code",
      "execution_count": 1,
      "metadata": {
        "id": "O9cyMFkjkpHI"
      },
      "outputs": [
        {
          "name": "stdout",
          "output_type": "stream",
          "text": [
            "Defaulting to user installation because normal site-packages is not writeable\n",
            "Collecting catboost\n",
            "  Obtaining dependency information for catboost from https://files.pythonhosted.org/packages/6d/cc/bc14c8580740f05159fb0d2245978672eff9b2994c502f6b8523727b62f4/catboost-1.2.2-cp311-cp311-manylinux2014_x86_64.whl.metadata\n",
            "  Downloading catboost-1.2.2-cp311-cp311-manylinux2014_x86_64.whl.metadata (1.2 kB)\n",
            "Collecting graphviz (from catboost)\n",
            "  Downloading graphviz-0.20.1-py3-none-any.whl (47 kB)\n",
            "\u001b[2K     \u001b[90m━━━━━━━━━━━━━━━━━━━━━━━━━━━━━━━━━━━━━━━\u001b[0m \u001b[32m47.0/47.0 kB\u001b[0m \u001b[31m307.7 kB/s\u001b[0m eta \u001b[36m0:00:00\u001b[0ma \u001b[36m0:00:01\u001b[0m\n",
            "\u001b[?25hRequirement already satisfied: matplotlib in /opt/anaconda3/lib/python3.11/site-packages (from catboost) (3.7.2)\n",
            "Requirement already satisfied: numpy>=1.16.0 in /opt/anaconda3/lib/python3.11/site-packages (from catboost) (1.24.3)\n",
            "Requirement already satisfied: pandas>=0.24 in /opt/anaconda3/lib/python3.11/site-packages (from catboost) (2.0.3)\n",
            "Requirement already satisfied: scipy in /opt/anaconda3/lib/python3.11/site-packages (from catboost) (1.11.1)\n",
            "Requirement already satisfied: plotly in /opt/anaconda3/lib/python3.11/site-packages (from catboost) (5.9.0)\n",
            "Requirement already satisfied: six in /opt/anaconda3/lib/python3.11/site-packages (from catboost) (1.16.0)\n",
            "Requirement already satisfied: python-dateutil>=2.8.2 in /opt/anaconda3/lib/python3.11/site-packages (from pandas>=0.24->catboost) (2.8.2)\n",
            "Requirement already satisfied: pytz>=2020.1 in /opt/anaconda3/lib/python3.11/site-packages (from pandas>=0.24->catboost) (2023.3.post1)\n",
            "Requirement already satisfied: tzdata>=2022.1 in /opt/anaconda3/lib/python3.11/site-packages (from pandas>=0.24->catboost) (2023.3)\n",
            "Requirement already satisfied: contourpy>=1.0.1 in /opt/anaconda3/lib/python3.11/site-packages (from matplotlib->catboost) (1.0.5)\n",
            "Requirement already satisfied: cycler>=0.10 in /opt/anaconda3/lib/python3.11/site-packages (from matplotlib->catboost) (0.11.0)\n",
            "Requirement already satisfied: fonttools>=4.22.0 in /opt/anaconda3/lib/python3.11/site-packages (from matplotlib->catboost) (4.25.0)\n",
            "Requirement already satisfied: kiwisolver>=1.0.1 in /opt/anaconda3/lib/python3.11/site-packages (from matplotlib->catboost) (1.4.4)\n",
            "Requirement already satisfied: packaging>=20.0 in /opt/anaconda3/lib/python3.11/site-packages (from matplotlib->catboost) (23.1)\n",
            "Requirement already satisfied: pillow>=6.2.0 in /opt/anaconda3/lib/python3.11/site-packages (from matplotlib->catboost) (9.4.0)\n",
            "Requirement already satisfied: pyparsing<3.1,>=2.3.1 in /opt/anaconda3/lib/python3.11/site-packages (from matplotlib->catboost) (3.0.9)\n",
            "Requirement already satisfied: tenacity>=6.2.0 in /opt/anaconda3/lib/python3.11/site-packages (from plotly->catboost) (8.2.2)\n",
            "Downloading catboost-1.2.2-cp311-cp311-manylinux2014_x86_64.whl (98.7 MB)\n",
            "\u001b[2K   \u001b[90m━━━━━━━━━━━━━━━━━━━━━━━━━━━━━━━━━━━━━━━━\u001b[0m \u001b[32m98.7/98.7 MB\u001b[0m \u001b[31m10.7 MB/s\u001b[0m eta \u001b[36m0:00:00\u001b[0m00:01\u001b[0m00:01\u001b[0m\n",
            "\u001b[?25hInstalling collected packages: graphviz, catboost\n",
            "Successfully installed catboost-1.2.2 graphviz-0.20.1\n"
          ]
        }
      ],
      "source": [
        "!pip install catboost"
      ]
    },
    {
      "cell_type": "code",
      "execution_count": 2,
      "metadata": {
        "id": "hpYBb2aSmopE"
      },
      "outputs": [],
      "source": [
        "import pandas as pd\n",
        "from catboost import CatBoostRegressor\n",
        "from sklearn.model_selection import train_test_split\n",
        "from sklearn.metrics import mean_squared_error"
      ]
    },
    {
      "cell_type": "code",
      "execution_count": 3,
      "metadata": {
        "id": "vlj7wOhpm1vH"
      },
      "outputs": [],
      "source": [
        "train = pd.read_csv('house_train.csv',index_col=0)\n",
        "test = pd.read_csv('house_test.csv',index_col=0)"
      ]
    },
    {
      "cell_type": "code",
      "execution_count": 22,
      "metadata": {
        "id": "zVXvPVhbp8Z4"
      },
      "outputs": [],
      "source": [
        "train = train.fillna(0)\n",
        "test = test.fillna(0)"
      ]
    },
    {
      "cell_type": "code",
      "execution_count": 5,
      "metadata": {
        "id": "JhoMMT9Zpt5n"
      },
      "outputs": [],
      "source": [
        "cat_features = list(set(train.columns) - set(train.describe().columns))"
      ]
    },
    {
      "cell_type": "code",
      "execution_count": 6,
      "metadata": {
        "id": "9Ss4dzLOoQS_"
      },
      "outputs": [],
      "source": [
        "X = train.drop('SalePrice',axis=1)"
      ]
    },
    {
      "cell_type": "code",
      "execution_count": 7,
      "metadata": {
        "id": "mDvi_-94m6r4"
      },
      "outputs": [],
      "source": [
        "X_train, X_test, y_train, y_test = train_test_split(X, train['SalePrice'], test_size=0.2, random_state=42)"
      ]
    },
    {
      "cell_type": "code",
      "execution_count": 8,
      "metadata": {
        "id": "Ku4Cx793nn3a"
      },
      "outputs": [
        {
          "name": "stdout",
          "output_type": "stream",
          "text": [
            "Learning rate set to 0.012242\n",
            "0:\tlearn: 75978.3967655\ttest: 82709.7039676\tbest: 82709.7039676 (0)\ttotal: 55.4ms\tremaining: 9m 13s\n",
            "1000:\tlearn: 16171.2499397\ttest: 30187.3927211\tbest: 30187.3927211 (1000)\ttotal: 3.62s\tremaining: 32.6s\n",
            "2000:\tlearn: 12467.0952063\ttest: 29412.0111767\tbest: 29412.0111767 (2000)\ttotal: 7.46s\tremaining: 29.8s\n",
            "3000:\tlearn: 9929.6194861\ttest: 28915.7781203\tbest: 28915.7781203 (3000)\ttotal: 11.6s\tremaining: 27.2s\n",
            "4000:\tlearn: 8294.5630444\ttest: 28676.3414668\tbest: 28676.3414668 (4000)\ttotal: 15.4s\tremaining: 23.2s\n",
            "5000:\tlearn: 7082.9674714\ttest: 28484.9213910\tbest: 28484.9213910 (5000)\ttotal: 19.3s\tremaining: 19.3s\n",
            "6000:\tlearn: 6190.4999649\ttest: 28316.9864780\tbest: 28316.9864780 (6000)\ttotal: 23.1s\tremaining: 15.4s\n",
            "7000:\tlearn: 5454.1474190\ttest: 28214.5220443\tbest: 28214.5220443 (7000)\ttotal: 26.8s\tremaining: 11.5s\n",
            "8000:\tlearn: 4855.1143125\ttest: 28124.3643590\tbest: 28124.3643590 (8000)\ttotal: 30.6s\tremaining: 7.64s\n",
            "9000:\tlearn: 4340.2570656\ttest: 28089.8455844\tbest: 28089.8455844 (9000)\ttotal: 34.4s\tremaining: 3.82s\n",
            "9999:\tlearn: 3886.0193155\ttest: 28032.4977117\tbest: 28032.4977117 (9999)\ttotal: 38.2s\tremaining: 0us\n",
            "\n",
            "bestTest = 28032.49771\n",
            "bestIteration = 9999\n",
            "\n"
          ]
        },
        {
          "data": {
            "text/plain": [
              "<catboost.core.CatBoostRegressor at 0x7fc431b77590>"
            ]
          },
          "execution_count": 8,
          "metadata": {},
          "output_type": "execute_result"
        }
      ],
      "source": [
        "model = CatBoostRegressor(\n",
        "    iterations=1e4, depth=5,\n",
        "    loss_function='RMSE', verbose=True,metric_period=int(1e3),\n",
        "    cat_features=cat_features)\n",
        "\n",
        "model.fit(X_train, y_train,eval_set=(X_test,y_test))"
      ]
    },
    {
      "cell_type": "code",
      "execution_count": 9,
      "metadata": {
        "id": "mFmTRkBkq4Vf"
      },
      "outputs": [],
      "source": [
        "importances = model.get_feature_importance()\n",
        "feature_importances = pd.Series(importances, index=X_train.columns).sort_values(ascending=False).reset_index()"
      ]
    },
    {
      "cell_type": "code",
      "execution_count": 10,
      "metadata": {
        "id": "61NsGuX4tJ0T"
      },
      "outputs": [],
      "source": [
        "trimmed_feat = list(feature_importances[feature_importances[0] >= 2]['index'])\n",
        "cat_features = list(set(train[trimmed_feat].columns) - set(train[trimmed_feat].describe().columns))"
      ]
    },
    {
      "cell_type": "code",
      "execution_count": 11,
      "metadata": {
        "id": "YAXR3fXit0HW"
      },
      "outputs": [
        {
          "name": "stdout",
          "output_type": "stream",
          "text": [
            "Learning rate set to 0.012242\n",
            "0:\tlearn: 75959.0141205\ttest: 82685.3766728\tbest: 82685.3766728 (0)\ttotal: 1.62ms\tremaining: 16.2s\n"
          ]
        },
        {
          "name": "stdout",
          "output_type": "stream",
          "text": [
            "1000:\tlearn: 18233.4337779\ttest: 29055.8318342\tbest: 29055.8318342 (1000)\ttotal: 771ms\tremaining: 6.93s\n",
            "2000:\tlearn: 14668.2819501\ttest: 28807.9680623\tbest: 28807.9680623 (2000)\ttotal: 1.5s\tremaining: 6.01s\n",
            "3000:\tlearn: 12592.7562536\ttest: 28971.9900533\tbest: 28807.9680623 (2000)\ttotal: 2.25s\tremaining: 5.24s\n",
            "4000:\tlearn: 10945.4164106\ttest: 29019.8720475\tbest: 28807.9680623 (2000)\ttotal: 3.01s\tremaining: 4.52s\n",
            "5000:\tlearn: 9581.0869812\ttest: 29074.0580552\tbest: 28807.9680623 (2000)\ttotal: 3.77s\tremaining: 3.77s\n",
            "6000:\tlearn: 8461.4195742\ttest: 29202.9624973\tbest: 28807.9680623 (2000)\ttotal: 4.54s\tremaining: 3.02s\n",
            "7000:\tlearn: 7486.1240061\ttest: 29290.0559693\tbest: 28807.9680623 (2000)\ttotal: 5.32s\tremaining: 2.28s\n",
            "8000:\tlearn: 6717.1787566\ttest: 29362.9042918\tbest: 28807.9680623 (2000)\ttotal: 6.1s\tremaining: 1.52s\n",
            "9000:\tlearn: 6055.0655879\ttest: 29414.4958777\tbest: 28807.9680623 (2000)\ttotal: 6.88s\tremaining: 764ms\n",
            "9999:\tlearn: 5515.2837423\ttest: 29445.5946416\tbest: 28807.9680623 (2000)\ttotal: 7.68s\tremaining: 0us\n",
            "\n",
            "bestTest = 28807.96806\n",
            "bestIteration = 2000\n",
            "\n",
            "Shrink model to first 2001 iterations.\n"
          ]
        },
        {
          "data": {
            "text/plain": [
              "<catboost.core.CatBoostRegressor at 0x7fc431be9750>"
            ]
          },
          "execution_count": 11,
          "metadata": {},
          "output_type": "execute_result"
        }
      ],
      "source": [
        "model = CatBoostRegressor(\n",
        "    iterations=1e4, depth=5,\n",
        "    loss_function='RMSE', verbose=True,metric_period=int(1e3),\n",
        "    cat_features=cat_features)\n",
        "\n",
        "model.fit(X_train[trimmed_feat], y_train, eval_set=(X_test[trimmed_feat],y_test))"
      ]
    },
    {
      "cell_type": "code",
      "execution_count": 12,
      "metadata": {
        "id": "c_UiNgyfvUA3"
      },
      "outputs": [],
      "source": [
        "predictions = model.predict(X_test[trimmed_feat])"
      ]
    },
    {
      "cell_type": "code",
      "execution_count": 13,
      "metadata": {},
      "outputs": [
        {
          "data": {
            "text/plain": [
              "219"
            ]
          },
          "execution_count": 13,
          "metadata": {},
          "output_type": "execute_result"
        }
      ],
      "source": [
        "len(predictions)"
      ]
    },
    {
      "cell_type": "code",
      "execution_count": 14,
      "metadata": {},
      "outputs": [
        {
          "data": {
            "text/plain": [
              "28807.968062252257"
            ]
          },
          "execution_count": 14,
          "metadata": {},
          "output_type": "execute_result"
        }
      ],
      "source": [
        "mean_squared_error(y_test, predictions, squared=False)"
      ]
    },
    {
      "cell_type": "markdown",
      "metadata": {},
      "source": [
        "# Валидация (Эрдэни)"
      ]
    },
    {
      "cell_type": "code",
      "execution_count": 23,
      "metadata": {},
      "outputs": [],
      "source": [
        "y_pred = model.predict(test[trimmed_feat])"
      ]
    },
    {
      "cell_type": "code",
      "execution_count": 16,
      "metadata": {},
      "outputs": [
        {
          "data": {
            "text/plain": [
              "365"
            ]
          },
          "execution_count": 16,
          "metadata": {},
          "output_type": "execute_result"
        }
      ],
      "source": [
        "df_true = pd.read_csv(\"house_y_true.csv\")\n",
        "y_true = df_true['SalePrice'].values\n",
        "len(y_true)"
      ]
    },
    {
      "cell_type": "code",
      "execution_count": 24,
      "metadata": {},
      "outputs": [
        {
          "data": {
            "text/plain": [
              "28107.736635064302"
            ]
          },
          "execution_count": 24,
          "metadata": {},
          "output_type": "execute_result"
        }
      ],
      "source": [
        "mean_squared_error(y_true, y_pred, squared=False)"
      ]
    }
  ],
  "metadata": {
    "colab": {
      "private_outputs": true,
      "provenance": []
    },
    "kernelspec": {
      "display_name": "Python 3",
      "name": "python3"
    },
    "language_info": {
      "codemirror_mode": {
        "name": "ipython",
        "version": 3
      },
      "file_extension": ".py",
      "mimetype": "text/x-python",
      "name": "python",
      "nbconvert_exporter": "python",
      "pygments_lexer": "ipython3",
      "version": "3.11.5"
    }
  },
  "nbformat": 4,
  "nbformat_minor": 0
}
